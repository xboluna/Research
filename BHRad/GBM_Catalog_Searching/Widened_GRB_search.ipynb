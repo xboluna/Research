{
 "cells": [
  {
   "cell_type": "code",
   "execution_count": 2,
   "metadata": {},
   "outputs": [],
   "source": [
    "import pandas as pd\n",
    "import matplotlib.pyplot as plt\n",
    "import matplotlib\n",
    "import seaborn as sns\n",
    "import numpy as np\n",
    "from astropy.table import Table\n",
    "import warnings\n",
    "warnings.simplefilter(\"ignore\")\n",
    "\n",
    "import plotly.express as px"
   ]
  },
  {
   "cell_type": "markdown",
   "metadata": {},
   "source": [
    "- [The Catalog site](https://heasarc.gsfc.nasa.gov/db-perl/W3Browse/w3table.pl?tablehead=name%3Dfermilgrb&Action=More+Options)\n",
    "- [Feature key](https://heasarc.gsfc.nasa.gov/W3Browse/fermi/fermilgrb.html)\n",
    "\n",
    "You can check a burst's GBM detectors by putting its name into the [GRB burst catalog](https://heasarc.gsfc.nasa.gov/db-perl/W3Browse/w3table.pl?tablehead=name%3Dfermigbrst&Action=More+Options) and selecting the data products option \"D\".\n",
    "\n",
    "--- \n",
    "\n",
    "- FullCatalog.fits holds ALL GRB sources contained in the 2nd Fermi-LAT GRB Catalog\n",
    "- RS=null.fits holds GRBs which have a null in the redshift parameter\n",
    "---"
   ]
  },
  {
   "cell_type": "code",
   "execution_count": 3,
   "metadata": {},
   "outputs": [],
   "source": [
    "### Helper functions -- always run this cell\n",
    "\n",
    "def clean_data(targets):\n",
    "    # Cleans columns & GRB names\n",
    "    \n",
    "    # Remove trailing whitespace\n",
    "    targets = targets.rename(columns=lambda x: x.strip().lower())\n",
    "    # Cleans GRB names\n",
    "    targets['name'] = targets['name'].str.decode(\"utf-8\").replace('\\'','').replace(r\"^ +| +$\", r\"\", regex=True)#[1:]\n",
    "    #targets['gcn_name'] = targets['gcn_name'].str.decode(\"utf-8\").replace('\\'','').replace(r\"^ +| +$\", r\"\", regex=True)[1:]\n",
    "\n",
    "    return targets\n",
    "\n",
    "def propagate_error(a, b, e_a, e_b):\n",
    "    return np.abs(a/b) * np.sqrt( (e_a/a)**2 + (e_b/b) )\n",
    "\n",
    "def calculate_hardness(targets):\n",
    "    # Calculates flux, flux_ene & fluence ratios with corresponding error\n",
    "    targets['flux_ratio'] = targets['like_gbm_flux']/targets['like_lat_flux']\n",
    "    targets['flux_ene_ratio'] = targets['like_gbm_flux_ene']/targets['like_lat_flux_ene']\n",
    "    targets['fluence_ratio'] = targets['like_gbm_fluence']/targets['like_lat_fluence']\n",
    "    targets['hardness'] = targets['like_lat_fluence']/targets['like_gbm_fluence']\n",
    "\n",
    "\n",
    "\n",
    "    targets['flux_ratio_error'] = propagate_error(targets['like_gbm_flux'],\n",
    "                                                  targets['like_lat_flux'],\n",
    "                                                  targets['like_gbm_flux_error'],\n",
    "                                                  targets['like_lat_flux_error'])\n",
    "\n",
    "    targets['flux_ene_ratio_error'] = propagate_error(targets['like_gbm_flux_ene'],\n",
    "                                                      targets['like_lat_flux_ene'],\n",
    "                                                      targets['like_gbm_flux_ene_error'],\n",
    "                                                      targets['like_lat_flux_ene_error'])\n",
    "\n",
    "    targets['fluence_ratio_error'] = propagate_error(targets['like_gbm_fluence'],\n",
    "                                                      targets['like_lat_fluence'],\n",
    "                                                      targets['like_gbm_fluence_error'],\n",
    "                                                      targets['like_lat_fluence_error'])\n",
    "    \n",
    "    targets['hardness_error'] = propagate_error(targets['like_lat_fluence'],\n",
    "                                                targets['like_gbm_fluence'],\n",
    "                                                targets['like_lat_fluence_error'],\n",
    "                                                targets['like_gbm_fluence_error'])\n",
    "    return targets\n",
    "\n",
    "def calculate_time_difference(targets):\n",
    "    # Calculate like & gbm-lle time differences\n",
    "    targets['like_gbm-lat_time_difference'] = targets['like_gbm_t0'] - targets['like_lat_t0']\n",
    "    targets['gbm-lle_t90_difference'] = targets['gbm_cat_t90'] - targets['lle_t90']\n",
    "    return targets\n",
    "\n",
    "def calculate_ratio(targets):\n",
    "    # T90/T50 ratio + propagated error\n",
    "    # Only have T90/T50 for GBM which is fine, cause apparently LAT has lc index anyway\n",
    "    targets['gbm_t9050'] = targets['t90']/targets['t50']\n",
    "    targets['gbm_t9050_error'] = propagate_error(targets['t90'], targets['t50'], targets['t90_error'], targets['t50_error'])\n",
    "    return targets"
   ]
  },
  {
   "cell_type": "code",
   "execution_count": 4,
   "metadata": {},
   "outputs": [
    {
     "data": {
      "text/html": [
       "<div>\n",
       "<style scoped>\n",
       "    .dataframe tbody tr th:only-of-type {\n",
       "        vertical-align: middle;\n",
       "    }\n",
       "\n",
       "    .dataframe tbody tr th {\n",
       "        vertical-align: top;\n",
       "    }\n",
       "\n",
       "    .dataframe thead th {\n",
       "        text-align: right;\n",
       "    }\n",
       "</style>\n",
       "<table border=\"1\" class=\"dataframe\">\n",
       "  <thead>\n",
       "    <tr style=\"text-align: right;\">\n",
       "      <th></th>\n",
       "      <th>gbm_t9050</th>\n",
       "      <th>gbm_t9050_error</th>\n",
       "      <th>flux_ratio</th>\n",
       "      <th>flux_ene_ratio</th>\n",
       "      <th>fluence_ratio</th>\n",
       "      <th>hardness</th>\n",
       "      <th>flux_ratio_error</th>\n",
       "      <th>flux_ene_ratio_error</th>\n",
       "      <th>fluence_ratio_error</th>\n",
       "      <th>hardness_error</th>\n",
       "      <th>like_gbm-lat_time_difference</th>\n",
       "      <th>gbm-lle_t90_difference</th>\n",
       "    </tr>\n",
       "  </thead>\n",
       "  <tbody>\n",
       "    <tr>\n",
       "      <th>count</th>\n",
       "      <td>220.0</td>\n",
       "      <td>220.000000</td>\n",
       "      <td>223.0</td>\n",
       "      <td>223.0</td>\n",
       "      <td>223.0</td>\n",
       "      <td>223.0</td>\n",
       "      <td>157.0</td>\n",
       "      <td>157.0</td>\n",
       "      <td>157.0</td>\n",
       "      <td>157.0</td>\n",
       "      <td>231.0</td>\n",
       "      <td>231.0</td>\n",
       "    </tr>\n",
       "    <tr>\n",
       "      <th>unique</th>\n",
       "      <td>213.0</td>\n",
       "      <td>220.000000</td>\n",
       "      <td>159.0</td>\n",
       "      <td>159.0</td>\n",
       "      <td>159.0</td>\n",
       "      <td>159.0</td>\n",
       "      <td>143.0</td>\n",
       "      <td>143.0</td>\n",
       "      <td>143.0</td>\n",
       "      <td>143.0</td>\n",
       "      <td>222.0</td>\n",
       "      <td>226.0</td>\n",
       "    </tr>\n",
       "    <tr>\n",
       "      <th>top</th>\n",
       "      <td>2.0</td>\n",
       "      <td>0.198272</td>\n",
       "      <td>0.0</td>\n",
       "      <td>0.0</td>\n",
       "      <td>0.0</td>\n",
       "      <td>inf</td>\n",
       "      <td>0.0</td>\n",
       "      <td>0.0</td>\n",
       "      <td>0.0</td>\n",
       "      <td>0.0</td>\n",
       "      <td>0.0</td>\n",
       "      <td>60.0</td>\n",
       "    </tr>\n",
       "    <tr>\n",
       "      <th>freq</th>\n",
       "      <td>6.0</td>\n",
       "      <td>1.000000</td>\n",
       "      <td>58.0</td>\n",
       "      <td>58.0</td>\n",
       "      <td>58.0</td>\n",
       "      <td>58.0</td>\n",
       "      <td>15.0</td>\n",
       "      <td>15.0</td>\n",
       "      <td>15.0</td>\n",
       "      <td>15.0</td>\n",
       "      <td>8.0</td>\n",
       "      <td>3.0</td>\n",
       "    </tr>\n",
       "  </tbody>\n",
       "</table>\n",
       "</div>"
      ],
      "text/plain": [
       "        gbm_t9050  gbm_t9050_error  flux_ratio  flux_ene_ratio  fluence_ratio  \\\n",
       "count       220.0       220.000000       223.0           223.0          223.0   \n",
       "unique      213.0       220.000000       159.0           159.0          159.0   \n",
       "top           2.0         0.198272         0.0             0.0            0.0   \n",
       "freq          6.0         1.000000        58.0            58.0           58.0   \n",
       "\n",
       "        hardness  flux_ratio_error  flux_ene_ratio_error  fluence_ratio_error  \\\n",
       "count      223.0             157.0                 157.0                157.0   \n",
       "unique     159.0             143.0                 143.0                143.0   \n",
       "top          inf               0.0                   0.0                  0.0   \n",
       "freq        58.0              15.0                  15.0                 15.0   \n",
       "\n",
       "        hardness_error  like_gbm-lat_time_difference  gbm-lle_t90_difference  \n",
       "count            157.0                         231.0                   231.0  \n",
       "unique           143.0                         222.0                   226.0  \n",
       "top                0.0                           0.0                    60.0  \n",
       "freq              15.0                           8.0                     3.0  "
      ]
     },
     "execution_count": 4,
     "metadata": {},
     "output_type": "execute_result"
    }
   ],
   "source": [
    "# Load the datasets\n",
    "LAT = Table.read('./LATCatalog.fits').to_pandas()\n",
    "GBM = Table.read('./GBMCatalog.fits').to_pandas()\n",
    "\n",
    "LAT = clean_data(LAT)\n",
    "GBM = clean_data(GBM)\n",
    "\n",
    "# Calculate ratio for GBM\n",
    "GBM = calculate_ratio(GBM)\n",
    "\n",
    "# Merge datasets\n",
    "all_candidates = pd.merge(left = LAT, right = GBM, on = 'name', how = 'left')\n",
    "\n",
    "# Calculate merge ratios\n",
    "all_candidates = calculate_hardness(all_candidates)\n",
    "all_candidates = calculate_time_difference(all_candidates)\n",
    "\n",
    "all_candidates.T.tail(12).T.describe()"
   ]
  },
  {
   "cell_type": "code",
   "execution_count": 5,
   "metadata": {},
   "outputs": [
    {
     "data": {
      "text/html": [
       "<div>\n",
       "<style scoped>\n",
       "    .dataframe tbody tr th:only-of-type {\n",
       "        vertical-align: middle;\n",
       "    }\n",
       "\n",
       "    .dataframe tbody tr th {\n",
       "        vertical-align: top;\n",
       "    }\n",
       "\n",
       "    .dataframe thead th {\n",
       "        text-align: right;\n",
       "    }\n",
       "</style>\n",
       "<table border=\"1\" class=\"dataframe\">\n",
       "  <thead>\n",
       "    <tr style=\"text-align: right;\">\n",
       "      <th></th>\n",
       "      <th>name</th>\n",
       "      <th>gcn_name</th>\n",
       "      <th>time</th>\n",
       "      <th>trigger_met</th>\n",
       "      <th>ra_x</th>\n",
       "      <th>dec_x</th>\n",
       "      <th>lii_x</th>\n",
       "      <th>bii_x</th>\n",
       "      <th>error_radius_x</th>\n",
       "      <th>redshift</th>\n",
       "      <th>...</th>\n",
       "      <th>flux_ratio</th>\n",
       "      <th>flux_ene_ratio</th>\n",
       "      <th>fluence_ratio</th>\n",
       "      <th>hardness</th>\n",
       "      <th>flux_ratio_error</th>\n",
       "      <th>flux_ene_ratio_error</th>\n",
       "      <th>fluence_ratio_error</th>\n",
       "      <th>hardness_error</th>\n",
       "      <th>like_gbm-lat_time_difference</th>\n",
       "      <th>gbm-lle_t90_difference</th>\n",
       "    </tr>\n",
       "  </thead>\n",
       "  <tbody>\n",
       "    <tr>\n",
       "      <th>0</th>\n",
       "      <td>GRB140323433</td>\n",
       "      <td>b'GRB140323A      '</td>\n",
       "      <td>56739.432558</td>\n",
       "      <td>4.172630e+08</td>\n",
       "      <td>356.520</td>\n",
       "      <td>-79.920</td>\n",
       "      <td>306.4554</td>\n",
       "      <td>-36.7570</td>\n",
       "      <td>0.180</td>\n",
       "      <td>0.0</td>\n",
       "      <td>...</td>\n",
       "      <td>0.000000</td>\n",
       "      <td>0.000000</td>\n",
       "      <td>0.000000</td>\n",
       "      <td>inf</td>\n",
       "      <td>NaN</td>\n",
       "      <td>NaN</td>\n",
       "      <td>NaN</td>\n",
       "      <td>NaN</td>\n",
       "      <td>-226.80000</td>\n",
       "      <td>111.426</td>\n",
       "    </tr>\n",
       "    <tr>\n",
       "      <th>1</th>\n",
       "      <td>GRB190731943</td>\n",
       "      <td>b'GRB190731A      '</td>\n",
       "      <td>58695.943322</td>\n",
       "      <td>5.863055e+08</td>\n",
       "      <td>340.310</td>\n",
       "      <td>-76.420</td>\n",
       "      <td>312.1918</td>\n",
       "      <td>-38.2711</td>\n",
       "      <td>0.310</td>\n",
       "      <td>0.0</td>\n",
       "      <td>...</td>\n",
       "      <td>4.471796</td>\n",
       "      <td>1.431112</td>\n",
       "      <td>0.082395</td>\n",
       "      <td>12.136621</td>\n",
       "      <td>2.782806</td>\n",
       "      <td>1.239458</td>\n",
       "      <td>0.071361</td>\n",
       "      <td>10.511273</td>\n",
       "      <td>1.73200</td>\n",
       "      <td>9.518</td>\n",
       "    </tr>\n",
       "    <tr>\n",
       "      <th>2</th>\n",
       "      <td>GRB160325291</td>\n",
       "      <td>b'GRB160325A      '</td>\n",
       "      <td>57472.291215</td>\n",
       "      <td>4.805820e+08</td>\n",
       "      <td>16.210</td>\n",
       "      <td>-72.660</td>\n",
       "      <td>301.5342</td>\n",
       "      <td>-44.4319</td>\n",
       "      <td>0.240</td>\n",
       "      <td>0.0</td>\n",
       "      <td>...</td>\n",
       "      <td>5.683414</td>\n",
       "      <td>12.483589</td>\n",
       "      <td>0.345712</td>\n",
       "      <td>2.892581</td>\n",
       "      <td>2.596723</td>\n",
       "      <td>6.898600</td>\n",
       "      <td>0.191046</td>\n",
       "      <td>0.883345</td>\n",
       "      <td>-2.93200</td>\n",
       "      <td>42.742</td>\n",
       "    </tr>\n",
       "    <tr>\n",
       "      <th>4</th>\n",
       "      <td>GRB201104001</td>\n",
       "      <td>b'GRB201104A      '</td>\n",
       "      <td>59157.000648</td>\n",
       "      <td>6.261409e+08</td>\n",
       "      <td>81.370</td>\n",
       "      <td>-71.130</td>\n",
       "      <td>282.0331</td>\n",
       "      <td>-32.4744</td>\n",
       "      <td>0.240</td>\n",
       "      <td>0.0</td>\n",
       "      <td>...</td>\n",
       "      <td>1.142307</td>\n",
       "      <td>1.189541</td>\n",
       "      <td>0.818288</td>\n",
       "      <td>1.222063</td>\n",
       "      <td>0.486710</td>\n",
       "      <td>0.652436</td>\n",
       "      <td>0.448812</td>\n",
       "      <td>0.679326</td>\n",
       "      <td>-0.26000</td>\n",
       "      <td>45.251</td>\n",
       "    </tr>\n",
       "    <tr>\n",
       "      <th>6</th>\n",
       "      <td>GRB171212434</td>\n",
       "      <td>b'GRB171212B      '</td>\n",
       "      <td>58099.433542</td>\n",
       "      <td>5.347671e+08</td>\n",
       "      <td>39.420</td>\n",
       "      <td>-70.630</td>\n",
       "      <td>291.0416</td>\n",
       "      <td>-43.9636</td>\n",
       "      <td>0.430</td>\n",
       "      <td>0.0</td>\n",
       "      <td>...</td>\n",
       "      <td>0.000000</td>\n",
       "      <td>0.000000</td>\n",
       "      <td>0.000000</td>\n",
       "      <td>inf</td>\n",
       "      <td>NaN</td>\n",
       "      <td>NaN</td>\n",
       "      <td>NaN</td>\n",
       "      <td>NaN</td>\n",
       "      <td>-116.62000</td>\n",
       "      <td>32.001</td>\n",
       "    </tr>\n",
       "    <tr>\n",
       "      <th>...</th>\n",
       "      <td>...</td>\n",
       "      <td>...</td>\n",
       "      <td>...</td>\n",
       "      <td>...</td>\n",
       "      <td>...</td>\n",
       "      <td>...</td>\n",
       "      <td>...</td>\n",
       "      <td>...</td>\n",
       "      <td>...</td>\n",
       "      <td>...</td>\n",
       "      <td>...</td>\n",
       "      <td>...</td>\n",
       "      <td>...</td>\n",
       "      <td>...</td>\n",
       "      <td>...</td>\n",
       "      <td>...</td>\n",
       "      <td>...</td>\n",
       "      <td>...</td>\n",
       "      <td>...</td>\n",
       "      <td>...</td>\n",
       "      <td>...</td>\n",
       "    </tr>\n",
       "    <tr>\n",
       "      <th>221</th>\n",
       "      <td>GRB151006413</td>\n",
       "      <td>b'GRB151006A      '</td>\n",
       "      <td>57301.413160</td>\n",
       "      <td>4.658181e+08</td>\n",
       "      <td>147.426</td>\n",
       "      <td>70.504</td>\n",
       "      <td>140.9229</td>\n",
       "      <td>39.6632</td>\n",
       "      <td>0.001</td>\n",
       "      <td>0.0</td>\n",
       "      <td>...</td>\n",
       "      <td>4.082982</td>\n",
       "      <td>4.082988</td>\n",
       "      <td>0.369536</td>\n",
       "      <td>2.706097</td>\n",
       "      <td>0.000000</td>\n",
       "      <td>0.000000</td>\n",
       "      <td>0.000000</td>\n",
       "      <td>0.000000</td>\n",
       "      <td>-13.66311</td>\n",
       "      <td>77.301</td>\n",
       "    </tr>\n",
       "    <tr>\n",
       "      <th>222</th>\n",
       "      <td>GRB130502327</td>\n",
       "      <td>b'GRB130502B      '</td>\n",
       "      <td>56414.327211</td>\n",
       "      <td>3.891739e+08</td>\n",
       "      <td>66.650</td>\n",
       "      <td>70.830</td>\n",
       "      <td>138.8486</td>\n",
       "      <td>14.9548</td>\n",
       "      <td>0.320</td>\n",
       "      <td>0.0</td>\n",
       "      <td>...</td>\n",
       "      <td>17.296672</td>\n",
       "      <td>12.823209</td>\n",
       "      <td>0.239119</td>\n",
       "      <td>4.182019</td>\n",
       "      <td>7.685688</td>\n",
       "      <td>9.667731</td>\n",
       "      <td>0.180278</td>\n",
       "      <td>3.193325</td>\n",
       "      <td>-5.21200</td>\n",
       "      <td>22.757</td>\n",
       "    </tr>\n",
       "    <tr>\n",
       "      <th>223</th>\n",
       "      <td>GRB170728961</td>\n",
       "      <td>b'GRB170728B      '</td>\n",
       "      <td>57962.960637</td>\n",
       "      <td>5.229758e+08</td>\n",
       "      <td>237.430</td>\n",
       "      <td>70.850</td>\n",
       "      <td>105.5221</td>\n",
       "      <td>39.6976</td>\n",
       "      <td>1.010</td>\n",
       "      <td>0.0</td>\n",
       "      <td>...</td>\n",
       "      <td>3.473132</td>\n",
       "      <td>2.072392</td>\n",
       "      <td>0.204717</td>\n",
       "      <td>4.884793</td>\n",
       "      <td>1.638372</td>\n",
       "      <td>1.943580</td>\n",
       "      <td>0.191992</td>\n",
       "      <td>4.730537</td>\n",
       "      <td>-0.21000</td>\n",
       "      <td>45.926</td>\n",
       "    </tr>\n",
       "    <tr>\n",
       "      <th>224</th>\n",
       "      <td>GRB081224887</td>\n",
       "      <td>b'GRB81224.0      '</td>\n",
       "      <td>54824.887442</td>\n",
       "      <td>2.518463e+08</td>\n",
       "      <td>201.100</td>\n",
       "      <td>72.670</td>\n",
       "      <td>119.5155</td>\n",
       "      <td>44.2389</td>\n",
       "      <td>0.330</td>\n",
       "      <td>0.0</td>\n",
       "      <td>...</td>\n",
       "      <td>4.991271</td>\n",
       "      <td>4.991272</td>\n",
       "      <td>0.312521</td>\n",
       "      <td>3.199781</td>\n",
       "      <td>0.000000</td>\n",
       "      <td>0.000000</td>\n",
       "      <td>0.000000</td>\n",
       "      <td>0.000000</td>\n",
       "      <td>-75.77400</td>\n",
       "      <td>16.448</td>\n",
       "    </tr>\n",
       "    <tr>\n",
       "      <th>229</th>\n",
       "      <td>GRB160521385</td>\n",
       "      <td>b'GRB160521B      '</td>\n",
       "      <td>57529.384699</td>\n",
       "      <td>4.855148e+08</td>\n",
       "      <td>148.040</td>\n",
       "      <td>79.020</td>\n",
       "      <td>132.3192</td>\n",
       "      <td>34.6023</td>\n",
       "      <td>0.130</td>\n",
       "      <td>0.0</td>\n",
       "      <td>...</td>\n",
       "      <td>0.000000</td>\n",
       "      <td>0.000000</td>\n",
       "      <td>0.000000</td>\n",
       "      <td>inf</td>\n",
       "      <td>NaN</td>\n",
       "      <td>NaN</td>\n",
       "      <td>NaN</td>\n",
       "      <td>NaN</td>\n",
       "      <td>-90.16000</td>\n",
       "      <td>2.816</td>\n",
       "    </tr>\n",
       "  </tbody>\n",
       "</table>\n",
       "<p>131 rows × 424 columns</p>\n",
       "</div>"
      ],
      "text/plain": [
       "             name             gcn_name          time   trigger_met     ra_x  \\\n",
       "0    GRB140323433  b'GRB140323A      '  56739.432558  4.172630e+08  356.520   \n",
       "1    GRB190731943  b'GRB190731A      '  58695.943322  5.863055e+08  340.310   \n",
       "2    GRB160325291  b'GRB160325A      '  57472.291215  4.805820e+08   16.210   \n",
       "4    GRB201104001  b'GRB201104A      '  59157.000648  6.261409e+08   81.370   \n",
       "6    GRB171212434  b'GRB171212B      '  58099.433542  5.347671e+08   39.420   \n",
       "..            ...                  ...           ...           ...      ...   \n",
       "221  GRB151006413  b'GRB151006A      '  57301.413160  4.658181e+08  147.426   \n",
       "222  GRB130502327  b'GRB130502B      '  56414.327211  3.891739e+08   66.650   \n",
       "223  GRB170728961  b'GRB170728B      '  57962.960637  5.229758e+08  237.430   \n",
       "224  GRB081224887  b'GRB81224.0      '  54824.887442  2.518463e+08  201.100   \n",
       "229  GRB160521385  b'GRB160521B      '  57529.384699  4.855148e+08  148.040   \n",
       "\n",
       "      dec_x     lii_x    bii_x  error_radius_x  redshift  ...  flux_ratio  \\\n",
       "0   -79.920  306.4554 -36.7570           0.180       0.0  ...    0.000000   \n",
       "1   -76.420  312.1918 -38.2711           0.310       0.0  ...    4.471796   \n",
       "2   -72.660  301.5342 -44.4319           0.240       0.0  ...    5.683414   \n",
       "4   -71.130  282.0331 -32.4744           0.240       0.0  ...    1.142307   \n",
       "6   -70.630  291.0416 -43.9636           0.430       0.0  ...    0.000000   \n",
       "..      ...       ...      ...             ...       ...  ...         ...   \n",
       "221  70.504  140.9229  39.6632           0.001       0.0  ...    4.082982   \n",
       "222  70.830  138.8486  14.9548           0.320       0.0  ...   17.296672   \n",
       "223  70.850  105.5221  39.6976           1.010       0.0  ...    3.473132   \n",
       "224  72.670  119.5155  44.2389           0.330       0.0  ...    4.991271   \n",
       "229  79.020  132.3192  34.6023           0.130       0.0  ...    0.000000   \n",
       "\n",
       "     flux_ene_ratio  fluence_ratio   hardness  flux_ratio_error  \\\n",
       "0          0.000000       0.000000        inf               NaN   \n",
       "1          1.431112       0.082395  12.136621          2.782806   \n",
       "2         12.483589       0.345712   2.892581          2.596723   \n",
       "4          1.189541       0.818288   1.222063          0.486710   \n",
       "6          0.000000       0.000000        inf               NaN   \n",
       "..              ...            ...        ...               ...   \n",
       "221        4.082988       0.369536   2.706097          0.000000   \n",
       "222       12.823209       0.239119   4.182019          7.685688   \n",
       "223        2.072392       0.204717   4.884793          1.638372   \n",
       "224        4.991272       0.312521   3.199781          0.000000   \n",
       "229        0.000000       0.000000        inf               NaN   \n",
       "\n",
       "    flux_ene_ratio_error  fluence_ratio_error  hardness_error  \\\n",
       "0                    NaN                  NaN             NaN   \n",
       "1               1.239458             0.071361       10.511273   \n",
       "2               6.898600             0.191046        0.883345   \n",
       "4               0.652436             0.448812        0.679326   \n",
       "6                    NaN                  NaN             NaN   \n",
       "..                   ...                  ...             ...   \n",
       "221             0.000000             0.000000        0.000000   \n",
       "222             9.667731             0.180278        3.193325   \n",
       "223             1.943580             0.191992        4.730537   \n",
       "224             0.000000             0.000000        0.000000   \n",
       "229                  NaN                  NaN             NaN   \n",
       "\n",
       "     like_gbm-lat_time_difference  gbm-lle_t90_difference  \n",
       "0                      -226.80000                 111.426  \n",
       "1                         1.73200                   9.518  \n",
       "2                        -2.93200                  42.742  \n",
       "4                        -0.26000                  45.251  \n",
       "6                      -116.62000                  32.001  \n",
       "..                            ...                     ...  \n",
       "221                     -13.66311                  77.301  \n",
       "222                      -5.21200                  22.757  \n",
       "223                      -0.21000                  45.926  \n",
       "224                     -75.77400                  16.448  \n",
       "229                     -90.16000                   2.816  \n",
       "\n",
       "[131 rows x 424 columns]"
      ]
     },
     "execution_count": 5,
     "metadata": {},
     "output_type": "execute_result"
    }
   ],
   "source": [
    "cols = ['name', 'hardness', 'hardness_error', 't90', 'lle_t90', 'gbm_t9050', 'gbm_t9050_error', 'lat_spl_index1', 'lat_spl_index1_error']\n",
    "#all_candidates[cols].info()\n",
    "all_candidates.query('redshift == 0').dropna(subset = ['gbm_t9050']).query('hardness > 1')"
   ]
  },
  {
   "cell_type": "code",
   "execution_count": 6,
   "metadata": {},
   "outputs": [
    {
     "data": {
      "image/png": "[encoded data removed]",
      "text/plain": [
       "<Figure size 1500x700 with 2 Axes>"
      ]
     },
     "metadata": {},
     "output_type": "display_data"
    }
   ],
   "source": [
    "all_candidates['hardness_upper'] = all_candidates['hardness'] + all_candidates['hardness_error']\n",
    "\n",
    "# Only unassociated candidates\n",
    "candidates = all_candidates.query('redshift == 0').dropna(subset = ['gbm_t9050'])\n",
    "candidates = candidates.query('hardness_upper >= 10') # Enforce that hardness_upper-bound > 10\n",
    "\n",
    "fig, ax = plt.subplots()\n",
    "\n",
    "# Plot the candidates with color by LAT T90\n",
    "sx = ax.scatter(candidates['hardness'], candidates['gbm_t9050'], marker = 'x', \\\n",
    "    c=(candidates['lle_t90']), cmap='YlGnBu', norm=matplotlib.colors.LogNorm(), \\\n",
    "    s=30, zorder = 3)\n",
    "fig.colorbar(sx, ax = ax, label = 'LLE T90', orientation = 'vertical')\n",
    "\n",
    "# Re-plot the candidates with 'infinite' hardness i.e. invisible to GBM\n",
    "# We skip the candidates with 0 hardness because our models show that a source MUST have LAT appear BEFORE GBM\n",
    "_ = candidates.query('lle_t90 == 0')\n",
    "ax.scatter(_['hardness'], _['gbm_t9050'], color='darkred', marker='x', s=30, \\\n",
    "    label = f'LLE_T90 = 0', alpha=.7, zorder = 4)\n",
    "\n",
    "\n",
    "ax.set_yscale('log')\n",
    "ax.set_xscale('log')\n",
    "# Save the lims before we apply the errorbar (since the errorbars stretch the lims a ton)\n",
    "xl = fig.gca().get_xlim()\n",
    "yl = fig.gca().get_ylim()\n",
    "\n",
    "# Apply errorbars\n",
    "ax.errorbar(candidates['hardness'], candidates['gbm_t9050'], \\\n",
    "    xerr = candidates['hardness_error'], yerr = candidates['gbm_t9050_error'], \\\n",
    "    fmt='none', linewidth=1.5, capsize=3, \\\n",
    "    color='black', markersize=3, alpha=.3, zorder = 1)\n",
    "\n",
    "\n",
    "# Show expected limits for each of the variables\n",
    "#ax.axhspan(.35, .52, facecolor='gold', alpha=.1, label = 'Indices .35 to .52', zorder = 2)\n",
    "ax.axhspan(2.4, 3.4, facecolor='gold', alpha=.1, zorder = 2, label = 'Expected plaw indices (GBM)')\n",
    "#ax.axhspan(.37, .52, facecolor='darkred', alpha=.2, label = 'Predicted range', zorder = 2)\n",
    "ax.axhspan(2.4, 2.6, facecolor='darkred', alpha=.2, zorder = 2)\n",
    "# Just outline those spans\n",
    "# ax.axhline(.35, color = 'gold', alpha = .3, zorder = 2)\n",
    "# ax.axhline(.52, color = 'gold', alpha = .3, zorder = 2)\n",
    "ax.axhline(2.4, color = 'gold', alpha = .3, zorder = 2)\n",
    "ax.axhline(3.4, color = 'gold', alpha = .3, zorder = 2)\n",
    "# ax.axhline(.37, color = 'darkred', alpha = .2, zorder = 2)\n",
    "# ax.axhline(.52, color = 'darkred', alpha = .2, zorder = 2)\n",
    "ax.axhline(2.4, color = 'darkred', alpha = .2, zorder = 2)\n",
    "ax.axhline(2.6, color = 'darkred', alpha = .2, zorder = 2)\n",
    "\n",
    "ax.axvline(10, linestyle = '--', color = 'grey', zorder = 2, alpha = .3)\n",
    "ax.axvspan(10, max(xl), color = 'grey', alpha = .2, zorder = 2, label = 'Hardness Ratio > 10')\n",
    "\n",
    "# Reset plot limits\n",
    "ax.set_xlim(xl)\n",
    "ax.set_ylim(yl)\n",
    "ax.set_ylabel('T90/T50 ratio for GBM')\n",
    "ax.set_xlabel('Hardness ratio of LAT/GBM fluences')\n",
    "ax.legend()\n",
    "\n",
    "# names = ['GRB150702998', 'GRB091120191', 'GRB171210493', 'GRB110120666', 'GRB130325203']\n",
    "# for name in names:\n",
    "#     it = all_candidates.loc[ all_candidates['name'] == name].iloc[0]\n",
    "#     ax.plot(it['gbm_t9050'], it['lle_t90'], color = 'C0', \\\n",
    "#         marker = '.', markerfacecolor = 'none', markersize = 30, zorder = 5)\n",
    "\n",
    "# top_3 = candidates.query('hardness_upper > 14.6 & hardness < 40.3').query('gbm_cat_t90 > 50')\n",
    "# ax.errorbar(top_3['gbm_cat_t90'], top_3['hardness'], \n",
    "# yerr = top_3['hardness_error'], \n",
    "# fmt='o', linewidth=1.5, capsize=3,\n",
    "# color='darkred', markersize=3, label = 'Preliminary top 3')\n",
    "\n",
    "\n",
    "\n",
    "# # Estimated hardness\n",
    "# \"\"\"\n",
    "# NaI\n",
    "# lower=14.6\n",
    "# higher=40.3\n",
    "# BGO\n",
    "# lower=1.2\n",
    "# higher=3.36\n",
    "# \"\"\"\n",
    "# ax.axhline(40.3, linestyle='-', color='darkred', alpha=.4)#, label='Expected LAT/NaI hardness, upper')\n",
    "# ax.axhline(14.6, linestyle='-.', color='darkred', alpha=.4)#, label='Expected LAT/NaI hardness, lower')\n",
    "# ax.axhspan(14.6, 40.3, facecolor='darkred', alpha=.1, label ='Expected LAT/NaI hardness')\n",
    "\n",
    "# ax.axhline(3.36, linestyle='-', color='blue', alpha=.4)#, label='Expected LAT/BGO hardness, upper')\n",
    "# ax.axhline(1.2, linestyle='-.', color='blue', alpha=.4)#, label='Expected LAT/BGO hardness, lower')\n",
    "# ax.axhspan(1.2, 3.36, facecolor='blue', alpha=.1, label = 'Expected LAT/BGO hardness')\n",
    "\n",
    "\n",
    "# # Previous estimation\n",
    "# ax.axvline(0.1, linestyle='--',  label = r'Previous search: $\\tau$ = 0.1s', color='black', alpha=.4)\n",
    "\n",
    "# # GBM energies\n",
    "# ax.axvline(252, linestyle='--',  label = r'GBM BGO 1MeV', color='orange', alpha=.4)\n",
    "# ax.axvline(267, linestyle='-.',  label = r'GBM BGO 8keV', color='orange', alpha=.4)\n",
    "# ax.axvline(284, linestyle='-',  label = r'GBM NaI 200keV', color='orange', alpha=.4)\n",
    "# ax.axvline(183, linestyle='-',  label = r'LAT 20MeV', color='green', alpha=.4)\n",
    "\n",
    "# ax.axvspan(252, 284, color='orange', alpha=.1)\n",
    "\n",
    "# ax.legend()\n",
    "\n",
    "# plt.figtext(0.5, -0.05, 'Hardness values of infinity are the darkest red color as shown in the legend -- all others are mapped to the right-hand colorbar.\\n' + \\\n",
    "#     'The yellow highlight shows all values which are possible for both detectors;\\n' + \\\n",
    "#     'the red shows the predicted values for either the corresponding GBM or LAT metric only.\\n' + \\\n",
    "#     'Blue circles denote the candidates whose error allows them to lie within the yellow overlap.', \\\n",
    "#     wrap=True, horizontalalignment='center', fontsize=10)\n",
    "\n",
    "#ax.set_title('GBM T90 vs. Hardness upper-bound')\n",
    "\n",
    "fig.set_figwidth(15)\n",
    "fig.set_figheight(7)\n",
    "#fig.savefig('Ratio+Index+Hardness.png', dpi=500)\n",
    "fig.show()"
   ]
  },
  {
   "cell_type": "code",
   "execution_count": 7,
   "metadata": {},
   "outputs": [
    {
     "data": {
      "text/html": [
       "<div>\n",
       "<style scoped>\n",
       "    .dataframe tbody tr th:only-of-type {\n",
       "        vertical-align: middle;\n",
       "    }\n",
       "\n",
       "    .dataframe tbody tr th {\n",
       "        vertical-align: top;\n",
       "    }\n",
       "\n",
       "    .dataframe thead th {\n",
       "        text-align: right;\n",
       "    }\n",
       "</style>\n",
       "<table border=\"1\" class=\"dataframe\">\n",
       "  <thead>\n",
       "    <tr style=\"text-align: right;\">\n",
       "      <th></th>\n",
       "      <th>name</th>\n",
       "      <th>gcn_name</th>\n",
       "      <th>time</th>\n",
       "      <th>trigger_met</th>\n",
       "      <th>ra_x</th>\n",
       "      <th>dec_x</th>\n",
       "      <th>lii_x</th>\n",
       "      <th>bii_x</th>\n",
       "      <th>error_radius_x</th>\n",
       "      <th>redshift</th>\n",
       "      <th>...</th>\n",
       "      <th>hardness</th>\n",
       "      <th>flux_ratio_error</th>\n",
       "      <th>flux_ene_ratio_error</th>\n",
       "      <th>fluence_ratio_error</th>\n",
       "      <th>hardness_error</th>\n",
       "      <th>like_gbm-lat_time_difference</th>\n",
       "      <th>gbm-lle_t90_difference</th>\n",
       "      <th>hardness_upper</th>\n",
       "      <th>gbm_t9050_upper_bound</th>\n",
       "      <th>gbm_t9050_lower_bound</th>\n",
       "    </tr>\n",
       "  </thead>\n",
       "  <tbody>\n",
       "    <tr>\n",
       "      <th>152</th>\n",
       "      <td>GRB180210517</td>\n",
       "      <td>b'GRB180210A      '</td>\n",
       "      <td>58159.517107</td>\n",
       "      <td>5.399583e+08</td>\n",
       "      <td>1.830</td>\n",
       "      <td>18.490</td>\n",
       "      <td>108.5329</td>\n",
       "      <td>-43.1449</td>\n",
       "      <td>0.120</td>\n",
       "      <td>0.0</td>\n",
       "      <td>...</td>\n",
       "      <td>8.016764</td>\n",
       "      <td>4.585010</td>\n",
       "      <td>3.317481</td>\n",
       "      <td>0.080781</td>\n",
       "      <td>3.362132</td>\n",
       "      <td>-18.964</td>\n",
       "      <td>38.913</td>\n",
       "      <td>11.378896</td>\n",
       "      <td>2.777012</td>\n",
       "      <td>2.048509</td>\n",
       "    </tr>\n",
       "    <tr>\n",
       "      <th>208</th>\n",
       "      <td>GRB120915000</td>\n",
       "      <td>b'GRB120915A      '</td>\n",
       "      <td>56185.000474</td>\n",
       "      <td>3.693600e+08</td>\n",
       "      <td>240.950</td>\n",
       "      <td>57.040</td>\n",
       "      <td>88.0620</td>\n",
       "      <td>44.9119</td>\n",
       "      <td>1.760</td>\n",
       "      <td>0.0</td>\n",
       "      <td>...</td>\n",
       "      <td>7.932213</td>\n",
       "      <td>0.332156</td>\n",
       "      <td>0.114388</td>\n",
       "      <td>0.111673</td>\n",
       "      <td>7.465616</td>\n",
       "      <td>-0.550</td>\n",
       "      <td>0.576</td>\n",
       "      <td>15.397829</td>\n",
       "      <td>6.029122</td>\n",
       "      <td>-2.429122</td>\n",
       "    </tr>\n",
       "    <tr>\n",
       "      <th>34</th>\n",
       "      <td>GRB220408311</td>\n",
       "      <td>b'GRB220408B      '</td>\n",
       "      <td>59677.311157</td>\n",
       "      <td>6.710957e+08</td>\n",
       "      <td>92.480</td>\n",
       "      <td>-50.970</td>\n",
       "      <td>258.8511</td>\n",
       "      <td>-27.0772</td>\n",
       "      <td>0.060</td>\n",
       "      <td>0.0</td>\n",
       "      <td>...</td>\n",
       "      <td>32.573197</td>\n",
       "      <td>6.949773</td>\n",
       "      <td>1.359339</td>\n",
       "      <td>0.029807</td>\n",
       "      <td>31.307608</td>\n",
       "      <td>-6.624</td>\n",
       "      <td>32.513</td>\n",
       "      <td>63.880805</td>\n",
       "      <td>4.159884</td>\n",
       "      <td>2.524533</td>\n",
       "    </tr>\n",
       "    <tr>\n",
       "      <th>11</th>\n",
       "      <td>GRB180703876</td>\n",
       "      <td>b'GRB180703A      '</td>\n",
       "      <td>58302.876157</td>\n",
       "      <td>5.523445e+08</td>\n",
       "      <td>6.560</td>\n",
       "      <td>-67.100</td>\n",
       "      <td>306.7281</td>\n",
       "      <td>-49.8421</td>\n",
       "      <td>0.330</td>\n",
       "      <td>0.0</td>\n",
       "      <td>...</td>\n",
       "      <td>7.877799</td>\n",
       "      <td>13.478790</td>\n",
       "      <td>8.985856</td>\n",
       "      <td>0.115725</td>\n",
       "      <td>7.117189</td>\n",
       "      <td>-2.304</td>\n",
       "      <td>13.619</td>\n",
       "      <td>14.994988</td>\n",
       "      <td>4.232524</td>\n",
       "      <td>2.517476</td>\n",
       "    </tr>\n",
       "    <tr>\n",
       "      <th>83</th>\n",
       "      <td>GRB181028590</td>\n",
       "      <td>b'GRB181028A      '</td>\n",
       "      <td>58419.590069</td>\n",
       "      <td>5.624286e+08</td>\n",
       "      <td>88.922</td>\n",
       "      <td>-21.981</td>\n",
       "      <td>227.3435</td>\n",
       "      <td>-21.6821</td>\n",
       "      <td>0.306</td>\n",
       "      <td>0.0</td>\n",
       "      <td>...</td>\n",
       "      <td>5.248896</td>\n",
       "      <td>0.278362</td>\n",
       "      <td>0.143487</td>\n",
       "      <td>0.161529</td>\n",
       "      <td>4.833115</td>\n",
       "      <td>-24.632</td>\n",
       "      <td>29.697</td>\n",
       "      <td>10.082011</td>\n",
       "      <td>3.067836</td>\n",
       "      <td>1.393853</td>\n",
       "    </tr>\n",
       "    <tr>\n",
       "      <th>47</th>\n",
       "      <td>GRB190531840</td>\n",
       "      <td>b'GRB190531B      '</td>\n",
       "      <td>58634.840417</td>\n",
       "      <td>5.810262e+08</td>\n",
       "      <td>24.390</td>\n",
       "      <td>-41.950</td>\n",
       "      <td>273.4221</td>\n",
       "      <td>-72.4336</td>\n",
       "      <td>0.100</td>\n",
       "      <td>0.0</td>\n",
       "      <td>...</td>\n",
       "      <td>19.184728</td>\n",
       "      <td>3.062354</td>\n",
       "      <td>1.327302</td>\n",
       "      <td>0.043558</td>\n",
       "      <td>16.132658</td>\n",
       "      <td>-6.240</td>\n",
       "      <td>31.443</td>\n",
       "      <td>35.317386</td>\n",
       "      <td>3.210816</td>\n",
       "      <td>2.307847</td>\n",
       "    </tr>\n",
       "    <tr>\n",
       "      <th>1</th>\n",
       "      <td>GRB190731943</td>\n",
       "      <td>b'GRB190731A      '</td>\n",
       "      <td>58695.943322</td>\n",
       "      <td>5.863055e+08</td>\n",
       "      <td>340.310</td>\n",
       "      <td>-76.420</td>\n",
       "      <td>312.1918</td>\n",
       "      <td>-38.2711</td>\n",
       "      <td>0.310</td>\n",
       "      <td>0.0</td>\n",
       "      <td>...</td>\n",
       "      <td>12.136621</td>\n",
       "      <td>2.782806</td>\n",
       "      <td>1.239458</td>\n",
       "      <td>0.071361</td>\n",
       "      <td>10.511273</td>\n",
       "      <td>1.732</td>\n",
       "      <td>9.518</td>\n",
       "      <td>22.647894</td>\n",
       "      <td>3.538089</td>\n",
       "      <td>1.853215</td>\n",
       "    </tr>\n",
       "    <tr>\n",
       "      <th>131</th>\n",
       "      <td>GRB140402007</td>\n",
       "      <td>b'GRB140402A      '</td>\n",
       "      <td>56749.007014</td>\n",
       "      <td>4.180902e+08</td>\n",
       "      <td>207.660</td>\n",
       "      <td>5.970</td>\n",
       "      <td>339.2299</td>\n",
       "      <td>64.5844</td>\n",
       "      <td>0.160</td>\n",
       "      <td>0.0</td>\n",
       "      <td>...</td>\n",
       "      <td>9.669260</td>\n",
       "      <td>71.324275</td>\n",
       "      <td>31.082109</td>\n",
       "      <td>0.139030</td>\n",
       "      <td>12.399470</td>\n",
       "      <td>-0.238</td>\n",
       "      <td>-1.226</td>\n",
       "      <td>22.068729</td>\n",
       "      <td>8.086347</td>\n",
       "      <td>-3.086347</td>\n",
       "    </tr>\n",
       "    <tr>\n",
       "      <th>89</th>\n",
       "      <td>GRB210928084</td>\n",
       "      <td>b'GRB210928A      '</td>\n",
       "      <td>59485.083692</td>\n",
       "      <td>6.544872e+08</td>\n",
       "      <td>245.776</td>\n",
       "      <td>-17.999</td>\n",
       "      <td>357.6673</td>\n",
       "      <td>21.6837</td>\n",
       "      <td>0.120</td>\n",
       "      <td>0.0</td>\n",
       "      <td>...</td>\n",
       "      <td>8.116773</td>\n",
       "      <td>4.608649</td>\n",
       "      <td>1.892793</td>\n",
       "      <td>0.082957</td>\n",
       "      <td>5.447874</td>\n",
       "      <td>-9.950</td>\n",
       "      <td>4.790</td>\n",
       "      <td>13.564647</td>\n",
       "      <td>2.556373</td>\n",
       "      <td>1.769208</td>\n",
       "    </tr>\n",
       "    <tr>\n",
       "      <th>44</th>\n",
       "      <td>GRB150523396</td>\n",
       "      <td>b'GRB150523A      '</td>\n",
       "      <td>57165.395694</td>\n",
       "      <td>4.540662e+08</td>\n",
       "      <td>115.340</td>\n",
       "      <td>-45.430</td>\n",
       "      <td>258.6739</td>\n",
       "      <td>-10.9449</td>\n",
       "      <td>0.080</td>\n",
       "      <td>0.0</td>\n",
       "      <td>...</td>\n",
       "      <td>8.083893</td>\n",
       "      <td>6.791340</td>\n",
       "      <td>6.650011</td>\n",
       "      <td>0.089496</td>\n",
       "      <td>5.984489</td>\n",
       "      <td>-2.088</td>\n",
       "      <td>41.956</td>\n",
       "      <td>14.068383</td>\n",
       "      <td>3.947508</td>\n",
       "      <td>3.052577</td>\n",
       "    </tr>\n",
       "    <tr>\n",
       "      <th>189</th>\n",
       "      <td>GRB160821857</td>\n",
       "      <td>b'GRB160821A      '</td>\n",
       "      <td>57621.857292</td>\n",
       "      <td>4.935045e+08</td>\n",
       "      <td>171.290</td>\n",
       "      <td>42.290</td>\n",
       "      <td>166.5733</td>\n",
       "      <td>66.7930</td>\n",
       "      <td>0.120</td>\n",
       "      <td>0.0</td>\n",
       "      <td>...</td>\n",
       "      <td>14.992157</td>\n",
       "      <td>1.663456</td>\n",
       "      <td>1.036846</td>\n",
       "      <td>0.032620</td>\n",
       "      <td>7.070218</td>\n",
       "      <td>26.450</td>\n",
       "      <td>8.086</td>\n",
       "      <td>22.062375</td>\n",
       "      <td>4.103711</td>\n",
       "      <td>2.896452</td>\n",
       "    </tr>\n",
       "  </tbody>\n",
       "</table>\n",
       "<p>11 rows × 427 columns</p>\n",
       "</div>"
      ],
      "text/plain": [
       "             name             gcn_name          time   trigger_met     ra_x  \\\n",
       "152  GRB180210517  b'GRB180210A      '  58159.517107  5.399583e+08    1.830   \n",
       "208  GRB120915000  b'GRB120915A      '  56185.000474  3.693600e+08  240.950   \n",
       "34   GRB220408311  b'GRB220408B      '  59677.311157  6.710957e+08   92.480   \n",
       "11   GRB180703876  b'GRB180703A      '  58302.876157  5.523445e+08    6.560   \n",
       "83   GRB181028590  b'GRB181028A      '  58419.590069  5.624286e+08   88.922   \n",
       "47   GRB190531840  b'GRB190531B      '  58634.840417  5.810262e+08   24.390   \n",
       "1    GRB190731943  b'GRB190731A      '  58695.943322  5.863055e+08  340.310   \n",
       "131  GRB140402007  b'GRB140402A      '  56749.007014  4.180902e+08  207.660   \n",
       "89   GRB210928084  b'GRB210928A      '  59485.083692  6.544872e+08  245.776   \n",
       "44   GRB150523396  b'GRB150523A      '  57165.395694  4.540662e+08  115.340   \n",
       "189  GRB160821857  b'GRB160821A      '  57621.857292  4.935045e+08  171.290   \n",
       "\n",
       "      dec_x     lii_x    bii_x  error_radius_x  redshift  ...   hardness  \\\n",
       "152  18.490  108.5329 -43.1449           0.120       0.0  ...   8.016764   \n",
       "208  57.040   88.0620  44.9119           1.760       0.0  ...   7.932213   \n",
       "34  -50.970  258.8511 -27.0772           0.060       0.0  ...  32.573197   \n",
       "11  -67.100  306.7281 -49.8421           0.330       0.0  ...   7.877799   \n",
       "83  -21.981  227.3435 -21.6821           0.306       0.0  ...   5.248896   \n",
       "47  -41.950  273.4221 -72.4336           0.100       0.0  ...  19.184728   \n",
       "1   -76.420  312.1918 -38.2711           0.310       0.0  ...  12.136621   \n",
       "131   5.970  339.2299  64.5844           0.160       0.0  ...   9.669260   \n",
       "89  -17.999  357.6673  21.6837           0.120       0.0  ...   8.116773   \n",
       "44  -45.430  258.6739 -10.9449           0.080       0.0  ...   8.083893   \n",
       "189  42.290  166.5733  66.7930           0.120       0.0  ...  14.992157   \n",
       "\n",
       "     flux_ratio_error  flux_ene_ratio_error  fluence_ratio_error  \\\n",
       "152          4.585010              3.317481             0.080781   \n",
       "208          0.332156              0.114388             0.111673   \n",
       "34           6.949773              1.359339             0.029807   \n",
       "11          13.478790              8.985856             0.115725   \n",
       "83           0.278362              0.143487             0.161529   \n",
       "47           3.062354              1.327302             0.043558   \n",
       "1            2.782806              1.239458             0.071361   \n",
       "131         71.324275             31.082109             0.139030   \n",
       "89           4.608649              1.892793             0.082957   \n",
       "44           6.791340              6.650011             0.089496   \n",
       "189          1.663456              1.036846             0.032620   \n",
       "\n",
       "     hardness_error like_gbm-lat_time_difference  gbm-lle_t90_difference  \\\n",
       "152        3.362132                      -18.964                  38.913   \n",
       "208        7.465616                       -0.550                   0.576   \n",
       "34        31.307608                       -6.624                  32.513   \n",
       "11         7.117189                       -2.304                  13.619   \n",
       "83         4.833115                      -24.632                  29.697   \n",
       "47        16.132658                       -6.240                  31.443   \n",
       "1         10.511273                        1.732                   9.518   \n",
       "131       12.399470                       -0.238                  -1.226   \n",
       "89         5.447874                       -9.950                   4.790   \n",
       "44         5.984489                       -2.088                  41.956   \n",
       "189        7.070218                       26.450                   8.086   \n",
       "\n",
       "     hardness_upper  gbm_t9050_upper_bound  gbm_t9050_lower_bound  \n",
       "152       11.378896               2.777012               2.048509  \n",
       "208       15.397829               6.029122              -2.429122  \n",
       "34        63.880805               4.159884               2.524533  \n",
       "11        14.994988               4.232524               2.517476  \n",
       "83        10.082011               3.067836               1.393853  \n",
       "47        35.317386               3.210816               2.307847  \n",
       "1         22.647894               3.538089               1.853215  \n",
       "131       22.068729               8.086347              -3.086347  \n",
       "89        13.564647               2.556373               1.769208  \n",
       "44        14.068383               3.947508               3.052577  \n",
       "189       22.062375               4.103711               2.896452  \n",
       "\n",
       "[11 rows x 427 columns]"
      ]
     },
     "execution_count": 7,
     "metadata": {},
     "output_type": "execute_result"
    }
   ],
   "source": [
    "candidates['gbm_t9050_upper_bound'] = candidates['gbm_t9050'] + candidates['gbm_t9050_error']\n",
    "candidates['gbm_t9050_lower_bound'] = candidates['gbm_t9050'] - candidates['gbm_t9050_error']\n",
    "\n",
    "# str = ''\n",
    "# for name in candidates.query('gbm_t9050_upper_bound > 2.4 & gbm_t9050_lower_bound < 3.4').name:\n",
    "#     str += '%s OR '%name\n",
    "# print(str[:-3])\n",
    "\n",
    "candidates.query('gbm_t9050_upper_bound > 2.4 & gbm_t9050_lower_bound < 3.4').sort_values(by='like_gbm_ts')"
   ]
  },
  {
   "cell_type": "code",
   "execution_count": 8,
   "metadata": {},
   "outputs": [
    {
     "data": {
      "text/plain": [
       "Text(0.5, 1.0, 'LAT T90 for hardness = infty')"
      ]
     },
     "execution_count": 8,
     "metadata": {},
     "output_type": "execute_result"
    },
    {
     "data": {
      "image/png": "[encoded data removed]",
      "text/plain": [
       "<Figure size 1000x600 with 2 Axes>"
      ]
     },
     "metadata": {},
     "output_type": "display_data"
    }
   ],
   "source": [
    "fig, axes = plt.subplots(1,2,figsize = (10,6))\n",
    "\n",
    "args = {'bins': 30, 'edgecolor': 'black', 'alpha': 0.6}\n",
    "\n",
    "ax = axes[0]\n",
    "inf = np.infty\n",
    "_ = all_candidates.query('hardness == @inf & redshift == 0')\n",
    "\n",
    "ax.hist(_['gbm_t9050'], **args)\n",
    "#ax.set_yscale('log')\n",
    "# _[['lle_t90', 'hardness', 'gbm_t9050']]\n",
    "\n",
    "ax.set_ylabel('Frequency')\n",
    "ax.set_xlabel('GBM T90/T50')\n",
    "ax.set_title('T90/T50 Ratio of GBM for hardness = infty')\n",
    "\n",
    "ax = axes[1]\n",
    "ax.hist(_['lle_t90'], **args)\n",
    "\n",
    "ax.set_ylabel('Frequency')\n",
    "ax.set_xlabel('LAT T90')\n",
    "ax.set_title('LAT T90 for hardness = infty')"
   ]
  },
  {
   "cell_type": "code",
   "execution_count": 9,
   "metadata": {},
   "outputs": [
    {
     "data": {
      "text/html": [
       "<div>\n",
       "<style scoped>\n",
       "    .dataframe tbody tr th:only-of-type {\n",
       "        vertical-align: middle;\n",
       "    }\n",
       "\n",
       "    .dataframe tbody tr th {\n",
       "        vertical-align: top;\n",
       "    }\n",
       "\n",
       "    .dataframe thead th {\n",
       "        text-align: right;\n",
       "    }\n",
       "</style>\n",
       "<table border=\"1\" class=\"dataframe\">\n",
       "  <thead>\n",
       "    <tr style=\"text-align: right;\">\n",
       "      <th></th>\n",
       "      <th>name</th>\n",
       "      <th>hardness</th>\n",
       "      <th>hardness_error</th>\n",
       "      <th>t90</th>\n",
       "      <th>lle_t90</th>\n",
       "      <th>gbm_t9050</th>\n",
       "      <th>gbm_t9050_error</th>\n",
       "      <th>lat_spl_index1</th>\n",
       "      <th>lat_spl_index1_error</th>\n",
       "    </tr>\n",
       "  </thead>\n",
       "  <tbody>\n",
       "    <tr>\n",
       "      <th>26</th>\n",
       "      <td>GRB150702998</td>\n",
       "      <td>inf</td>\n",
       "      <td>NaN</td>\n",
       "      <td>45.825</td>\n",
       "      <td>0.000</td>\n",
       "      <td>3.086274</td>\n",
       "      <td>0.621502</td>\n",
       "      <td>0.437732</td>\n",
       "      <td>0.270027</td>\n",
       "    </tr>\n",
       "    <tr>\n",
       "      <th>84</th>\n",
       "      <td>GRB091120191</td>\n",
       "      <td>0.563264</td>\n",
       "      <td>0.196673</td>\n",
       "      <td>50.177</td>\n",
       "      <td>0.000</td>\n",
       "      <td>2.390292</td>\n",
       "      <td>0.795860</td>\n",
       "      <td>0.539140</td>\n",
       "      <td>0.089459</td>\n",
       "    </tr>\n",
       "    <tr>\n",
       "      <th>87</th>\n",
       "      <td>GRB130325203</td>\n",
       "      <td>3.171399</td>\n",
       "      <td>3.017822</td>\n",
       "      <td>6.912</td>\n",
       "      <td>0.000</td>\n",
       "      <td>3.000000</td>\n",
       "      <td>1.527455</td>\n",
       "      <td>0.129019</td>\n",
       "      <td>0.323275</td>\n",
       "    </tr>\n",
       "    <tr>\n",
       "      <th>97</th>\n",
       "      <td>GRB110120666</td>\n",
       "      <td>1.946726</td>\n",
       "      <td>1.138517</td>\n",
       "      <td>26.173</td>\n",
       "      <td>0.231</td>\n",
       "      <td>4.089531</td>\n",
       "      <td>1.246899</td>\n",
       "      <td>0.552345</td>\n",
       "      <td>0.416720</td>\n",
       "    </tr>\n",
       "    <tr>\n",
       "      <th>160</th>\n",
       "      <td>GRB171210493</td>\n",
       "      <td>0.785526</td>\n",
       "      <td>0.331079</td>\n",
       "      <td>143.107</td>\n",
       "      <td>8.200</td>\n",
       "      <td>3.249994</td>\n",
       "      <td>0.420814</td>\n",
       "      <td>0.653730</td>\n",
       "      <td>0.275319</td>\n",
       "    </tr>\n",
       "  </tbody>\n",
       "</table>\n",
       "</div>"
      ],
      "text/plain": [
       "             name  hardness  hardness_error      t90  lle_t90  gbm_t9050  \\\n",
       "26   GRB150702998       inf             NaN   45.825    0.000   3.086274   \n",
       "84   GRB091120191  0.563264        0.196673   50.177    0.000   2.390292   \n",
       "87   GRB130325203  3.171399        3.017822    6.912    0.000   3.000000   \n",
       "97   GRB110120666  1.946726        1.138517   26.173    0.231   4.089531   \n",
       "160  GRB171210493  0.785526        0.331079  143.107    8.200   3.249994   \n",
       "\n",
       "     gbm_t9050_error  lat_spl_index1  lat_spl_index1_error  \n",
       "26          0.621502        0.437732              0.270027  \n",
       "84          0.795860        0.539140              0.089459  \n",
       "87          1.527455        0.129019              0.323275  \n",
       "97          1.246899        0.552345              0.416720  \n",
       "160         0.420814        0.653730              0.275319  "
      ]
     },
     "execution_count": 9,
     "metadata": {},
     "output_type": "execute_result"
    }
   ],
   "source": [
    "#all_candidates.query('gbm_t9050 < 5 & gbm_t9050 > 2.5 & lat_spl_index1 < .3 & lat_spl_index1 > 0')\n",
    "names = ['GRB150702998', 'GRB091120191', 'GRB171210493', 'GRB110120666', 'GRB130325203']\n",
    "all_candidates.query('name in @names')[cols]"
   ]
  },
  {
   "attachments": {},
   "cell_type": "markdown",
   "metadata": {},
   "source": [
    "------\n",
    "\n",
    "Hardness > 1\n",
    "GBM T90 in []"
   ]
  },
  {
   "cell_type": "code",
   "execution_count": 8,
   "metadata": {},
   "outputs": [],
   "source": [
    "selected_candidates = all_candidates.query('redshift == 0 & hardness > 1').query(\n",
    "     '(gbm_cat_t90 > 200 & gbm_cat_t90 < 350) | (lle_t90 < 200 & lle_t90 > 30)'\n",
    ")\n",
    "\n",
    "unassoc_hard_candidates = all_candidates.query('redshift == 0 & hardness > 1')\n",
    "unassoc_hard_candidates['hardness_upper'] = unassoc_hard_candidates['hardness'] + unassoc_hard_candidates['hardness_error']"
   ]
  },
  {
   "cell_type": "markdown",
   "metadata": {},
   "source": [
    "There are a bunch of quirks in this dataset:\n",
    "- There are 'infinite' hardnesses. This is because the GBM fluence was registered as 0.\n",
    "- A bunch of the sources are lle_t90 = 0. This accounts for "
   ]
  },
  {
   "cell_type": "code",
   "execution_count": 9,
   "metadata": {},
   "outputs": [
    {
     "name": "stdout",
     "output_type": "stream",
     "text": [
      "Total unassociated sources: 138\n",
      "N. sources with lle_t90 = 0.: 77\n",
      "N. sources with infinite hardness: 43\n",
      "N. sources that are lle_t90 = 0. AND have infinite hardness: 37\n",
      "N. sources with GBM t90=0.: 0\n"
     ]
    }
   ],
   "source": [
    "\n",
    "print('Total unassociated sources: %s'%unassoc_hard_candidates.shape[0])\n",
    "\n",
    "print( 'N. sources with lle_t90 = 0.: %s'%unassoc_hard_candidates.query('lle_t90==0').shape[0])\n",
    "\n",
    "inf = np.infty\n",
    "print( 'N. sources with infinite hardness: %s'% unassoc_hard_candidates.query('hardness == @inf').shape[0])\n",
    "print( 'N. sources that are lle_t90 = 0. AND have infinite hardness: %s'%unassoc_hard_candidates.query('lle_t90==0 & hardness==@inf').shape[0])\n",
    "\n",
    "\n",
    "print('N. sources with GBM t90=0.: %s'%unassoc_hard_candidates.query('gbm_cat_t90 == 0').shape[0])"
   ]
  },
  {
   "cell_type": "code",
   "execution_count": 10,
   "metadata": {},
   "outputs": [
    {
     "data": {
      "image/png": "[encoded data removed]",
      "text/plain": [
       "<Figure size 1500x500 with 2 Axes>"
      ]
     },
     "metadata": {},
     "output_type": "display_data"
    }
   ],
   "source": [
    "fig, ax = plt.subplots(1,2)\n",
    "ax[0].hist(unassoc_hard_candidates['lle_t90'], alpha = 0.6, edgecolor='black', bins=20, orientation='horizontal')\n",
    "ax[0].set_xscale('log')\n",
    "ax[0].set_xlabel('LLE T90')\n",
    "ax[0].set_ylabel('No. of sources')\n",
    "\n",
    "ax[1].hist(unassoc_hard_candidates['gbm_cat_t90'], alpha = 0.6, edgecolor='black', bins=20)\n",
    "ax[1].set_yscale('log')\n",
    "ax[1].set_xlabel('GBM Catalog T90')\n",
    "ax[1].set_ylabel('No. of sources')\n",
    "\n",
    "fig.suptitle('T90 Distributions for LLE and GBM')\n",
    "\n",
    "fig.set_figwidth(15)\n",
    "fig.set_figheight(5)\n",
    "fig.show()"
   ]
  },
  {
   "cell_type": "code",
   "execution_count": 11,
   "metadata": {},
   "outputs": [
    {
     "data": {
      "image/png": "[encoded data removed]",
      "text/plain": [
       "<Figure size 1500x500 with 2 Axes>"
      ]
     },
     "metadata": {},
     "output_type": "display_data"
    }
   ],
   "source": [
    "fig, ax = plt.subplots()\n",
    "\n",
    "# Scatter plot all objects.\n",
    "sx = ax.scatter(unassoc_hard_candidates['gbm_cat_t90'], unassoc_hard_candidates['lle_t90'], marker = 'x', c=(unassoc_hard_candidates['hardness_upper']),\n",
    " s=30, cmap='viridis', norm=matplotlib.colors.LogNorm())\n",
    "fig.colorbar(sx, ax=ax, label = 'Hardness - upper error bound', orientation = 'vertical')\n",
    "\n",
    "# Include the objects with 'infinite' hardness.\n",
    "inf = np.infty\n",
    "_ = unassoc_hard_candidates.query('hardness == @inf')\n",
    "ax.scatter(_['gbm_cat_t90'], _['lle_t90'], color='darkred', marker='x', s=30, label = f'Hardness = $\\infty$', alpha=.7)\n",
    "\n",
    "# Previous estimation\n",
    "ax.axvline(0.1, linestyle='--',  label = r'Previous prediction: $\\tau$ = 0.1s', color='black', alpha=.4)\n",
    "\n",
    "# GBM energies\n",
    "ax.axvline(252, linestyle='-',  label = r'GBM BGO, upper (1MeV): $\\tau$ = 252s', color='orange', alpha=.4)\n",
    "ax.axvline(267, linestyle='-',  label = r'GBM BGO, lower (8keV): $\\tau$ = 267s', color='orange', alpha=.4)\n",
    "ax.axvline(284, linestyle='-',  label = r'GBM NaI, lower (200keV): $\\tau$ = 284s', color='orange', alpha=.4)\n",
    "\n",
    "# LAT energies\n",
    "ax.axhline(183, linestyle='-.',  label = r'LAT, lower (40MeV): $\\tau$ = 183s', alpha=.6)\n",
    "ax.axhline(36.7, linestyle='-.',  label = r'LAT, upper (300GeV): $\\tau$ = 36.7s', alpha=.6)\n",
    "\n",
    "# Labels\n",
    "ax.set_ylabel('T90 for LLE')\n",
    "ax.set_xlabel('T90 for GBM catalog')\n",
    "\n",
    "# Log scale\n",
    "ax.set_xscale('log')\n",
    "ax.set_yscale('log')\n",
    "\n",
    "# x, yticks on inside & on top/right\n",
    "ax.tick_params(axis=\"x\", bottom=True, top=True)\n",
    "ax.tick_params(axis=\"y\", left=True, right=True)\n",
    "ax.tick_params(axis=\"both\", which=\"both\", direction=\"in\")\n",
    "\n",
    "plt.figtext(0.5, -0.03, 'Note that there are no sources on this plot in which lle_t90 = 0, accounting for 77 sources.', wrap=True, horizontalalignment='center', fontsize=10)\n",
    "\n",
    "fig.set_figwidth(15)\n",
    "fig.set_figheight(5)\n",
    "ax.legend()\n",
    "\n",
    "ax.set_title('GBM vs. LLE T90, colormapped by Hardness upper-bound')\n",
    "\n",
    "fig.show()"
   ]
  },
  {
   "cell_type": "code",
   "execution_count": 203,
   "metadata": {},
   "outputs": [
    {
     "data": {
      "image/png": "[encoded data removed]",
      "text/plain": [
       "<Figure size 1500x500 with 1 Axes>"
      ]
     },
     "metadata": {},
     "output_type": "display_data"
    }
   ],
   "source": [
    "# In that spirit, let's focus mainly on the GBM T90.\n",
    "\n",
    "fig, ax = plt.subplots()\n",
    "\n",
    "#ax.scatter(unassoc_hard_candidates['gbm_cat_t90'], unassoc_hard_candidates['hardness_upper'], marker='x', color='black', s=20)\n",
    "ax.errorbar(unassoc_hard_candidates['gbm_cat_t90'], unassoc_hard_candidates['hardness'], \n",
    "yerr = unassoc_hard_candidates['hardness_error'], \n",
    "fmt='o', linewidth=1.5, capsize=3,\n",
    "color='black', markersize=3, alpha=.5)\n",
    "\n",
    "top_3 = unassoc_hard_candidates.query('hardness_upper > 14.6 & hardness < 40.3').query('gbm_cat_t90 > 50')\n",
    "ax.errorbar(top_3['gbm_cat_t90'], top_3['hardness'], \n",
    "yerr = top_3['hardness_error'], \n",
    "fmt='o', linewidth=1.5, capsize=3,\n",
    "color='darkred', markersize=3, label = 'Preliminary top 3')\n",
    "\n",
    "\n",
    "ax.set_yscale('log')\n",
    "ax.set_xscale('log')\n",
    "ax.set_xlabel('GBM Catalog T90')\n",
    "ax.set_ylabel('Upper bound of hardness ratio')\n",
    "\n",
    "# Estimated hardness\n",
    "\"\"\"\n",
    "NaI\n",
    "lower=14.6\n",
    "higher=40.3\n",
    "BGO\n",
    "lower=1.2\n",
    "higher=3.36\n",
    "\"\"\"\n",
    "ax.axhline(40.3, linestyle='-', color='darkred', alpha=.4)#, label='Expected LAT/NaI hardness, upper')\n",
    "ax.axhline(14.6, linestyle='-.', color='darkred', alpha=.4)#, label='Expected LAT/NaI hardness, lower')\n",
    "ax.axhspan(14.6, 40.3, facecolor='darkred', alpha=.1, label ='Expected LAT/NaI hardness')\n",
    "\n",
    "ax.axhline(3.36, linestyle='-', color='blue', alpha=.4)#, label='Expected LAT/BGO hardness, upper')\n",
    "ax.axhline(1.2, linestyle='-.', color='blue', alpha=.4)#, label='Expected LAT/BGO hardness, lower')\n",
    "ax.axhspan(1.2, 3.36, facecolor='blue', alpha=.1, label = 'Expected LAT/BGO hardness')\n",
    "\n",
    "\n",
    "# Previous estimation\n",
    "ax.axvline(0.1, linestyle='--',  label = r'Previous search: $\\tau$ = 0.1s', color='black', alpha=.4)\n",
    "\n",
    "# GBM energies\n",
    "ax.axvline(252, linestyle='--',  label = r'GBM BGO 1MeV', color='orange', alpha=.4)\n",
    "ax.axvline(267, linestyle='-.',  label = r'GBM BGO 8keV', color='orange', alpha=.4)\n",
    "ax.axvline(284, linestyle='-',  label = r'GBM NaI 200keV', color='orange', alpha=.4)\n",
    "ax.axvline(183, linestyle='-',  label = r'LAT 20MeV', color='green', alpha=.4)\n",
    "\n",
    "ax.axvspan(252, 284, color='orange', alpha=.1)\n",
    "\n",
    "ax.legend()\n",
    "\n",
    "plt.figtext(0.5, -0.05, 'Note that there are no sources on this plot in which hardness = infinity, accounting for 43 sources.\\n'+\\\n",
    "'Additionally, the NaI upper bound 40MeV may be inferred by the LAT lower bound 20MeV.',\n",
    " wrap=True, horizontalalignment='center', fontsize=10)\n",
    "\n",
    "ax.set_title('GBM T90 vs. Hardness upper-bound')\n",
    "\n",
    "fig.set_figwidth(15)\n",
    "fig.set_figheight(5)\n",
    "fig.savefig('GBM_vs_Hardness.png')\n",
    "fig.show()"
   ]
  },
  {
   "cell_type": "code",
   "execution_count": 202,
   "metadata": {},
   "outputs": [
    {
     "data": {
      "text/plain": [
       "'[\"GRB130821674\", \"GRB140206275\", \"GRB100116897\"]'"
      ]
     },
     "execution_count": 202,
     "metadata": {},
     "output_type": "execute_result"
    }
   ],
   "source": [
    "str = '['\n",
    "for name in top_3.name:\n",
    "    str += '\"%s\", '%name\n",
    "str[:-2] + ']'"
   ]
  },
  {
   "cell_type": "code",
   "execution_count": null,
   "metadata": {},
   "outputs": [],
   "source": []
  },
  {
   "cell_type": "markdown",
   "metadata": {},
   "source": [
    "--------"
   ]
  },
  {
   "cell_type": "code",
   "execution_count": 4,
   "metadata": {},
   "outputs": [
    {
     "data": {
      "application/vnd.plotly.v1+json": {
       "config": {
        "plotlyServerURL": "https://plot.ly"
       },
       "data": [
        {
         "hovertemplate": "gbm_cat_t90=%{x}<br>lle_t90=%{y}<br>hardness=%{marker.color}<extra></extra>",
         "legendgroup": "",
         "marker": {
          "color": [
           8.083893397450156,
           1.2162390897985016,
           5.5213756765316395,
           null,
           1.0369853219497833,
           14.992156887649799,
           1.1965761148791656
          ],
          "coloraxis": "coloraxis",
          "symbol": "circle"
         },
         "mode": "markers",
         "name": "",
         "orientation": "v",
         "showlegend": false,
         "type": "scatter",
         "x": [
          82.433,
          53.249,
          73.217,
          254.913,
          136.962,
          43.009,
          341.254
         ],
         "xaxis": "x",
         "y": [
          40.477,
          35.192,
          57.361,
          0,
          33.7,
          34.923,
          0
         ],
         "yaxis": "y"
        }
       ],
       "layout": {
        "coloraxis": {
         "colorbar": {
          "title": {
           "text": "hardness"
          }
         },
         "colorscale": [
          [
           0,
           "#0d0887"
          ],
          [
           0.1111111111111111,
           "#46039f"
          ],
          [
           0.2222222222222222,
           "#7201a8"
          ],
          [
           0.3333333333333333,
           "#9c179e"
          ],
          [
           0.4444444444444444,
           "#bd3786"
          ],
          [
           0.5555555555555556,
           "#d8576b"
          ],
          [
           0.6666666666666666,
           "#ed7953"
          ],
          [
           0.7777777777777778,
           "#fb9f3a"
          ],
          [
           0.8888888888888888,
           "#fdca26"
          ],
          [
           1,
           "#f0f921"
          ]
         ]
        },
        "legend": {
         "tracegroupgap": 0
        },
        "margin": {
         "t": 60
        },
        "template": {
         "data": {
          "bar": [
           {
            "error_x": {
             "color": "#2a3f5f"
            },
            "error_y": {
             "color": "#2a3f5f"
            },
            "marker": {
             "line": {
              "color": "#E5ECF6",
              "width": 0.5
             },
             "pattern": {
              "fillmode": "overlay",
              "size": 10,
              "solidity": 0.2
             }
            },
            "type": "bar"
           }
          ],
          "barpolar": [
           {
            "marker": {
             "line": {
              "color": "#E5ECF6",
              "width": 0.5
             },
             "pattern": {
              "fillmode": "overlay",
              "size": 10,
              "solidity": 0.2
             }
            },
            "type": "barpolar"
           }
          ],
          "carpet": [
           {
            "aaxis": {
             "endlinecolor": "#2a3f5f",
             "gridcolor": "white",
             "linecolor": "white",
             "minorgridcolor": "white",
             "startlinecolor": "#2a3f5f"
            },
            "baxis": {
             "endlinecolor": "#2a3f5f",
             "gridcolor": "white",
             "linecolor": "white",
             "minorgridcolor": "white",
             "startlinecolor": "#2a3f5f"
            },
            "type": "carpet"
           }
          ],
          "choropleth": [
           {
            "colorbar": {
             "outlinewidth": 0,
             "ticks": ""
            },
            "type": "choropleth"
           }
          ],
          "contour": [
           {
            "colorbar": {
             "outlinewidth": 0,
             "ticks": ""
            },
            "colorscale": [
             [
              0,
              "#0d0887"
             ],
             [
              0.1111111111111111,
              "#46039f"
             ],
             [
              0.2222222222222222,
              "#7201a8"
             ],
             [
              0.3333333333333333,
              "#9c179e"
             ],
             [
              0.4444444444444444,
              "#bd3786"
             ],
             [
              0.5555555555555556,
              "#d8576b"
             ],
             [
              0.6666666666666666,
              "#ed7953"
             ],
             [
              0.7777777777777778,
              "#fb9f3a"
             ],
             [
              0.8888888888888888,
              "#fdca26"
             ],
             [
              1,
              "#f0f921"
             ]
            ],
            "type": "contour"
           }
          ],
          "contourcarpet": [
           {
            "colorbar": {
             "outlinewidth": 0,
             "ticks": ""
            },
            "type": "contourcarpet"
           }
          ],
          "heatmap": [
           {
            "colorbar": {
             "outlinewidth": 0,
             "ticks": ""
            },
            "colorscale": [
             [
              0,
              "#0d0887"
             ],
             [
              0.1111111111111111,
              "#46039f"
             ],
             [
              0.2222222222222222,
              "#7201a8"
             ],
             [
              0.3333333333333333,
              "#9c179e"
             ],
             [
              0.4444444444444444,
              "#bd3786"
             ],
             [
              0.5555555555555556,
              "#d8576b"
             ],
             [
              0.6666666666666666,
              "#ed7953"
             ],
             [
              0.7777777777777778,
              "#fb9f3a"
             ],
             [
              0.8888888888888888,
              "#fdca26"
             ],
             [
              1,
              "#f0f921"
             ]
            ],
            "type": "heatmap"
           }
          ],
          "heatmapgl": [
           {
            "colorbar": {
             "outlinewidth": 0,
             "ticks": ""
            },
            "colorscale": [
             [
              0,
              "#0d0887"
             ],
             [
              0.1111111111111111,
              "#46039f"
             ],
             [
              0.2222222222222222,
              "#7201a8"
             ],
             [
              0.3333333333333333,
              "#9c179e"
             ],
             [
              0.4444444444444444,
              "#bd3786"
             ],
             [
              0.5555555555555556,
              "#d8576b"
             ],
             [
              0.6666666666666666,
              "#ed7953"
             ],
             [
              0.7777777777777778,
              "#fb9f3a"
             ],
             [
              0.8888888888888888,
              "#fdca26"
             ],
             [
              1,
              "#f0f921"
             ]
            ],
            "type": "heatmapgl"
           }
          ],
          "histogram": [
           {
            "marker": {
             "pattern": {
              "fillmode": "overlay",
              "size": 10,
              "solidity": 0.2
             }
            },
            "type": "histogram"
           }
          ],
          "histogram2d": [
           {
            "colorbar": {
             "outlinewidth": 0,
             "ticks": ""
            },
            "colorscale": [
             [
              0,
              "#0d0887"
             ],
             [
              0.1111111111111111,
              "#46039f"
             ],
             [
              0.2222222222222222,
              "#7201a8"
             ],
             [
              0.3333333333333333,
              "#9c179e"
             ],
             [
              0.4444444444444444,
              "#bd3786"
             ],
             [
              0.5555555555555556,
              "#d8576b"
             ],
             [
              0.6666666666666666,
              "#ed7953"
             ],
             [
              0.7777777777777778,
              "#fb9f3a"
             ],
             [
              0.8888888888888888,
              "#fdca26"
             ],
             [
              1,
              "#f0f921"
             ]
            ],
            "type": "histogram2d"
           }
          ],
          "histogram2dcontour": [
           {
            "colorbar": {
             "outlinewidth": 0,
             "ticks": ""
            },
            "colorscale": [
             [
              0,
              "#0d0887"
             ],
             [
              0.1111111111111111,
              "#46039f"
             ],
             [
              0.2222222222222222,
              "#7201a8"
             ],
             [
              0.3333333333333333,
              "#9c179e"
             ],
             [
              0.4444444444444444,
              "#bd3786"
             ],
             [
              0.5555555555555556,
              "#d8576b"
             ],
             [
              0.6666666666666666,
              "#ed7953"
             ],
             [
              0.7777777777777778,
              "#fb9f3a"
             ],
             [
              0.8888888888888888,
              "#fdca26"
             ],
             [
              1,
              "#f0f921"
             ]
            ],
            "type": "histogram2dcontour"
           }
          ],
          "mesh3d": [
           {
            "colorbar": {
             "outlinewidth": 0,
             "ticks": ""
            },
            "type": "mesh3d"
           }
          ],
          "parcoords": [
           {
            "line": {
             "colorbar": {
              "outlinewidth": 0,
              "ticks": ""
             }
            },
            "type": "parcoords"
           }
          ],
          "pie": [
           {
            "automargin": true,
            "type": "pie"
           }
          ],
          "scatter": [
           {
            "fillpattern": {
             "fillmode": "overlay",
             "size": 10,
             "solidity": 0.2
            },
            "type": "scatter"
           }
          ],
          "scatter3d": [
           {
            "line": {
             "colorbar": {
              "outlinewidth": 0,
              "ticks": ""
             }
            },
            "marker": {
             "colorbar": {
              "outlinewidth": 0,
              "ticks": ""
             }
            },
            "type": "scatter3d"
           }
          ],
          "scattercarpet": [
           {
            "marker": {
             "colorbar": {
              "outlinewidth": 0,
              "ticks": ""
             }
            },
            "type": "scattercarpet"
           }
          ],
          "scattergeo": [
           {
            "marker": {
             "colorbar": {
              "outlinewidth": 0,
              "ticks": ""
             }
            },
            "type": "scattergeo"
           }
          ],
          "scattergl": [
           {
            "marker": {
             "colorbar": {
              "outlinewidth": 0,
              "ticks": ""
             }
            },
            "type": "scattergl"
           }
          ],
          "scattermapbox": [
           {
            "marker": {
             "colorbar": {
              "outlinewidth": 0,
              "ticks": ""
             }
            },
            "type": "scattermapbox"
           }
          ],
          "scatterpolar": [
           {
            "marker": {
             "colorbar": {
              "outlinewidth": 0,
              "ticks": ""
             }
            },
            "type": "scatterpolar"
           }
          ],
          "scatterpolargl": [
           {
            "marker": {
             "colorbar": {
              "outlinewidth": 0,
              "ticks": ""
             }
            },
            "type": "scatterpolargl"
           }
          ],
          "scatterternary": [
           {
            "marker": {
             "colorbar": {
              "outlinewidth": 0,
              "ticks": ""
             }
            },
            "type": "scatterternary"
           }
          ],
          "surface": [
           {
            "colorbar": {
             "outlinewidth": 0,
             "ticks": ""
            },
            "colorscale": [
             [
              0,
              "#0d0887"
             ],
             [
              0.1111111111111111,
              "#46039f"
             ],
             [
              0.2222222222222222,
              "#7201a8"
             ],
             [
              0.3333333333333333,
              "#9c179e"
             ],
             [
              0.4444444444444444,
              "#bd3786"
             ],
             [
              0.5555555555555556,
              "#d8576b"
             ],
             [
              0.6666666666666666,
              "#ed7953"
             ],
             [
              0.7777777777777778,
              "#fb9f3a"
             ],
             [
              0.8888888888888888,
              "#fdca26"
             ],
             [
              1,
              "#f0f921"
             ]
            ],
            "type": "surface"
           }
          ],
          "table": [
           {
            "cells": {
             "fill": {
              "color": "#EBF0F8"
             },
             "line": {
              "color": "white"
             }
            },
            "header": {
             "fill": {
              "color": "#C8D4E3"
             },
             "line": {
              "color": "white"
             }
            },
            "type": "table"
           }
          ]
         },
         "layout": {
          "annotationdefaults": {
           "arrowcolor": "#2a3f5f",
           "arrowhead": 0,
           "arrowwidth": 1
          },
          "autotypenumbers": "strict",
          "coloraxis": {
           "colorbar": {
            "outlinewidth": 0,
            "ticks": ""
           }
          },
          "colorscale": {
           "diverging": [
            [
             0,
             "#8e0152"
            ],
            [
             0.1,
             "#c51b7d"
            ],
            [
             0.2,
             "#de77ae"
            ],
            [
             0.3,
             "#f1b6da"
            ],
            [
             0.4,
             "#fde0ef"
            ],
            [
             0.5,
             "#f7f7f7"
            ],
            [
             0.6,
             "#e6f5d0"
            ],
            [
             0.7,
             "#b8e186"
            ],
            [
             0.8,
             "#7fbc41"
            ],
            [
             0.9,
             "#4d9221"
            ],
            [
             1,
             "#276419"
            ]
           ],
           "sequential": [
            [
             0,
             "#0d0887"
            ],
            [
             0.1111111111111111,
             "#46039f"
            ],
            [
             0.2222222222222222,
             "#7201a8"
            ],
            [
             0.3333333333333333,
             "#9c179e"
            ],
            [
             0.4444444444444444,
             "#bd3786"
            ],
            [
             0.5555555555555556,
             "#d8576b"
            ],
            [
             0.6666666666666666,
             "#ed7953"
            ],
            [
             0.7777777777777778,
             "#fb9f3a"
            ],
            [
             0.8888888888888888,
             "#fdca26"
            ],
            [
             1,
             "#f0f921"
            ]
           ],
           "sequentialminus": [
            [
             0,
             "#0d0887"
            ],
            [
             0.1111111111111111,
             "#46039f"
            ],
            [
             0.2222222222222222,
             "#7201a8"
            ],
            [
             0.3333333333333333,
             "#9c179e"
            ],
            [
             0.4444444444444444,
             "#bd3786"
            ],
            [
             0.5555555555555556,
             "#d8576b"
            ],
            [
             0.6666666666666666,
             "#ed7953"
            ],
            [
             0.7777777777777778,
             "#fb9f3a"
            ],
            [
             0.8888888888888888,
             "#fdca26"
            ],
            [
             1,
             "#f0f921"
            ]
           ]
          },
          "colorway": [
           "#636efa",
           "#EF553B",
           "#00cc96",
           "#ab63fa",
           "#FFA15A",
           "#19d3f3",
           "#FF6692",
           "#B6E880",
           "#FF97FF",
           "#FECB52"
          ],
          "font": {
           "color": "#2a3f5f"
          },
          "geo": {
           "bgcolor": "white",
           "lakecolor": "white",
           "landcolor": "#E5ECF6",
           "showlakes": true,
           "showland": true,
           "subunitcolor": "white"
          },
          "hoverlabel": {
           "align": "left"
          },
          "hovermode": "closest",
          "mapbox": {
           "style": "light"
          },
          "paper_bgcolor": "white",
          "plot_bgcolor": "#E5ECF6",
          "polar": {
           "angularaxis": {
            "gridcolor": "white",
            "linecolor": "white",
            "ticks": ""
           },
           "bgcolor": "#E5ECF6",
           "radialaxis": {
            "gridcolor": "white",
            "linecolor": "white",
            "ticks": ""
           }
          },
          "scene": {
           "xaxis": {
            "backgroundcolor": "#E5ECF6",
            "gridcolor": "white",
            "gridwidth": 2,
            "linecolor": "white",
            "showbackground": true,
            "ticks": "",
            "zerolinecolor": "white"
           },
           "yaxis": {
            "backgroundcolor": "#E5ECF6",
            "gridcolor": "white",
            "gridwidth": 2,
            "linecolor": "white",
            "showbackground": true,
            "ticks": "",
            "zerolinecolor": "white"
           },
           "zaxis": {
            "backgroundcolor": "#E5ECF6",
            "gridcolor": "white",
            "gridwidth": 2,
            "linecolor": "white",
            "showbackground": true,
            "ticks": "",
            "zerolinecolor": "white"
           }
          },
          "shapedefaults": {
           "line": {
            "color": "#2a3f5f"
           }
          },
          "ternary": {
           "aaxis": {
            "gridcolor": "white",
            "linecolor": "white",
            "ticks": ""
           },
           "baxis": {
            "gridcolor": "white",
            "linecolor": "white",
            "ticks": ""
           },
           "bgcolor": "#E5ECF6",
           "caxis": {
            "gridcolor": "white",
            "linecolor": "white",
            "ticks": ""
           }
          },
          "title": {
           "x": 0.05
          },
          "xaxis": {
           "automargin": true,
           "gridcolor": "white",
           "linecolor": "white",
           "ticks": "",
           "title": {
            "standoff": 15
           },
           "zerolinecolor": "white",
           "zerolinewidth": 2
          },
          "yaxis": {
           "automargin": true,
           "gridcolor": "white",
           "linecolor": "white",
           "ticks": "",
           "title": {
            "standoff": 15
           },
           "zerolinecolor": "white",
           "zerolinewidth": 2
          }
         }
        },
        "xaxis": {
         "anchor": "y",
         "domain": [
          0,
          1
         ],
         "title": {
          "text": "gbm_cat_t90"
         }
        },
        "yaxis": {
         "anchor": "x",
         "domain": [
          0,
          1
         ],
         "title": {
          "text": "lle_t90"
         }
        }
       }
      }
     },
     "metadata": {},
     "output_type": "display_data"
    }
   ],
   "source": [
    "selected_candidates = all_candidates.query('redshift == 0 & hardness > 1').query(\n",
    "     '(gbm_cat_t90 > 200 & gbm_cat_t90 < 350) | (lle_t90 < 200 & lle_t90 > 30)'\n",
    ")\n",
    "\n",
    "px.scatter(selected_candidates, x='gbm_cat_t90', y='lle_t90', color='hardness')"
   ]
  },
  {
   "cell_type": "code",
   "execution_count": 7,
   "metadata": {},
   "outputs": [
    {
     "data": {
      "application/vnd.plotly.v1+json": {
       "config": {
        "plotlyServerURL": "https://plot.ly"
       },
       "data": [
        {
         "hovertemplate": "gbm_cat_t90=%{x}<br>lle_t90=%{y}<br>log_hardness=%{marker.color}<extra></extra>",
         "legendgroup": "",
         "marker": {
          "color": [
           null,
           2.4962273799519177,
           1.0621491893356925,
           0.2005406286789683,
           null,
           0.8636644496230368,
           1.6208452972950498,
           1.3183026159836047,
           2.0640485032614477,
           0.7539933317583426,
           null,
           0.7812041883189556,
           1.030078632388049,
           null,
           null,
           1.672658462924577,
           null,
           null,
           null,
           0.8638380904013259,
           null,
           1.3465112265339085,
           null,
           0.04584834218680065,
           3.4834897762476116,
           1.1544794359771429,
           0.9332631319433757,
           null,
           0.1913976914996786,
           0.961989517574587,
           2.0898736125976924,
           0.1957633841168996,
           0.456422097644702,
           2.954114536791855,
           0.025902192748596047,
           0.2234460413145195,
           0.7099781601340106,
           0.3983957763557229,
           0.13979563244110763,
           0.1203917337245664,
           null,
           null,
           1.3417520101030889,
           null,
           1.0481829206915303,
           0.026458575558723028,
           1.4673383669615645,
           0.1422037102009176,
           0.23598058158760654,
           1.084134474206546,
           0.48110481463256805,
           null,
           null,
           0.22627222975733563,
           null,
           null,
           1.658017764930002,
           0.2021718639341358,
           1.6210027996723655,
           1.1541727157610964,
           2.09393266532796,
           null,
           0.6661491441814761,
           2.8010635598857836,
           0.292340321527772,
           0.16831704962953442,
           1.7387990801298787,
           2.316330603671333,
           0.18368152672437915,
           null,
           null,
           0.04562950837665308,
           null,
           0.9725472008458109,
           0.22518754006335717,
           null,
           2.429512246503565,
           null,
           null,
           0.27745976121490323,
           0.47249780842568845,
           null,
           null,
           1.7086270460026431,
           null,
           0.5194378663652652,
           null,
           1.0659814423937333,
           2.268951768365295,
           null,
           null,
           null,
           0.09934031249264615,
           1.2688516413406767,
           0.266225442873157,
           0.4051369796500633,
           3.013289626943623,
           null,
           null,
           null,
           0.0065599893707629555,
           1.2802050591872451,
           2.0815348881941733,
           0.7914622699655849,
           0.07177422917772606,
           0.6502583725756969,
           2.7055556431570977,
           0.1064488296022436,
           1.131968130608188,
           1.2156775576524224,
           null,
           0.036317774807567024,
           null,
           0.374998719574815,
           null,
           null,
           0.5419469045249029,
           1.681226102661819,
           0.2629378794167349,
           0.5356362524431048,
           0.9302711056708092,
           null,
           2.7075271901991687,
           0.7986355567499013,
           0.35106242859778675,
           0.01663779427548505,
           null,
           2.0709320538529075,
           0.17946424095154725,
           0.6947873496565975,
           null,
           0.39145166968473877,
           1.4124148166920545,
           0.9955072563557028,
           1.430794260982161,
           1.5861269095166295,
           1.1630824420678638,
           null
          ],
          "coloraxis": "coloraxis",
          "symbol": "circle"
         },
         "mode": "markers",
         "name": "",
         "orientation": "v",
         "showlegend": false,
         "type": "scatter",
         "x": [
          111.426,
          15.872,
          42.945,
          52.48,
          32.001,
          23.04,
          31.232,
          13.568,
          20.736,
          32.513,
          0.128,
          6.4,
          12.992,
          13.568,
          12.288,
          33.921,
          2.752,
          45.825,
          0.512,
          26.624,
          17.92,
          37.633,
          64.577,
          10.752,
          32.513,
          33.537,
          27.328,
          449.415,
          2.624,
          44.288,
          82.433,
          53.249,
          16.189,
          38.145,
          127.746,
          21.822,
          118.018,
          69,
          9.472,
          40.193,
          43.649,
          35,
          48.897,
          1.536,
          0.896,
          0.448,
          44.801,
          5.44,
          7.104,
          17.664,
          15.808,
          0.144,
          42.497,
          158.978,
          12.032,
          52.225,
          29.697,
          3.2,
          27.648,
          6.912,
          23.808,
          14,
          26.173,
          87.041,
          2.816,
          41.473,
          187.137,
          146.69,
          33.28,
          64.001,
          25.856,
          111.872,
          122.37,
          20.992,
          56.32,
          28.672,
          42.433,
          0.224,
          36.865,
          3.648,
          17.664,
          103.938,
          87,
          73.217,
          17.374,
          0.704,
          60,
          51.904,
          0.32,
          26.88,
          77.056,
          0.2,
          33.536,
          0.48,
          21.632,
          31.294,
          102.53,
          13.376,
          60,
          254.913,
          55.553,
          30.721,
          38.913,
          41.345,
          24.833,
          0.64,
          44.062,
          375.814,
          19.2,
          7.424,
          81.665,
          136.962,
          17.856,
          1.264,
          5.312,
          18.432,
          121.538,
          11.072,
          23.296,
          65.793,
          83.97,
          31.744,
          43.009,
          98.562,
          48.128,
          104.449,
          39.361,
          0.576,
          341.254,
          9.536,
          23.552,
          6.08,
          5.632,
          93.44,
          24.32,
          46.336,
          16.448,
          2.816
         ],
         "xaxis": "x",
         "y": [
          0,
          6.354,
          0.203,
          7.229,
          0,
          0,
          0,
          9.595,
          7.117,
          0,
          0,
          0,
          6.992,
          0,
          0,
          16.617,
          1.293,
          0,
          0,
          0.398,
          0,
          0,
          13.583,
          0,
          0,
          23.343,
          0.46,
          1.666,
          0,
          11.033,
          40.477,
          35.192,
          9.901,
          6.702,
          28.711,
          6.005,
          0,
          28.23,
          5.983,
          1.473,
          0,
          0,
          0.889,
          0,
          0,
          0,
          0,
          3.205,
          0,
          0.935,
          0,
          0,
          0,
          11.36,
          0,
          0,
          0,
          1.811,
          0,
          0,
          19.018,
          0,
          0.231,
          9.275,
          1.124,
          13.622,
          0,
          27.601,
          13.542,
          0,
          0,
          0,
          0,
          1.203,
          20.822,
          0,
          0,
          0.101,
          0,
          2.872,
          10.309,
          2.696,
          0,
          57.361,
          0,
          0,
          0,
          16.38,
          1.546,
          0,
          0,
          0,
          0,
          0,
          0,
          2.521,
          6.657,
          0,
          0,
          0,
          0,
          1.985,
          0,
          0,
          1.282,
          1.32,
          0,
          0,
          0,
          0,
          0,
          33.7,
          0,
          1.645,
          0,
          18.417,
          0,
          10.455,
          0,
          7.837,
          26.273,
          0,
          34.923,
          0,
          6.207,
          0,
          0,
          0,
          0,
          0,
          0,
          5.777,
          0,
          16.139,
          1.563,
          0.41,
          0,
          0
         ],
         "yaxis": "y"
        }
       ],
       "layout": {
        "coloraxis": {
         "colorbar": {
          "title": {
           "text": "log_hardness"
          }
         },
         "colorscale": [
          [
           0,
           "#0d0887"
          ],
          [
           0.1111111111111111,
           "#46039f"
          ],
          [
           0.2222222222222222,
           "#7201a8"
          ],
          [
           0.3333333333333333,
           "#9c179e"
          ],
          [
           0.4444444444444444,
           "#bd3786"
          ],
          [
           0.5555555555555556,
           "#d8576b"
          ],
          [
           0.6666666666666666,
           "#ed7953"
          ],
          [
           0.7777777777777778,
           "#fb9f3a"
          ],
          [
           0.8888888888888888,
           "#fdca26"
          ],
          [
           1,
           "#f0f921"
          ]
         ]
        },
        "legend": {
         "tracegroupgap": 0
        },
        "margin": {
         "t": 60
        },
        "template": {
         "data": {
          "bar": [
           {
            "error_x": {
             "color": "#2a3f5f"
            },
            "error_y": {
             "color": "#2a3f5f"
            },
            "marker": {
             "line": {
              "color": "#E5ECF6",
              "width": 0.5
             },
             "pattern": {
              "fillmode": "overlay",
              "size": 10,
              "solidity": 0.2
             }
            },
            "type": "bar"
           }
          ],
          "barpolar": [
           {
            "marker": {
             "line": {
              "color": "#E5ECF6",
              "width": 0.5
             },
             "pattern": {
              "fillmode": "overlay",
              "size": 10,
              "solidity": 0.2
             }
            },
            "type": "barpolar"
           }
          ],
          "carpet": [
           {
            "aaxis": {
             "endlinecolor": "#2a3f5f",
             "gridcolor": "white",
             "linecolor": "white",
             "minorgridcolor": "white",
             "startlinecolor": "#2a3f5f"
            },
            "baxis": {
             "endlinecolor": "#2a3f5f",
             "gridcolor": "white",
             "linecolor": "white",
             "minorgridcolor": "white",
             "startlinecolor": "#2a3f5f"
            },
            "type": "carpet"
           }
          ],
          "choropleth": [
           {
            "colorbar": {
             "outlinewidth": 0,
             "ticks": ""
            },
            "type": "choropleth"
           }
          ],
          "contour": [
           {
            "colorbar": {
             "outlinewidth": 0,
             "ticks": ""
            },
            "colorscale": [
             [
              0,
              "#0d0887"
             ],
             [
              0.1111111111111111,
              "#46039f"
             ],
             [
              0.2222222222222222,
              "#7201a8"
             ],
             [
              0.3333333333333333,
              "#9c179e"
             ],
             [
              0.4444444444444444,
              "#bd3786"
             ],
             [
              0.5555555555555556,
              "#d8576b"
             ],
             [
              0.6666666666666666,
              "#ed7953"
             ],
             [
              0.7777777777777778,
              "#fb9f3a"
             ],
             [
              0.8888888888888888,
              "#fdca26"
             ],
             [
              1,
              "#f0f921"
             ]
            ],
            "type": "contour"
           }
          ],
          "contourcarpet": [
           {
            "colorbar": {
             "outlinewidth": 0,
             "ticks": ""
            },
            "type": "contourcarpet"
           }
          ],
          "heatmap": [
           {
            "colorbar": {
             "outlinewidth": 0,
             "ticks": ""
            },
            "colorscale": [
             [
              0,
              "#0d0887"
             ],
             [
              0.1111111111111111,
              "#46039f"
             ],
             [
              0.2222222222222222,
              "#7201a8"
             ],
             [
              0.3333333333333333,
              "#9c179e"
             ],
             [
              0.4444444444444444,
              "#bd3786"
             ],
             [
              0.5555555555555556,
              "#d8576b"
             ],
             [
              0.6666666666666666,
              "#ed7953"
             ],
             [
              0.7777777777777778,
              "#fb9f3a"
             ],
             [
              0.8888888888888888,
              "#fdca26"
             ],
             [
              1,
              "#f0f921"
             ]
            ],
            "type": "heatmap"
           }
          ],
          "heatmapgl": [
           {
            "colorbar": {
             "outlinewidth": 0,
             "ticks": ""
            },
            "colorscale": [
             [
              0,
              "#0d0887"
             ],
             [
              0.1111111111111111,
              "#46039f"
             ],
             [
              0.2222222222222222,
              "#7201a8"
             ],
             [
              0.3333333333333333,
              "#9c179e"
             ],
             [
              0.4444444444444444,
              "#bd3786"
             ],
             [
              0.5555555555555556,
              "#d8576b"
             ],
             [
              0.6666666666666666,
              "#ed7953"
             ],
             [
              0.7777777777777778,
              "#fb9f3a"
             ],
             [
              0.8888888888888888,
              "#fdca26"
             ],
             [
              1,
              "#f0f921"
             ]
            ],
            "type": "heatmapgl"
           }
          ],
          "histogram": [
           {
            "marker": {
             "pattern": {
              "fillmode": "overlay",
              "size": 10,
              "solidity": 0.2
             }
            },
            "type": "histogram"
           }
          ],
          "histogram2d": [
           {
            "colorbar": {
             "outlinewidth": 0,
             "ticks": ""
            },
            "colorscale": [
             [
              0,
              "#0d0887"
             ],
             [
              0.1111111111111111,
              "#46039f"
             ],
             [
              0.2222222222222222,
              "#7201a8"
             ],
             [
              0.3333333333333333,
              "#9c179e"
             ],
             [
              0.4444444444444444,
              "#bd3786"
             ],
             [
              0.5555555555555556,
              "#d8576b"
             ],
             [
              0.6666666666666666,
              "#ed7953"
             ],
             [
              0.7777777777777778,
              "#fb9f3a"
             ],
             [
              0.8888888888888888,
              "#fdca26"
             ],
             [
              1,
              "#f0f921"
             ]
            ],
            "type": "histogram2d"
           }
          ],
          "histogram2dcontour": [
           {
            "colorbar": {
             "outlinewidth": 0,
             "ticks": ""
            },
            "colorscale": [
             [
              0,
              "#0d0887"
             ],
             [
              0.1111111111111111,
              "#46039f"
             ],
             [
              0.2222222222222222,
              "#7201a8"
             ],
             [
              0.3333333333333333,
              "#9c179e"
             ],
             [
              0.4444444444444444,
              "#bd3786"
             ],
             [
              0.5555555555555556,
              "#d8576b"
             ],
             [
              0.6666666666666666,
              "#ed7953"
             ],
             [
              0.7777777777777778,
              "#fb9f3a"
             ],
             [
              0.8888888888888888,
              "#fdca26"
             ],
             [
              1,
              "#f0f921"
             ]
            ],
            "type": "histogram2dcontour"
           }
          ],
          "mesh3d": [
           {
            "colorbar": {
             "outlinewidth": 0,
             "ticks": ""
            },
            "type": "mesh3d"
           }
          ],
          "parcoords": [
           {
            "line": {
             "colorbar": {
              "outlinewidth": 0,
              "ticks": ""
             }
            },
            "type": "parcoords"
           }
          ],
          "pie": [
           {
            "automargin": true,
            "type": "pie"
           }
          ],
          "scatter": [
           {
            "fillpattern": {
             "fillmode": "overlay",
             "size": 10,
             "solidity": 0.2
            },
            "type": "scatter"
           }
          ],
          "scatter3d": [
           {
            "line": {
             "colorbar": {
              "outlinewidth": 0,
              "ticks": ""
             }
            },
            "marker": {
             "colorbar": {
              "outlinewidth": 0,
              "ticks": ""
             }
            },
            "type": "scatter3d"
           }
          ],
          "scattercarpet": [
           {
            "marker": {
             "colorbar": {
              "outlinewidth": 0,
              "ticks": ""
             }
            },
            "type": "scattercarpet"
           }
          ],
          "scattergeo": [
           {
            "marker": {
             "colorbar": {
              "outlinewidth": 0,
              "ticks": ""
             }
            },
            "type": "scattergeo"
           }
          ],
          "scattergl": [
           {
            "marker": {
             "colorbar": {
              "outlinewidth": 0,
              "ticks": ""
             }
            },
            "type": "scattergl"
           }
          ],
          "scattermapbox": [
           {
            "marker": {
             "colorbar": {
              "outlinewidth": 0,
              "ticks": ""
             }
            },
            "type": "scattermapbox"
           }
          ],
          "scatterpolar": [
           {
            "marker": {
             "colorbar": {
              "outlinewidth": 0,
              "ticks": ""
             }
            },
            "type": "scatterpolar"
           }
          ],
          "scatterpolargl": [
           {
            "marker": {
             "colorbar": {
              "outlinewidth": 0,
              "ticks": ""
             }
            },
            "type": "scatterpolargl"
           }
          ],
          "scatterternary": [
           {
            "marker": {
             "colorbar": {
              "outlinewidth": 0,
              "ticks": ""
             }
            },
            "type": "scatterternary"
           }
          ],
          "surface": [
           {
            "colorbar": {
             "outlinewidth": 0,
             "ticks": ""
            },
            "colorscale": [
             [
              0,
              "#0d0887"
             ],
             [
              0.1111111111111111,
              "#46039f"
             ],
             [
              0.2222222222222222,
              "#7201a8"
             ],
             [
              0.3333333333333333,
              "#9c179e"
             ],
             [
              0.4444444444444444,
              "#bd3786"
             ],
             [
              0.5555555555555556,
              "#d8576b"
             ],
             [
              0.6666666666666666,
              "#ed7953"
             ],
             [
              0.7777777777777778,
              "#fb9f3a"
             ],
             [
              0.8888888888888888,
              "#fdca26"
             ],
             [
              1,
              "#f0f921"
             ]
            ],
            "type": "surface"
           }
          ],
          "table": [
           {
            "cells": {
             "fill": {
              "color": "#EBF0F8"
             },
             "line": {
              "color": "white"
             }
            },
            "header": {
             "fill": {
              "color": "#C8D4E3"
             },
             "line": {
              "color": "white"
             }
            },
            "type": "table"
           }
          ]
         },
         "layout": {
          "annotationdefaults": {
           "arrowcolor": "#2a3f5f",
           "arrowhead": 0,
           "arrowwidth": 1
          },
          "autotypenumbers": "strict",
          "coloraxis": {
           "colorbar": {
            "outlinewidth": 0,
            "ticks": ""
           }
          },
          "colorscale": {
           "diverging": [
            [
             0,
             "#8e0152"
            ],
            [
             0.1,
             "#c51b7d"
            ],
            [
             0.2,
             "#de77ae"
            ],
            [
             0.3,
             "#f1b6da"
            ],
            [
             0.4,
             "#fde0ef"
            ],
            [
             0.5,
             "#f7f7f7"
            ],
            [
             0.6,
             "#e6f5d0"
            ],
            [
             0.7,
             "#b8e186"
            ],
            [
             0.8,
             "#7fbc41"
            ],
            [
             0.9,
             "#4d9221"
            ],
            [
             1,
             "#276419"
            ]
           ],
           "sequential": [
            [
             0,
             "#0d0887"
            ],
            [
             0.1111111111111111,
             "#46039f"
            ],
            [
             0.2222222222222222,
             "#7201a8"
            ],
            [
             0.3333333333333333,
             "#9c179e"
            ],
            [
             0.4444444444444444,
             "#bd3786"
            ],
            [
             0.5555555555555556,
             "#d8576b"
            ],
            [
             0.6666666666666666,
             "#ed7953"
            ],
            [
             0.7777777777777778,
             "#fb9f3a"
            ],
            [
             0.8888888888888888,
             "#fdca26"
            ],
            [
             1,
             "#f0f921"
            ]
           ],
           "sequentialminus": [
            [
             0,
             "#0d0887"
            ],
            [
             0.1111111111111111,
             "#46039f"
            ],
            [
             0.2222222222222222,
             "#7201a8"
            ],
            [
             0.3333333333333333,
             "#9c179e"
            ],
            [
             0.4444444444444444,
             "#bd3786"
            ],
            [
             0.5555555555555556,
             "#d8576b"
            ],
            [
             0.6666666666666666,
             "#ed7953"
            ],
            [
             0.7777777777777778,
             "#fb9f3a"
            ],
            [
             0.8888888888888888,
             "#fdca26"
            ],
            [
             1,
             "#f0f921"
            ]
           ]
          },
          "colorway": [
           "#636efa",
           "#EF553B",
           "#00cc96",
           "#ab63fa",
           "#FFA15A",
           "#19d3f3",
           "#FF6692",
           "#B6E880",
           "#FF97FF",
           "#FECB52"
          ],
          "font": {
           "color": "#2a3f5f"
          },
          "geo": {
           "bgcolor": "white",
           "lakecolor": "white",
           "landcolor": "#E5ECF6",
           "showlakes": true,
           "showland": true,
           "subunitcolor": "white"
          },
          "hoverlabel": {
           "align": "left"
          },
          "hovermode": "closest",
          "mapbox": {
           "style": "light"
          },
          "paper_bgcolor": "white",
          "plot_bgcolor": "#E5ECF6",
          "polar": {
           "angularaxis": {
            "gridcolor": "white",
            "linecolor": "white",
            "ticks": ""
           },
           "bgcolor": "#E5ECF6",
           "radialaxis": {
            "gridcolor": "white",
            "linecolor": "white",
            "ticks": ""
           }
          },
          "scene": {
           "xaxis": {
            "backgroundcolor": "#E5ECF6",
            "gridcolor": "white",
            "gridwidth": 2,
            "linecolor": "white",
            "showbackground": true,
            "ticks": "",
            "zerolinecolor": "white"
           },
           "yaxis": {
            "backgroundcolor": "#E5ECF6",
            "gridcolor": "white",
            "gridwidth": 2,
            "linecolor": "white",
            "showbackground": true,
            "ticks": "",
            "zerolinecolor": "white"
           },
           "zaxis": {
            "backgroundcolor": "#E5ECF6",
            "gridcolor": "white",
            "gridwidth": 2,
            "linecolor": "white",
            "showbackground": true,
            "ticks": "",
            "zerolinecolor": "white"
           }
          },
          "shapedefaults": {
           "line": {
            "color": "#2a3f5f"
           }
          },
          "ternary": {
           "aaxis": {
            "gridcolor": "white",
            "linecolor": "white",
            "ticks": ""
           },
           "baxis": {
            "gridcolor": "white",
            "linecolor": "white",
            "ticks": ""
           },
           "bgcolor": "#E5ECF6",
           "caxis": {
            "gridcolor": "white",
            "linecolor": "white",
            "ticks": ""
           }
          },
          "title": {
           "x": 0.05
          },
          "xaxis": {
           "automargin": true,
           "gridcolor": "white",
           "linecolor": "white",
           "ticks": "",
           "title": {
            "standoff": 15
           },
           "zerolinecolor": "white",
           "zerolinewidth": 2
          },
          "yaxis": {
           "automargin": true,
           "gridcolor": "white",
           "linecolor": "white",
           "ticks": "",
           "title": {
            "standoff": 15
           },
           "zerolinecolor": "white",
           "zerolinewidth": 2
          }
         }
        },
        "xaxis": {
         "anchor": "y",
         "domain": [
          0,
          1
         ],
         "title": {
          "text": "gbm_cat_t90"
         },
         "type": "log"
        },
        "yaxis": {
         "anchor": "x",
         "domain": [
          0,
          1
         ],
         "title": {
          "text": "lle_t90"
         },
         "type": "log"
        }
       }
      }
     },
     "metadata": {},
     "output_type": "display_data"
    }
   ],
   "source": [
    "all_candidates['log_hardness'] = np.log(all_candidates['hardness'])\n",
    "fig = px.scatter(all_candidates.query('redshift == 0 & hardness > 1'), x='gbm_cat_t90', y='lle_t90', color='log_hardness', log_y=True, log_x=True)\n",
    "fig"
   ]
  },
  {
   "cell_type": "code",
   "execution_count": null,
   "metadata": {},
   "outputs": [],
   "source": []
  }
 ],
 "metadata": {
  "kernelspec": {
   "display_name": "Python 3.7.12 ('threeML')",
   "language": "python",
   "name": "python3"
  },
  "language_info": {
   "codemirror_mode": {
    "name": "ipython",
    "version": 3
   },
   "file_extension": ".py",
   "mimetype": "text/x-python",
   "name": "python",
   "nbconvert_exporter": "python",
   "pygments_lexer": "ipython3",
   "version": "3.7.12"
  },
  "orig_nbformat": 4,
  "vscode": {
   "interpreter": {
    "hash": "6a8928d6b6a07e0ed465d32f5bf5af9b2ab2f88849a9b2672ccc4b697fae7c51"
   }
  }
 },
 "nbformat": 4,
 "nbformat_minor": 2
}
