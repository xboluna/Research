{
 "cells": [
  {
   "cell_type": "code",
   "execution_count": 1,
   "metadata": {},
   "outputs": [],
   "source": [
    "import pandas as pd\n",
    "import matplotlib.pyplot as plt\n",
    "import seaborn as sns\n",
    "import numpy as np\n",
    "from astropy.table import Table\n",
    "import warnings\n",
    "warnings.simplefilter(\"ignore\")\n",
    "\n",
    "import plotly.express as px"
   ]
  },
  {
   "cell_type": "markdown",
   "metadata": {},
   "source": [
    "- [The Catalog site](https://heasarc.gsfc.nasa.gov/db-perl/W3Browse/w3table.pl?tablehead=name%3Dfermilgrb&Action=More+Options)\n",
    "- [Feature key](https://heasarc.gsfc.nasa.gov/W3Browse/fermi/fermilgrb.html)\n",
    "\n",
    "You can check a burst's GBM detectors by putting its name into the [GRB burst catalog](https://heasarc.gsfc.nasa.gov/db-perl/W3Browse/w3table.pl?tablehead=name%3Dfermigbrst&Action=More+Options) and selecting the data products option \"D\".\n",
    "\n",
    "--- \n",
    "\n",
    "- FullCatalog.fits holds ALL GRB sources contained in the 2nd Fermi-LAT GRB Catalog\n",
    "- RS=null.fits holds GRBs which have a null in the redshift parameter\n",
    "---"
   ]
  },
  {
   "cell_type": "markdown",
   "metadata": {},
   "source": [
    "Stefano's estimated T90s by energy,\n",
    "\n",
    "- 8 keV: 267 sec\n",
    "- 200 keV: 284 sec\n",
    "- 1 MeV: 252 sec\n",
    "- 40 MeV: 183 sec\n",
    "- 200 GeV: 36.7 sec\n",
    "\n",
    "So we look for sources which glow for 250+s in the GBM and 35-180s in the LAT"
   ]
  },
  {
   "cell_type": "code",
   "execution_count": 2,
   "metadata": {},
   "outputs": [],
   "source": [
    "### Helper functions -- always run this cell\n",
    "\n",
    "def clean_data(targets):\n",
    "    # Cleans columns & GRB names\n",
    "    \n",
    "    # Remove trailing whitespace\n",
    "    targets = targets.rename(columns=lambda x: x.strip().lower())\n",
    "    # Cleans GRB names\n",
    "    targets['name'] = targets['name'].str.decode(\"utf-8\").replace('\\'','').replace(r\"^ +| +$\", r\"\", regex=True)[1:]\n",
    "    targets['gcn_name'] = targets['gcn_name'].str.decode(\"utf-8\").replace('\\'','').replace(r\"^ +| +$\", r\"\", regex=True)[1:]\n",
    "\n",
    "    return targets\n",
    "\n",
    "def propagate_error(a, b, e_a, e_b):\n",
    "    return np.abs(a/b) * np.sqrt( (e_a/a)**2 + (e_b/b) )\n",
    "\n",
    "def calculate_hardness(targets):\n",
    "    # Calculates flux, flux_ene & fluence ratios with corresponding error\n",
    "    targets['flux_ratio'] = targets['like_gbm_flux']/targets['like_lat_flux']\n",
    "    targets['flux_ene_ratio'] = targets['like_gbm_flux_ene']/targets['like_lat_flux_ene']\n",
    "    targets['fluence_ratio'] = targets['like_gbm_fluence']/targets['like_lat_fluence']\n",
    "    targets['hardness'] = targets['like_lat_fluence']/targets['like_gbm_fluence']\n",
    "\n",
    "\n",
    "\n",
    "    targets['flux_ratio_error'] = propagate_error(targets['like_gbm_flux'],\n",
    "                                                  targets['like_lat_flux'],\n",
    "                                                  targets['like_gbm_flux_error'],\n",
    "                                                  targets['like_lat_flux_error'])\n",
    "\n",
    "    targets['flux_ene_ratio_error'] = propagate_error(targets['like_gbm_flux_ene'],\n",
    "                                                      targets['like_lat_flux_ene'],\n",
    "                                                      targets['like_gbm_flux_ene_error'],\n",
    "                                                      targets['like_lat_flux_ene_error'])\n",
    "\n",
    "    targets['fluence_ratio_error'] = propagate_error(targets['like_gbm_fluence'],\n",
    "                                                      targets['like_lat_fluence'],\n",
    "                                                      targets['like_gbm_fluence_error'],\n",
    "                                                      targets['like_lat_fluence_error'])\n",
    "    \n",
    "    targets['hardness_error'] = propagate_error(targets['like_lat_fluence'],\n",
    "                                                targets['like_gbm_fluence'],\n",
    "                                                targets['like_lat_fluence_error'],\n",
    "                                                targets['like_gbm_fluence_error'])\n",
    "    return targets\n",
    "\n",
    "def calculate_time_difference(targets):\n",
    "    # Calculate like & gbm-lle time differences\n",
    "    targets['like_gbm-lat_time_difference'] = targets['like_gbm_t0'] - targets['like_lat_t0']\n",
    "    targets['gbm-lle_t90_difference'] = targets['gbm_cat_t90'] - targets['lle_t90']\n",
    "    return targets"
   ]
  },
  {
   "cell_type": "code",
   "execution_count": 3,
   "metadata": {},
   "outputs": [
    {
     "data": {
      "text/html": [
       "<div>\n",
       "<style scoped>\n",
       "    .dataframe tbody tr th:only-of-type {\n",
       "        vertical-align: middle;\n",
       "    }\n",
       "\n",
       "    .dataframe tbody tr th {\n",
       "        vertical-align: top;\n",
       "    }\n",
       "\n",
       "    .dataframe thead th {\n",
       "        text-align: right;\n",
       "    }\n",
       "</style>\n",
       "<table border=\"1\" class=\"dataframe\">\n",
       "  <thead>\n",
       "    <tr style=\"text-align: right;\">\n",
       "      <th></th>\n",
       "      <th>fluence_ratio</th>\n",
       "      <th>hardness</th>\n",
       "      <th>flux_ratio_error</th>\n",
       "      <th>flux_ene_ratio_error</th>\n",
       "      <th>fluence_ratio_error</th>\n",
       "      <th>hardness_error</th>\n",
       "      <th>like_gbm-lat_time_difference</th>\n",
       "      <th>gbm-lle_t90_difference</th>\n",
       "    </tr>\n",
       "  </thead>\n",
       "  <tbody>\n",
       "    <tr>\n",
       "      <th>count</th>\n",
       "      <td>223.0</td>\n",
       "      <td>223.0</td>\n",
       "      <td>157.0</td>\n",
       "      <td>157.0</td>\n",
       "      <td>157.0</td>\n",
       "      <td>157.0</td>\n",
       "      <td>231.0</td>\n",
       "      <td>231.0</td>\n",
       "    </tr>\n",
       "    <tr>\n",
       "      <th>unique</th>\n",
       "      <td>159.0</td>\n",
       "      <td>159.0</td>\n",
       "      <td>143.0</td>\n",
       "      <td>143.0</td>\n",
       "      <td>143.0</td>\n",
       "      <td>143.0</td>\n",
       "      <td>222.0</td>\n",
       "      <td>226.0</td>\n",
       "    </tr>\n",
       "    <tr>\n",
       "      <th>top</th>\n",
       "      <td>0.0</td>\n",
       "      <td>inf</td>\n",
       "      <td>0.0</td>\n",
       "      <td>0.0</td>\n",
       "      <td>0.0</td>\n",
       "      <td>0.0</td>\n",
       "      <td>0.0</td>\n",
       "      <td>60.0</td>\n",
       "    </tr>\n",
       "    <tr>\n",
       "      <th>freq</th>\n",
       "      <td>58.0</td>\n",
       "      <td>58.0</td>\n",
       "      <td>15.0</td>\n",
       "      <td>15.0</td>\n",
       "      <td>15.0</td>\n",
       "      <td>15.0</td>\n",
       "      <td>8.0</td>\n",
       "      <td>3.0</td>\n",
       "    </tr>\n",
       "  </tbody>\n",
       "</table>\n",
       "</div>"
      ],
      "text/plain": [
       "        fluence_ratio  hardness  flux_ratio_error  flux_ene_ratio_error  \\\n",
       "count           223.0     223.0             157.0                 157.0   \n",
       "unique          159.0     159.0             143.0                 143.0   \n",
       "top               0.0       inf               0.0                   0.0   \n",
       "freq             58.0      58.0              15.0                  15.0   \n",
       "\n",
       "        fluence_ratio_error  hardness_error  like_gbm-lat_time_difference  \\\n",
       "count                 157.0           157.0                         231.0   \n",
       "unique                143.0           143.0                         222.0   \n",
       "top                     0.0             0.0                           0.0   \n",
       "freq                   15.0            15.0                           8.0   \n",
       "\n",
       "        gbm-lle_t90_difference  \n",
       "count                    231.0  \n",
       "unique                   226.0  \n",
       "top                       60.0  \n",
       "freq                       3.0  "
      ]
     },
     "execution_count": 3,
     "metadata": {},
     "output_type": "execute_result"
    }
   ],
   "source": [
    "# Load the FullCatalog.fits dataset\n",
    "dat = Table.read('FullCatalog.fits')\n",
    "all_candidates = dat.to_pandas()\n",
    "\n",
    "# Cleaning data\n",
    "all_candidates = clean_data(all_candidates)\n",
    "all_candidates = calculate_hardness(all_candidates)\n",
    "all_candidates = calculate_time_difference(all_candidates)\n",
    "\n",
    "#all_candidates.info()\n",
    "\n",
    "all_candidates.T.tail(8).T.describe()"
   ]
  },
  {
   "cell_type": "markdown",
   "metadata": {},
   "source": [
    "Hardness > 1\n",
    "GBM T90 in []"
   ]
  },
  {
   "cell_type": "code",
   "execution_count": 45,
   "metadata": {},
   "outputs": [],
   "source": [
    "selected_candidates = all_candidates.query('redshift == 0 & hardness > 1').query(\n",
    "     '(gbm_cat_t90 > 200 & gbm_cat_t90 < 350) | (lle_t90 < 200 & lle_t90 > 30)'\n",
    ")\n",
    "\n",
    "unassoc_hard_candidates = all_candidates.query('redshift == 0 & hardness > 1')\n",
    "unassoc_hard_candidates['hardness_upper'] = unassoc_hard_candidates['hardness'] + unassoc_hard_candidates['hardness_error']"
   ]
  },
  {
   "cell_type": "code",
   "execution_count": 80,
   "metadata": {},
   "outputs": [
    {
     "name": "stdout",
     "output_type": "stream",
     "text": [
      "Total unassociated sources: 138\n",
      "N. sources with lle_t90 = 0.: 77\n",
      "N. sources with infinite hardness: 43\n",
      "N. sources that are lle_t90 = 0. AND have infinite hardness: 37\n",
      "N. sources with GBM t90=0.: 0\n"
     ]
    }
   ],
   "source": [
    "\n",
    "print('Total unassociated sources: %s'%unassoc_hard_candidates.shape[0])\n",
    "\n",
    "print( 'N. sources with lle_t90 = 0.: %s'%unassoc_hard_candidates.query('lle_t90==0').shape[0])\n",
    "\n",
    "inf = np.infty\n",
    "print( 'N. sources with infinite hardness: %s'% unassoc_hard_candidates.query('hardness == @inf').shape[0])\n",
    "print( 'N. sources that are lle_t90 = 0. AND have infinite hardness: %s'%unassoc_hard_candidates.query('lle_t90==0 & hardness==@inf').shape[0])\n",
    "\n",
    "\n",
    "print('N. sources with GBM t90=0.: %s'%unassoc_hard_candidates.query('gbm_cat_t90 == 0').shape[0])"
   ]
  },
  {
   "cell_type": "markdown",
   "metadata": {},
   "source": [
    "There are a bunch of quirks in this dataset:\n",
    "- There are 'infinite' hardnesses. This is because the GBM fluence was registered as 0.\n",
    "- A bunch of the sources are lle_t90 = 0. This accounts for "
   ]
  },
  {
   "cell_type": "code",
   "execution_count": 105,
   "metadata": {},
   "outputs": [
    {
     "data": {
      "text/plain": [
       "<matplotlib.legend.Legend at 0x7fdef1ec5b90>"
      ]
     },
     "execution_count": 105,
     "metadata": {},
     "output_type": "execute_result"
    },
    {
     "data": {
      "image/png": "[encoded data removed]",
      "text/plain": [
       "<Figure size 1000x480 with 2 Axes>"
      ]
     },
     "metadata": {},
     "output_type": "display_data"
    }
   ],
   "source": [
    "fig, ax = plt.subplots()\n",
    "\n",
    "# Scatter plot all objects.\n",
    "sx = ax.scatter(unassoc_hard_candidates['gbm_cat_t90'], unassoc_hard_candidates['lle_t90'], marker = 'x', c=(unassoc_hard_candidates['hardness_upper']), s=30, cmap='viridis')\n",
    "fig.colorbar(sx, ax=ax, label = 'Hardness - upper error bound')\n",
    "\n",
    "\n",
    "# Include the objects with 'infinite' hardness.\n",
    "inf = np.infty\n",
    "_ = unassoc_hard_candidates.query('hardness == @inf')\n",
    "ax.scatter(_['gbm_cat_t90'], _['lle_t90'], color='darkred', marker='x', s=30, label = f'$\\infty$ hardness', alpha=.7)\n",
    "\n",
    "# Previous estimation\n",
    "ax.axvline(0.1, linestyle='--',  label = r'Previous search: $\\tau$ = 0.1s', color='black', alpha=.4)\n",
    "\n",
    "# GBM energies\n",
    "ax.axvline(252, linestyle='-',  label = r'GBM BGO, upper (1MeV): $\\tau$ = 252s', color='orange', alpha=.4)\n",
    "ax.axvline(267, linestyle='-',  label = r'GBM BGO, lower (8keV): $\\tau$ = 267s', color='orange', alpha=.4)\n",
    "ax.axvline(284, linestyle='-',  label = r'GBM NaI, lower (200keV): $\\tau$ = 284s', color='orange', alpha=.4)\n",
    "\n",
    "# LAT energies\n",
    "ax.axhline(183, linestyle='-.',  label = r'LAT, lower (40MeV): $\\tau$ = 183s', alpha=.6)\n",
    "ax.axhline(36.7, linestyle='-.',  label = r'LAT, upper (300GeV): $\\tau$ = 36.7s', alpha=.6)\n",
    "\n",
    "\n",
    "# Labels\n",
    "ax.set_ylabel('T90 for LLE')\n",
    "ax.set_xlabel('T90 for GBM catalog')\n",
    "\n",
    "# Log scale\n",
    "ax.set_xscale('log')\n",
    "ax.set_yscale('log')\n",
    "\n",
    "# x, yticks on inside & on top/right\n",
    "ax.tick_params(axis=\"x\", bottom=True, top=True)\n",
    "ax.tick_params(axis=\"y\", left=True, right=True)\n",
    "ax.tick_params(axis=\"both\", which=\"both\", direction=\"in\")\n",
    "\n",
    "\n",
    "plt.figtext(0.5, -0.03, 'Note that there are no sources on this plot in which lle_t90 = 0, accounting for 77 sources.', wrap=True, horizontalalignment='center', fontsize=10)\n",
    "\n",
    "fig.set_figwidth(20)\n",
    "fig.set_figwidth(10)\n",
    "ax.legend()"
   ]
  },
  {
   "cell_type": "code",
   "execution_count": 112,
   "metadata": {},
   "outputs": [
    {
     "data": {
      "image/png": "[encoded data removed]",
      "text/plain": [
       "<Figure size 1000x480 with 2 Axes>"
      ]
     },
     "metadata": {},
     "output_type": "display_data"
    }
   ],
   "source": [
    "# In that spirit, let's focus mainly on the GBM T90.\n",
    "\n",
    "\n",
    "fig, ax = plt.subplots(1,2)\n",
    "\n",
    "ax[0].hist(unassoc_hard_candidates['gbm_cat_t90'], alpha = 0.6, edgecolor='black', bins=20)\n",
    "ax[0].set_yscale('log')\n",
    "ax[0].set_xlabel('GBM Catalog T90')\n",
    "ax[0].set_ylabel('No. of sources')\n",
    "\n",
    "ax[1].scatter(unassoc_hard_candidates['gbm_cat_t90'], unassoc_hard_candidates['hardness_upper'], marker='x', color='black', s=20)\n",
    "ax[1].set_xscale('log')\n",
    "ax[1].set_yscale('log')\n",
    "ax[1].set_xlabel('GBM Catalog T90')\n",
    "ax[1].set_ylabel('Upper bound of hardness ratio')\n",
    "\n",
    "# Estimated hardness\n",
    "ax[1].axhline(40, linestyle='-', color='darkred', alpha=.4, label='Expected LAT/NaI hardness')\n",
    "ax[1].axhline(4, linestyle='-.', color='darkred', alpha=.4, label='Expected LAT/BGO hardness')\n",
    "\n",
    "# Previous estimation\n",
    "ax[1].axvline(0.1, linestyle='--',  label = r'Previous search: $\\tau$ = 0.1s', color='black', alpha=.4)\n",
    "\n",
    "# GBM energies\n",
    "ax[1].axvline(252, linestyle='-',  label = r'GBM BGO 1MeV', color='orange', alpha=.4)\n",
    "ax[1].axvline(267, linestyle='-',  label = r'GBM BGO 8keV', color='orange', alpha=.4)\n",
    "ax[1].axvline(284, linestyle='-',  label = r'GBM NaI 200keV', color='orange', alpha=.4)\n",
    "\n",
    "ax[1].legend()\n",
    "\n",
    "plt.figtext(0.5, -0.03, 'Note that there are no sources on this plot in which hardness = infinity, accounting for 43 sources.\\nHardness is an estimation from Stefano\\'s plot.',\n",
    " wrap=True, horizontalalignment='center', fontsize=10)\n",
    "\n",
    "fig.set_figwidth(20)\n",
    "fig.set_figwidth(10)"
   ]
  },
  {
   "cell_type": "markdown",
   "metadata": {},
   "source": [
    "--------"
   ]
  },
  {
   "cell_type": "code",
   "execution_count": 4,
   "metadata": {},
   "outputs": [
    {
     "data": {
      "application/vnd.plotly.v1+json": {
       "config": {
        "plotlyServerURL": "https://plot.ly"
       },
       "data": [
        {
         "hovertemplate": "gbm_cat_t90=%{x}<br>lle_t90=%{y}<br>hardness=%{marker.color}<extra></extra>",
         "legendgroup": "",
         "marker": {
          "color": [
           8.083893397450156,
           1.2162390897985016,
           5.5213756765316395,
           null,
           1.0369853219497833,
           14.992156887649799,
           1.1965761148791656
          ],
          "coloraxis": "coloraxis",
          "symbol": "circle"
         },
         "mode": "markers",
         "name": "",
         "orientation": "v",
         "showlegend": false,
         "type": "scatter",
         "x": [
          82.433,
          53.249,
          73.217,
          254.913,
          136.962,
          43.009,
          341.254
         ],
         "xaxis": "x",
         "y": [
          40.477,
          35.192,
          57.361,
          0,
          33.7,
          34.923,
          0
         ],
         "yaxis": "y"
        }
       ],
       "layout": {
        "coloraxis": {
         "colorbar": {
          "title": {
           "text": "hardness"
          }
         },
         "colorscale": [
          [
           0,
           "#0d0887"
          ],
          [
           0.1111111111111111,
           "#46039f"
          ],
          [
           0.2222222222222222,
           "#7201a8"
          ],
          [
           0.3333333333333333,
           "#9c179e"
          ],
          [
           0.4444444444444444,
           "#bd3786"
          ],
          [
           0.5555555555555556,
           "#d8576b"
          ],
          [
           0.6666666666666666,
           "#ed7953"
          ],
          [
           0.7777777777777778,
           "#fb9f3a"
          ],
          [
           0.8888888888888888,
           "#fdca26"
          ],
          [
           1,
           "#f0f921"
          ]
         ]
        },
        "legend": {
         "tracegroupgap": 0
        },
        "margin": {
         "t": 60
        },
        "template": {
         "data": {
          "bar": [
           {
            "error_x": {
             "color": "#2a3f5f"
            },
            "error_y": {
             "color": "#2a3f5f"
            },
            "marker": {
             "line": {
              "color": "#E5ECF6",
              "width": 0.5
             },
             "pattern": {
              "fillmode": "overlay",
              "size": 10,
              "solidity": 0.2
             }
            },
            "type": "bar"
           }
          ],
          "barpolar": [
           {
            "marker": {
             "line": {
              "color": "#E5ECF6",
              "width": 0.5
             },
             "pattern": {
              "fillmode": "overlay",
              "size": 10,
              "solidity": 0.2
             }
            },
            "type": "barpolar"
           }
          ],
          "carpet": [
           {
            "aaxis": {
             "endlinecolor": "#2a3f5f",
             "gridcolor": "white",
             "linecolor": "white",
             "minorgridcolor": "white",
             "startlinecolor": "#2a3f5f"
            },
            "baxis": {
             "endlinecolor": "#2a3f5f",
             "gridcolor": "white",
             "linecolor": "white",
             "minorgridcolor": "white",
             "startlinecolor": "#2a3f5f"
            },
            "type": "carpet"
           }
          ],
          "choropleth": [
           {
            "colorbar": {
             "outlinewidth": 0,
             "ticks": ""
            },
            "type": "choropleth"
           }
          ],
          "contour": [
           {
            "colorbar": {
             "outlinewidth": 0,
             "ticks": ""
            },
            "colorscale": [
             [
              0,
              "#0d0887"
             ],
             [
              0.1111111111111111,
              "#46039f"
             ],
             [
              0.2222222222222222,
              "#7201a8"
             ],
             [
              0.3333333333333333,
              "#9c179e"
             ],
             [
              0.4444444444444444,
              "#bd3786"
             ],
             [
              0.5555555555555556,
              "#d8576b"
             ],
             [
              0.6666666666666666,
              "#ed7953"
             ],
             [
              0.7777777777777778,
              "#fb9f3a"
             ],
             [
              0.8888888888888888,
              "#fdca26"
             ],
             [
              1,
              "#f0f921"
             ]
            ],
            "type": "contour"
           }
          ],
          "contourcarpet": [
           {
            "colorbar": {
             "outlinewidth": 0,
             "ticks": ""
            },
            "type": "contourcarpet"
           }
          ],
          "heatmap": [
           {
            "colorbar": {
             "outlinewidth": 0,
             "ticks": ""
            },
            "colorscale": [
             [
              0,
              "#0d0887"
             ],
             [
              0.1111111111111111,
              "#46039f"
             ],
             [
              0.2222222222222222,
              "#7201a8"
             ],
             [
              0.3333333333333333,
              "#9c179e"
             ],
             [
              0.4444444444444444,
              "#bd3786"
             ],
             [
              0.5555555555555556,
              "#d8576b"
             ],
             [
              0.6666666666666666,
              "#ed7953"
             ],
             [
              0.7777777777777778,
              "#fb9f3a"
             ],
             [
              0.8888888888888888,
              "#fdca26"
             ],
             [
              1,
              "#f0f921"
             ]
            ],
            "type": "heatmap"
           }
          ],
          "heatmapgl": [
           {
            "colorbar": {
             "outlinewidth": 0,
             "ticks": ""
            },
            "colorscale": [
             [
              0,
              "#0d0887"
             ],
             [
              0.1111111111111111,
              "#46039f"
             ],
             [
              0.2222222222222222,
              "#7201a8"
             ],
             [
              0.3333333333333333,
              "#9c179e"
             ],
             [
              0.4444444444444444,
              "#bd3786"
             ],
             [
              0.5555555555555556,
              "#d8576b"
             ],
             [
              0.6666666666666666,
              "#ed7953"
             ],
             [
              0.7777777777777778,
              "#fb9f3a"
             ],
             [
              0.8888888888888888,
              "#fdca26"
             ],
             [
              1,
              "#f0f921"
             ]
            ],
            "type": "heatmapgl"
           }
          ],
          "histogram": [
           {
            "marker": {
             "pattern": {
              "fillmode": "overlay",
              "size": 10,
              "solidity": 0.2
             }
            },
            "type": "histogram"
           }
          ],
          "histogram2d": [
           {
            "colorbar": {
             "outlinewidth": 0,
             "ticks": ""
            },
            "colorscale": [
             [
              0,
              "#0d0887"
             ],
             [
              0.1111111111111111,
              "#46039f"
             ],
             [
              0.2222222222222222,
              "#7201a8"
             ],
             [
              0.3333333333333333,
              "#9c179e"
             ],
             [
              0.4444444444444444,
              "#bd3786"
             ],
             [
              0.5555555555555556,
              "#d8576b"
             ],
             [
              0.6666666666666666,
              "#ed7953"
             ],
             [
              0.7777777777777778,
              "#fb9f3a"
             ],
             [
              0.8888888888888888,
              "#fdca26"
             ],
             [
              1,
              "#f0f921"
             ]
            ],
            "type": "histogram2d"
           }
          ],
          "histogram2dcontour": [
           {
            "colorbar": {
             "outlinewidth": 0,
             "ticks": ""
            },
            "colorscale": [
             [
              0,
              "#0d0887"
             ],
             [
              0.1111111111111111,
              "#46039f"
             ],
             [
              0.2222222222222222,
              "#7201a8"
             ],
             [
              0.3333333333333333,
              "#9c179e"
             ],
             [
              0.4444444444444444,
              "#bd3786"
             ],
             [
              0.5555555555555556,
              "#d8576b"
             ],
             [
              0.6666666666666666,
              "#ed7953"
             ],
             [
              0.7777777777777778,
              "#fb9f3a"
             ],
             [
              0.8888888888888888,
              "#fdca26"
             ],
             [
              1,
              "#f0f921"
             ]
            ],
            "type": "histogram2dcontour"
           }
          ],
          "mesh3d": [
           {
            "colorbar": {
             "outlinewidth": 0,
             "ticks": ""
            },
            "type": "mesh3d"
           }
          ],
          "parcoords": [
           {
            "line": {
             "colorbar": {
              "outlinewidth": 0,
              "ticks": ""
             }
            },
            "type": "parcoords"
           }
          ],
          "pie": [
           {
            "automargin": true,
            "type": "pie"
           }
          ],
          "scatter": [
           {
            "fillpattern": {
             "fillmode": "overlay",
             "size": 10,
             "solidity": 0.2
            },
            "type": "scatter"
           }
          ],
          "scatter3d": [
           {
            "line": {
             "colorbar": {
              "outlinewidth": 0,
              "ticks": ""
             }
            },
            "marker": {
             "colorbar": {
              "outlinewidth": 0,
              "ticks": ""
             }
            },
            "type": "scatter3d"
           }
          ],
          "scattercarpet": [
           {
            "marker": {
             "colorbar": {
              "outlinewidth": 0,
              "ticks": ""
             }
            },
            "type": "scattercarpet"
           }
          ],
          "scattergeo": [
           {
            "marker": {
             "colorbar": {
              "outlinewidth": 0,
              "ticks": ""
             }
            },
            "type": "scattergeo"
           }
          ],
          "scattergl": [
           {
            "marker": {
             "colorbar": {
              "outlinewidth": 0,
              "ticks": ""
             }
            },
            "type": "scattergl"
           }
          ],
          "scattermapbox": [
           {
            "marker": {
             "colorbar": {
              "outlinewidth": 0,
              "ticks": ""
             }
            },
            "type": "scattermapbox"
           }
          ],
          "scatterpolar": [
           {
            "marker": {
             "colorbar": {
              "outlinewidth": 0,
              "ticks": ""
             }
            },
            "type": "scatterpolar"
           }
          ],
          "scatterpolargl": [
           {
            "marker": {
             "colorbar": {
              "outlinewidth": 0,
              "ticks": ""
             }
            },
            "type": "scatterpolargl"
           }
          ],
          "scatterternary": [
           {
            "marker": {
             "colorbar": {
              "outlinewidth": 0,
              "ticks": ""
             }
            },
            "type": "scatterternary"
           }
          ],
          "surface": [
           {
            "colorbar": {
             "outlinewidth": 0,
             "ticks": ""
            },
            "colorscale": [
             [
              0,
              "#0d0887"
             ],
             [
              0.1111111111111111,
              "#46039f"
             ],
             [
              0.2222222222222222,
              "#7201a8"
             ],
             [
              0.3333333333333333,
              "#9c179e"
             ],
             [
              0.4444444444444444,
              "#bd3786"
             ],
             [
              0.5555555555555556,
              "#d8576b"
             ],
             [
              0.6666666666666666,
              "#ed7953"
             ],
             [
              0.7777777777777778,
              "#fb9f3a"
             ],
             [
              0.8888888888888888,
              "#fdca26"
             ],
             [
              1,
              "#f0f921"
             ]
            ],
            "type": "surface"
           }
          ],
          "table": [
           {
            "cells": {
             "fill": {
              "color": "#EBF0F8"
             },
             "line": {
              "color": "white"
             }
            },
            "header": {
             "fill": {
              "color": "#C8D4E3"
             },
             "line": {
              "color": "white"
             }
            },
            "type": "table"
           }
          ]
         },
         "layout": {
          "annotationdefaults": {
           "arrowcolor": "#2a3f5f",
           "arrowhead": 0,
           "arrowwidth": 1
          },
          "autotypenumbers": "strict",
          "coloraxis": {
           "colorbar": {
            "outlinewidth": 0,
            "ticks": ""
           }
          },
          "colorscale": {
           "diverging": [
            [
             0,
             "#8e0152"
            ],
            [
             0.1,
             "#c51b7d"
            ],
            [
             0.2,
             "#de77ae"
            ],
            [
             0.3,
             "#f1b6da"
            ],
            [
             0.4,
             "#fde0ef"
            ],
            [
             0.5,
             "#f7f7f7"
            ],
            [
             0.6,
             "#e6f5d0"
            ],
            [
             0.7,
             "#b8e186"
            ],
            [
             0.8,
             "#7fbc41"
            ],
            [
             0.9,
             "#4d9221"
            ],
            [
             1,
             "#276419"
            ]
           ],
           "sequential": [
            [
             0,
             "#0d0887"
            ],
            [
             0.1111111111111111,
             "#46039f"
            ],
            [
             0.2222222222222222,
             "#7201a8"
            ],
            [
             0.3333333333333333,
             "#9c179e"
            ],
            [
             0.4444444444444444,
             "#bd3786"
            ],
            [
             0.5555555555555556,
             "#d8576b"
            ],
            [
             0.6666666666666666,
             "#ed7953"
            ],
            [
             0.7777777777777778,
             "#fb9f3a"
            ],
            [
             0.8888888888888888,
             "#fdca26"
            ],
            [
             1,
             "#f0f921"
            ]
           ],
           "sequentialminus": [
            [
             0,
             "#0d0887"
            ],
            [
             0.1111111111111111,
             "#46039f"
            ],
            [
             0.2222222222222222,
             "#7201a8"
            ],
            [
             0.3333333333333333,
             "#9c179e"
            ],
            [
             0.4444444444444444,
             "#bd3786"
            ],
            [
             0.5555555555555556,
             "#d8576b"
            ],
            [
             0.6666666666666666,
             "#ed7953"
            ],
            [
             0.7777777777777778,
             "#fb9f3a"
            ],
            [
             0.8888888888888888,
             "#fdca26"
            ],
            [
             1,
             "#f0f921"
            ]
           ]
          },
          "colorway": [
           "#636efa",
           "#EF553B",
           "#00cc96",
           "#ab63fa",
           "#FFA15A",
           "#19d3f3",
           "#FF6692",
           "#B6E880",
           "#FF97FF",
           "#FECB52"
          ],
          "font": {
           "color": "#2a3f5f"
          },
          "geo": {
           "bgcolor": "white",
           "lakecolor": "white",
           "landcolor": "#E5ECF6",
           "showlakes": true,
           "showland": true,
           "subunitcolor": "white"
          },
          "hoverlabel": {
           "align": "left"
          },
          "hovermode": "closest",
          "mapbox": {
           "style": "light"
          },
          "paper_bgcolor": "white",
          "plot_bgcolor": "#E5ECF6",
          "polar": {
           "angularaxis": {
            "gridcolor": "white",
            "linecolor": "white",
            "ticks": ""
           },
           "bgcolor": "#E5ECF6",
           "radialaxis": {
            "gridcolor": "white",
            "linecolor": "white",
            "ticks": ""
           }
          },
          "scene": {
           "xaxis": {
            "backgroundcolor": "#E5ECF6",
            "gridcolor": "white",
            "gridwidth": 2,
            "linecolor": "white",
            "showbackground": true,
            "ticks": "",
            "zerolinecolor": "white"
           },
           "yaxis": {
            "backgroundcolor": "#E5ECF6",
            "gridcolor": "white",
            "gridwidth": 2,
            "linecolor": "white",
            "showbackground": true,
            "ticks": "",
            "zerolinecolor": "white"
           },
           "zaxis": {
            "backgroundcolor": "#E5ECF6",
            "gridcolor": "white",
            "gridwidth": 2,
            "linecolor": "white",
            "showbackground": true,
            "ticks": "",
            "zerolinecolor": "white"
           }
          },
          "shapedefaults": {
           "line": {
            "color": "#2a3f5f"
           }
          },
          "ternary": {
           "aaxis": {
            "gridcolor": "white",
            "linecolor": "white",
            "ticks": ""
           },
           "baxis": {
            "gridcolor": "white",
            "linecolor": "white",
            "ticks": ""
           },
           "bgcolor": "#E5ECF6",
           "caxis": {
            "gridcolor": "white",
            "linecolor": "white",
            "ticks": ""
           }
          },
          "title": {
           "x": 0.05
          },
          "xaxis": {
           "automargin": true,
           "gridcolor": "white",
           "linecolor": "white",
           "ticks": "",
           "title": {
            "standoff": 15
           },
           "zerolinecolor": "white",
           "zerolinewidth": 2
          },
          "yaxis": {
           "automargin": true,
           "gridcolor": "white",
           "linecolor": "white",
           "ticks": "",
           "title": {
            "standoff": 15
           },
           "zerolinecolor": "white",
           "zerolinewidth": 2
          }
         }
        },
        "xaxis": {
         "anchor": "y",
         "domain": [
          0,
          1
         ],
         "title": {
          "text": "gbm_cat_t90"
         }
        },
        "yaxis": {
         "anchor": "x",
         "domain": [
          0,
          1
         ],
         "title": {
          "text": "lle_t90"
         }
        }
       }
      }
     },
     "metadata": {},
     "output_type": "display_data"
    }
   ],
   "source": [
    "selected_candidates = all_candidates.query('redshift == 0 & hardness > 1').query(\n",
    "     '(gbm_cat_t90 > 200 & gbm_cat_t90 < 350) | (lle_t90 < 200 & lle_t90 > 30)'\n",
    ")\n",
    "\n",
    "px.scatter(selected_candidates, x='gbm_cat_t90', y='lle_t90', color='hardness')"
   ]
  },
  {
   "cell_type": "code",
   "execution_count": 7,
   "metadata": {},
   "outputs": [
    {
     "data": {
      "application/vnd.plotly.v1+json": {
       "config": {
        "plotlyServerURL": "https://plot.ly"
       },
       "data": [
        {
         "hovertemplate": "gbm_cat_t90=%{x}<br>lle_t90=%{y}<br>log_hardness=%{marker.color}<extra></extra>",
         "legendgroup": "",
         "marker": {
          "color": [
           null,
           2.4962273799519177,
           1.0621491893356925,
           0.2005406286789683,
           null,
           0.8636644496230368,
           1.6208452972950498,
           1.3183026159836047,
           2.0640485032614477,
           0.7539933317583426,
           null,
           0.7812041883189556,
           1.030078632388049,
           null,
           null,
           1.672658462924577,
           null,
           null,
           null,
           0.8638380904013259,
           null,
           1.3465112265339085,
           null,
           0.04584834218680065,
           3.4834897762476116,
           1.1544794359771429,
           0.9332631319433757,
           null,
           0.1913976914996786,
           0.961989517574587,
           2.0898736125976924,
           0.1957633841168996,
           0.456422097644702,
           2.954114536791855,
           0.025902192748596047,
           0.2234460413145195,
           0.7099781601340106,
           0.3983957763557229,
           0.13979563244110763,
           0.1203917337245664,
           null,
           null,
           1.3417520101030889,
           null,
           1.0481829206915303,
           0.026458575558723028,
           1.4673383669615645,
           0.1422037102009176,
           0.23598058158760654,
           1.084134474206546,
           0.48110481463256805,
           null,
           null,
           0.22627222975733563,
           null,
           null,
           1.658017764930002,
           0.2021718639341358,
           1.6210027996723655,
           1.1541727157610964,
           2.09393266532796,
           null,
           0.6661491441814761,
           2.8010635598857836,
           0.292340321527772,
           0.16831704962953442,
           1.7387990801298787,
           2.316330603671333,
           0.18368152672437915,
           null,
           null,
           0.04562950837665308,
           null,
           0.9725472008458109,
           0.22518754006335717,
           null,
           2.429512246503565,
           null,
           null,
           0.27745976121490323,
           0.47249780842568845,
           null,
           null,
           1.7086270460026431,
           null,
           0.5194378663652652,
           null,
           1.0659814423937333,
           2.268951768365295,
           null,
           null,
           null,
           0.09934031249264615,
           1.2688516413406767,
           0.266225442873157,
           0.4051369796500633,
           3.013289626943623,
           null,
           null,
           null,
           0.0065599893707629555,
           1.2802050591872451,
           2.0815348881941733,
           0.7914622699655849,
           0.07177422917772606,
           0.6502583725756969,
           2.7055556431570977,
           0.1064488296022436,
           1.131968130608188,
           1.2156775576524224,
           null,
           0.036317774807567024,
           null,
           0.374998719574815,
           null,
           null,
           0.5419469045249029,
           1.681226102661819,
           0.2629378794167349,
           0.5356362524431048,
           0.9302711056708092,
           null,
           2.7075271901991687,
           0.7986355567499013,
           0.35106242859778675,
           0.01663779427548505,
           null,
           2.0709320538529075,
           0.17946424095154725,
           0.6947873496565975,
           null,
           0.39145166968473877,
           1.4124148166920545,
           0.9955072563557028,
           1.430794260982161,
           1.5861269095166295,
           1.1630824420678638,
           null
          ],
          "coloraxis": "coloraxis",
          "symbol": "circle"
         },
         "mode": "markers",
         "name": "",
         "orientation": "v",
         "showlegend": false,
         "type": "scatter",
         "x": [
          111.426,
          15.872,
          42.945,
          52.48,
          32.001,
          23.04,
          31.232,
          13.568,
          20.736,
          32.513,
          0.128,
          6.4,
          12.992,
          13.568,
          12.288,
          33.921,
          2.752,
          45.825,
          0.512,
          26.624,
          17.92,
          37.633,
          64.577,
          10.752,
          32.513,
          33.537,
          27.328,
          449.415,
          2.624,
          44.288,
          82.433,
          53.249,
          16.189,
          38.145,
          127.746,
          21.822,
          118.018,
          69,
          9.472,
          40.193,
          43.649,
          35,
          48.897,
          1.536,
          0.896,
          0.448,
          44.801,
          5.44,
          7.104,
          17.664,
          15.808,
          0.144,
          42.497,
          158.978,
          12.032,
          52.225,
          29.697,
          3.2,
          27.648,
          6.912,
          23.808,
          14,
          26.173,
          87.041,
          2.816,
          41.473,
          187.137,
          146.69,
          33.28,
          64.001,
          25.856,
          111.872,
          122.37,
          20.992,
          56.32,
          28.672,
          42.433,
          0.224,
          36.865,
          3.648,
          17.664,
          103.938,
          87,
          73.217,
          17.374,
          0.704,
          60,
          51.904,
          0.32,
          26.88,
          77.056,
          0.2,
          33.536,
          0.48,
          21.632,
          31.294,
          102.53,
          13.376,
          60,
          254.913,
          55.553,
          30.721,
          38.913,
          41.345,
          24.833,
          0.64,
          44.062,
          375.814,
          19.2,
          7.424,
          81.665,
          136.962,
          17.856,
          1.264,
          5.312,
          18.432,
          121.538,
          11.072,
          23.296,
          65.793,
          83.97,
          31.744,
          43.009,
          98.562,
          48.128,
          104.449,
          39.361,
          0.576,
          341.254,
          9.536,
          23.552,
          6.08,
          5.632,
          93.44,
          24.32,
          46.336,
          16.448,
          2.816
         ],
         "xaxis": "x",
         "y": [
          0,
          6.354,
          0.203,
          7.229,
          0,
          0,
          0,
          9.595,
          7.117,
          0,
          0,
          0,
          6.992,
          0,
          0,
          16.617,
          1.293,
          0,
          0,
          0.398,
          0,
          0,
          13.583,
          0,
          0,
          23.343,
          0.46,
          1.666,
          0,
          11.033,
          40.477,
          35.192,
          9.901,
          6.702,
          28.711,
          6.005,
          0,
          28.23,
          5.983,
          1.473,
          0,
          0,
          0.889,
          0,
          0,
          0,
          0,
          3.205,
          0,
          0.935,
          0,
          0,
          0,
          11.36,
          0,
          0,
          0,
          1.811,
          0,
          0,
          19.018,
          0,
          0.231,
          9.275,
          1.124,
          13.622,
          0,
          27.601,
          13.542,
          0,
          0,
          0,
          0,
          1.203,
          20.822,
          0,
          0,
          0.101,
          0,
          2.872,
          10.309,
          2.696,
          0,
          57.361,
          0,
          0,
          0,
          16.38,
          1.546,
          0,
          0,
          0,
          0,
          0,
          0,
          2.521,
          6.657,
          0,
          0,
          0,
          0,
          1.985,
          0,
          0,
          1.282,
          1.32,
          0,
          0,
          0,
          0,
          0,
          33.7,
          0,
          1.645,
          0,
          18.417,
          0,
          10.455,
          0,
          7.837,
          26.273,
          0,
          34.923,
          0,
          6.207,
          0,
          0,
          0,
          0,
          0,
          0,
          5.777,
          0,
          16.139,
          1.563,
          0.41,
          0,
          0
         ],
         "yaxis": "y"
        }
       ],
       "layout": {
        "coloraxis": {
         "colorbar": {
          "title": {
           "text": "log_hardness"
          }
         },
         "colorscale": [
          [
           0,
           "#0d0887"
          ],
          [
           0.1111111111111111,
           "#46039f"
          ],
          [
           0.2222222222222222,
           "#7201a8"
          ],
          [
           0.3333333333333333,
           "#9c179e"
          ],
          [
           0.4444444444444444,
           "#bd3786"
          ],
          [
           0.5555555555555556,
           "#d8576b"
          ],
          [
           0.6666666666666666,
           "#ed7953"
          ],
          [
           0.7777777777777778,
           "#fb9f3a"
          ],
          [
           0.8888888888888888,
           "#fdca26"
          ],
          [
           1,
           "#f0f921"
          ]
         ]
        },
        "legend": {
         "tracegroupgap": 0
        },
        "margin": {
         "t": 60
        },
        "template": {
         "data": {
          "bar": [
           {
            "error_x": {
             "color": "#2a3f5f"
            },
            "error_y": {
             "color": "#2a3f5f"
            },
            "marker": {
             "line": {
              "color": "#E5ECF6",
              "width": 0.5
             },
             "pattern": {
              "fillmode": "overlay",
              "size": 10,
              "solidity": 0.2
             }
            },
            "type": "bar"
           }
          ],
          "barpolar": [
           {
            "marker": {
             "line": {
              "color": "#E5ECF6",
              "width": 0.5
             },
             "pattern": {
              "fillmode": "overlay",
              "size": 10,
              "solidity": 0.2
             }
            },
            "type": "barpolar"
           }
          ],
          "carpet": [
           {
            "aaxis": {
             "endlinecolor": "#2a3f5f",
             "gridcolor": "white",
             "linecolor": "white",
             "minorgridcolor": "white",
             "startlinecolor": "#2a3f5f"
            },
            "baxis": {
             "endlinecolor": "#2a3f5f",
             "gridcolor": "white",
             "linecolor": "white",
             "minorgridcolor": "white",
             "startlinecolor": "#2a3f5f"
            },
            "type": "carpet"
           }
          ],
          "choropleth": [
           {
            "colorbar": {
             "outlinewidth": 0,
             "ticks": ""
            },
            "type": "choropleth"
           }
          ],
          "contour": [
           {
            "colorbar": {
             "outlinewidth": 0,
             "ticks": ""
            },
            "colorscale": [
             [
              0,
              "#0d0887"
             ],
             [
              0.1111111111111111,
              "#46039f"
             ],
             [
              0.2222222222222222,
              "#7201a8"
             ],
             [
              0.3333333333333333,
              "#9c179e"
             ],
             [
              0.4444444444444444,
              "#bd3786"
             ],
             [
              0.5555555555555556,
              "#d8576b"
             ],
             [
              0.6666666666666666,
              "#ed7953"
             ],
             [
              0.7777777777777778,
              "#fb9f3a"
             ],
             [
              0.8888888888888888,
              "#fdca26"
             ],
             [
              1,
              "#f0f921"
             ]
            ],
            "type": "contour"
           }
          ],
          "contourcarpet": [
           {
            "colorbar": {
             "outlinewidth": 0,
             "ticks": ""
            },
            "type": "contourcarpet"
           }
          ],
          "heatmap": [
           {
            "colorbar": {
             "outlinewidth": 0,
             "ticks": ""
            },
            "colorscale": [
             [
              0,
              "#0d0887"
             ],
             [
              0.1111111111111111,
              "#46039f"
             ],
             [
              0.2222222222222222,
              "#7201a8"
             ],
             [
              0.3333333333333333,
              "#9c179e"
             ],
             [
              0.4444444444444444,
              "#bd3786"
             ],
             [
              0.5555555555555556,
              "#d8576b"
             ],
             [
              0.6666666666666666,
              "#ed7953"
             ],
             [
              0.7777777777777778,
              "#fb9f3a"
             ],
             [
              0.8888888888888888,
              "#fdca26"
             ],
             [
              1,
              "#f0f921"
             ]
            ],
            "type": "heatmap"
           }
          ],
          "heatmapgl": [
           {
            "colorbar": {
             "outlinewidth": 0,
             "ticks": ""
            },
            "colorscale": [
             [
              0,
              "#0d0887"
             ],
             [
              0.1111111111111111,
              "#46039f"
             ],
             [
              0.2222222222222222,
              "#7201a8"
             ],
             [
              0.3333333333333333,
              "#9c179e"
             ],
             [
              0.4444444444444444,
              "#bd3786"
             ],
             [
              0.5555555555555556,
              "#d8576b"
             ],
             [
              0.6666666666666666,
              "#ed7953"
             ],
             [
              0.7777777777777778,
              "#fb9f3a"
             ],
             [
              0.8888888888888888,
              "#fdca26"
             ],
             [
              1,
              "#f0f921"
             ]
            ],
            "type": "heatmapgl"
           }
          ],
          "histogram": [
           {
            "marker": {
             "pattern": {
              "fillmode": "overlay",
              "size": 10,
              "solidity": 0.2
             }
            },
            "type": "histogram"
           }
          ],
          "histogram2d": [
           {
            "colorbar": {
             "outlinewidth": 0,
             "ticks": ""
            },
            "colorscale": [
             [
              0,
              "#0d0887"
             ],
             [
              0.1111111111111111,
              "#46039f"
             ],
             [
              0.2222222222222222,
              "#7201a8"
             ],
             [
              0.3333333333333333,
              "#9c179e"
             ],
             [
              0.4444444444444444,
              "#bd3786"
             ],
             [
              0.5555555555555556,
              "#d8576b"
             ],
             [
              0.6666666666666666,
              "#ed7953"
             ],
             [
              0.7777777777777778,
              "#fb9f3a"
             ],
             [
              0.8888888888888888,
              "#fdca26"
             ],
             [
              1,
              "#f0f921"
             ]
            ],
            "type": "histogram2d"
           }
          ],
          "histogram2dcontour": [
           {
            "colorbar": {
             "outlinewidth": 0,
             "ticks": ""
            },
            "colorscale": [
             [
              0,
              "#0d0887"
             ],
             [
              0.1111111111111111,
              "#46039f"
             ],
             [
              0.2222222222222222,
              "#7201a8"
             ],
             [
              0.3333333333333333,
              "#9c179e"
             ],
             [
              0.4444444444444444,
              "#bd3786"
             ],
             [
              0.5555555555555556,
              "#d8576b"
             ],
             [
              0.6666666666666666,
              "#ed7953"
             ],
             [
              0.7777777777777778,
              "#fb9f3a"
             ],
             [
              0.8888888888888888,
              "#fdca26"
             ],
             [
              1,
              "#f0f921"
             ]
            ],
            "type": "histogram2dcontour"
           }
          ],
          "mesh3d": [
           {
            "colorbar": {
             "outlinewidth": 0,
             "ticks": ""
            },
            "type": "mesh3d"
           }
          ],
          "parcoords": [
           {
            "line": {
             "colorbar": {
              "outlinewidth": 0,
              "ticks": ""
             }
            },
            "type": "parcoords"
           }
          ],
          "pie": [
           {
            "automargin": true,
            "type": "pie"
           }
          ],
          "scatter": [
           {
            "fillpattern": {
             "fillmode": "overlay",
             "size": 10,
             "solidity": 0.2
            },
            "type": "scatter"
           }
          ],
          "scatter3d": [
           {
            "line": {
             "colorbar": {
              "outlinewidth": 0,
              "ticks": ""
             }
            },
            "marker": {
             "colorbar": {
              "outlinewidth": 0,
              "ticks": ""
             }
            },
            "type": "scatter3d"
           }
          ],
          "scattercarpet": [
           {
            "marker": {
             "colorbar": {
              "outlinewidth": 0,
              "ticks": ""
             }
            },
            "type": "scattercarpet"
           }
          ],
          "scattergeo": [
           {
            "marker": {
             "colorbar": {
              "outlinewidth": 0,
              "ticks": ""
             }
            },
            "type": "scattergeo"
           }
          ],
          "scattergl": [
           {
            "marker": {
             "colorbar": {
              "outlinewidth": 0,
              "ticks": ""
             }
            },
            "type": "scattergl"
           }
          ],
          "scattermapbox": [
           {
            "marker": {
             "colorbar": {
              "outlinewidth": 0,
              "ticks": ""
             }
            },
            "type": "scattermapbox"
           }
          ],
          "scatterpolar": [
           {
            "marker": {
             "colorbar": {
              "outlinewidth": 0,
              "ticks": ""
             }
            },
            "type": "scatterpolar"
           }
          ],
          "scatterpolargl": [
           {
            "marker": {
             "colorbar": {
              "outlinewidth": 0,
              "ticks": ""
             }
            },
            "type": "scatterpolargl"
           }
          ],
          "scatterternary": [
           {
            "marker": {
             "colorbar": {
              "outlinewidth": 0,
              "ticks": ""
             }
            },
            "type": "scatterternary"
           }
          ],
          "surface": [
           {
            "colorbar": {
             "outlinewidth": 0,
             "ticks": ""
            },
            "colorscale": [
             [
              0,
              "#0d0887"
             ],
             [
              0.1111111111111111,
              "#46039f"
             ],
             [
              0.2222222222222222,
              "#7201a8"
             ],
             [
              0.3333333333333333,
              "#9c179e"
             ],
             [
              0.4444444444444444,
              "#bd3786"
             ],
             [
              0.5555555555555556,
              "#d8576b"
             ],
             [
              0.6666666666666666,
              "#ed7953"
             ],
             [
              0.7777777777777778,
              "#fb9f3a"
             ],
             [
              0.8888888888888888,
              "#fdca26"
             ],
             [
              1,
              "#f0f921"
             ]
            ],
            "type": "surface"
           }
          ],
          "table": [
           {
            "cells": {
             "fill": {
              "color": "#EBF0F8"
             },
             "line": {
              "color": "white"
             }
            },
            "header": {
             "fill": {
              "color": "#C8D4E3"
             },
             "line": {
              "color": "white"
             }
            },
            "type": "table"
           }
          ]
         },
         "layout": {
          "annotationdefaults": {
           "arrowcolor": "#2a3f5f",
           "arrowhead": 0,
           "arrowwidth": 1
          },
          "autotypenumbers": "strict",
          "coloraxis": {
           "colorbar": {
            "outlinewidth": 0,
            "ticks": ""
           }
          },
          "colorscale": {
           "diverging": [
            [
             0,
             "#8e0152"
            ],
            [
             0.1,
             "#c51b7d"
            ],
            [
             0.2,
             "#de77ae"
            ],
            [
             0.3,
             "#f1b6da"
            ],
            [
             0.4,
             "#fde0ef"
            ],
            [
             0.5,
             "#f7f7f7"
            ],
            [
             0.6,
             "#e6f5d0"
            ],
            [
             0.7,
             "#b8e186"
            ],
            [
             0.8,
             "#7fbc41"
            ],
            [
             0.9,
             "#4d9221"
            ],
            [
             1,
             "#276419"
            ]
           ],
           "sequential": [
            [
             0,
             "#0d0887"
            ],
            [
             0.1111111111111111,
             "#46039f"
            ],
            [
             0.2222222222222222,
             "#7201a8"
            ],
            [
             0.3333333333333333,
             "#9c179e"
            ],
            [
             0.4444444444444444,
             "#bd3786"
            ],
            [
             0.5555555555555556,
             "#d8576b"
            ],
            [
             0.6666666666666666,
             "#ed7953"
            ],
            [
             0.7777777777777778,
             "#fb9f3a"
            ],
            [
             0.8888888888888888,
             "#fdca26"
            ],
            [
             1,
             "#f0f921"
            ]
           ],
           "sequentialminus": [
            [
             0,
             "#0d0887"
            ],
            [
             0.1111111111111111,
             "#46039f"
            ],
            [
             0.2222222222222222,
             "#7201a8"
            ],
            [
             0.3333333333333333,
             "#9c179e"
            ],
            [
             0.4444444444444444,
             "#bd3786"
            ],
            [
             0.5555555555555556,
             "#d8576b"
            ],
            [
             0.6666666666666666,
             "#ed7953"
            ],
            [
             0.7777777777777778,
             "#fb9f3a"
            ],
            [
             0.8888888888888888,
             "#fdca26"
            ],
            [
             1,
             "#f0f921"
            ]
           ]
          },
          "colorway": [
           "#636efa",
           "#EF553B",
           "#00cc96",
           "#ab63fa",
           "#FFA15A",
           "#19d3f3",
           "#FF6692",
           "#B6E880",
           "#FF97FF",
           "#FECB52"
          ],
          "font": {
           "color": "#2a3f5f"
          },
          "geo": {
           "bgcolor": "white",
           "lakecolor": "white",
           "landcolor": "#E5ECF6",
           "showlakes": true,
           "showland": true,
           "subunitcolor": "white"
          },
          "hoverlabel": {
           "align": "left"
          },
          "hovermode": "closest",
          "mapbox": {
           "style": "light"
          },
          "paper_bgcolor": "white",
          "plot_bgcolor": "#E5ECF6",
          "polar": {
           "angularaxis": {
            "gridcolor": "white",
            "linecolor": "white",
            "ticks": ""
           },
           "bgcolor": "#E5ECF6",
           "radialaxis": {
            "gridcolor": "white",
            "linecolor": "white",
            "ticks": ""
           }
          },
          "scene": {
           "xaxis": {
            "backgroundcolor": "#E5ECF6",
            "gridcolor": "white",
            "gridwidth": 2,
            "linecolor": "white",
            "showbackground": true,
            "ticks": "",
            "zerolinecolor": "white"
           },
           "yaxis": {
            "backgroundcolor": "#E5ECF6",
            "gridcolor": "white",
            "gridwidth": 2,
            "linecolor": "white",
            "showbackground": true,
            "ticks": "",
            "zerolinecolor": "white"
           },
           "zaxis": {
            "backgroundcolor": "#E5ECF6",
            "gridcolor": "white",
            "gridwidth": 2,
            "linecolor": "white",
            "showbackground": true,
            "ticks": "",
            "zerolinecolor": "white"
           }
          },
          "shapedefaults": {
           "line": {
            "color": "#2a3f5f"
           }
          },
          "ternary": {
           "aaxis": {
            "gridcolor": "white",
            "linecolor": "white",
            "ticks": ""
           },
           "baxis": {
            "gridcolor": "white",
            "linecolor": "white",
            "ticks": ""
           },
           "bgcolor": "#E5ECF6",
           "caxis": {
            "gridcolor": "white",
            "linecolor": "white",
            "ticks": ""
           }
          },
          "title": {
           "x": 0.05
          },
          "xaxis": {
           "automargin": true,
           "gridcolor": "white",
           "linecolor": "white",
           "ticks": "",
           "title": {
            "standoff": 15
           },
           "zerolinecolor": "white",
           "zerolinewidth": 2
          },
          "yaxis": {
           "automargin": true,
           "gridcolor": "white",
           "linecolor": "white",
           "ticks": "",
           "title": {
            "standoff": 15
           },
           "zerolinecolor": "white",
           "zerolinewidth": 2
          }
         }
        },
        "xaxis": {
         "anchor": "y",
         "domain": [
          0,
          1
         ],
         "title": {
          "text": "gbm_cat_t90"
         },
         "type": "log"
        },
        "yaxis": {
         "anchor": "x",
         "domain": [
          0,
          1
         ],
         "title": {
          "text": "lle_t90"
         },
         "type": "log"
        }
       }
      }
     },
     "metadata": {},
     "output_type": "display_data"
    }
   ],
   "source": [
    "all_candidates['log_hardness'] = np.log(all_candidates['hardness'])\n",
    "fig = px.scatter(all_candidates.query('redshift == 0 & hardness > 1'), x='gbm_cat_t90', y='lle_t90', color='log_hardness', log_y=True, log_x=True)\n",
    "fig"
   ]
  },
  {
   "cell_type": "code",
   "execution_count": 28,
   "metadata": {},
   "outputs": [
    {
     "data": {
      "text/plain": [
       "'GRB080916009 OR GRB150523396 OR GRB170424425 OR GRB170405777 OR GRB180720598 OR GRB170214649 OR GRB130504978 OR GRB160625945 OR GRB120624933 OR GRB120420858 OR GRB090323002 OR GRB130427324 OR GRB130828306 OR GRB160821857 OR GRB130907904 OR GRB110903111 OR GRB081203581 OR '"
      ]
     },
     "execution_count": 28,
     "metadata": {},
     "output_type": "execute_result"
    }
   ],
   "source": [
    "str = ''\n",
    "for name in selected_candidates['name']:\n",
    "    str+='%s OR '%name\n",
    "\n",
    "str"
   ]
  },
  {
   "cell_type": "code",
   "execution_count": null,
   "metadata": {},
   "outputs": [],
   "source": []
  }
 ],
 "metadata": {
  "kernelspec": {
   "display_name": "Python 3.7.12 ('threeML')",
   "language": "python",
   "name": "python3"
  },
  "language_info": {
   "codemirror_mode": {
    "name": "ipython",
    "version": 3
   },
   "file_extension": ".py",
   "mimetype": "text/x-python",
   "name": "python",
   "nbconvert_exporter": "python",
   "pygments_lexer": "ipython3",
   "version": "3.7.12"
  },
  "orig_nbformat": 4,
  "vscode": {
   "interpreter": {
    "hash": "6a8928d6b6a07e0ed465d32f5bf5af9b2ab2f88849a9b2672ccc4b697fae7c51"
   }
  }
 },
 "nbformat": 4,
 "nbformat_minor": 2
}
