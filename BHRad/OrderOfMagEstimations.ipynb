{
 "cells": [
  {
   "cell_type": "markdown",
   "id": "587ec290",
   "metadata": {},
   "source": [
    "# Original order-of-magnitude calculations"
   ]
  },
  {
   "cell_type": "code",
   "execution_count": null,
   "id": "edac99da",
   "metadata": {},
   "outputs": [],
   "source": [
    "from astropy import units as u\n",
    "from astropy import constants as c\n",
    "import numpy as np\n",
    "import matplotlib.pyplot as plt"
   ]
  },
  {
   "cell_type": "markdown",
   "id": "0b4af8e9",
   "metadata": {},
   "source": [
    "Proposed BH mass = {$10^5, 10^9,10^{12}$} kg\n",
    "\n",
    "Proposed BH number density = ${(\\frac{4}{3} \\pi d^3)}^{-1}$ where d = 0.015 pc\n",
    "\n",
    "BH mass density $\\rho_{BH} = M_{BH} {(\\frac{4}{3} \\pi d^3)}^{-1}$\n",
    "\n",
    "given homogeneous DM mass density 0.3 GeV / cm3\n",
    "\n",
    "fraction of DM which is BH = $\\frac{\\rho_{BH}}{\\rho_{DM}}$\n",
    "\n",
    "and lastly:\n",
    "\n",
    "Jfactor for galactic center $J_{GC} \\sim 10^{19} GeV/cm^2$"
   ]
  },
  {
   "cell_type": "markdown",
   "id": "615e2723",
   "metadata": {},
   "source": [
    "### <a id=\"stef\" style=\"color:black;\">Reproducing Stefano's calculations</a>\n",
    "\n",
    "galactic center BH mass column density $I_{GC} = J_{GC} \\frac{\\rho_{BH}}{\\rho_{DM}} * \\frac{1}{M_{BH}} = J_{GC} \\frac{1}{\\frac{4}{3} \\pi d^3}$ *making this equation invariant to the individual mass of the evaporating black hole*\n",
    "\n",
    "allow nearby BH flux $\\phi_{BH} = \\frac{\\phi_{\\gamma}}{4 \\pi d^2}$ noting that $\\phi_{\\gamma}$ represents initial BH flux\n",
    "\n",
    "by which $\\phi_{\\gamma} = 4 \\pi d^2 \\phi_{BH}$\n",
    "\n",
    "and the galactic center flux $\\phi_{GC} = \\phi_{\\gamma} \\frac{J_{GC}}{\\frac{4}{3} \\pi d^3} = 4 \\pi d^2 \\phi_{BH} \\frac{J_{GC}}{\\frac{4}{3} \\pi d^3}$\n",
    "\n",
    "which, again, the signal from the nearby BH is $\\phi_{BH} = \\frac{\\phi_{\\gamma}}{4 \\pi d^2}$ such that we want the ratio of signals \n",
    "\n",
    "$\\frac{\\phi_{GC}}{\\phi_{BH}} = 4 \\pi d^2 \\frac{J_{GC}}{\\frac{4}{3} \\pi d^3}$ cancelling out the individual BH flux\n",
    "\n",
    "Note: I keep the d's separate as they are composed of different units when calculated numerically below"
   ]
  },
  {
   "cell_type": "code",
   "execution_count": 16,
   "id": "293fd272",
   "metadata": {},
   "outputs": [
    {
     "name": "stdout",
     "output_type": "stream",
     "text": [
      "2.3578530003620492e+24 cm / pc3\n",
      "Signal from galactic center:  8.025370477243687e-32 1 / cm2\n",
      "Signal from nearby BH :  3.714555864689924e-35 1 / cm2\n",
      "Flux ratio: 2160.52\n",
      "Req'd distance for I_GC/I_bh = 1:  3e+19 GeV / cm2\n"
     ]
    }
   ],
   "source": [
    "# I go through the steps of introducing M_bh and cancelling it out.\n",
    "# The function at the end efficiently skips this step.\n",
    "M_bh = 10**7 * u.kg\n",
    "\n",
    "rho_bh = M_bh / (4/3* (3.14159) * (0.015 * u.pc)**3)\n",
    "\n",
    "#fracBH = rho_bh / (0.01 * c.M_sun * u.pc**-3)\n",
    "fracBH = rho_bh / (0.3 * u.GeV / (u.cm**3) )\n",
    "\n",
    "J = 10**19 * u.GeV * u.cm**(-2) \n",
    "\n",
    "I_GC = J * fracBH / M_bh\n",
    "\n",
    "I_GC = I_GC.to('1 / cm2')\n",
    "\n",
    "print('Signal from galactic center: ',I_GC)\n",
    "\n",
    "I_bh = 1 / (4* (3.14159) * (0.015 * u.pc)**2)\n",
    "\n",
    "I_bh = I_bh.to('1 / cm2')\n",
    "\n",
    "print('Signal from nearby BH : ',I_bh)\n",
    "\n",
    "print('Flux ratio: %.2f'%(I_GC/I_bh))\n",
    "\n",
    "print('Req\\'d distance for I_GC/I_bh = 1: ',3 * J)"
   ]
  },
  {
   "cell_type": "code",
   "execution_count": 4,
   "id": "78639267",
   "metadata": {},
   "outputs": [
    {
     "name": "stdout",
     "output_type": "stream",
     "text": [
      "again, we find flux ratio to be 2160.52\n"
     ]
    }
   ],
   "source": [
    "def flux_ratio(J , DM_density, BH_density):\n",
    "    \n",
    "    # Unit Check\n",
    "    J = J.to('GeV / cm2')\n",
    "    DM_density = DM_density.to('GeV / cm3')\n",
    "    BH_density = BH_density.to('cm')\n",
    "    \n",
    "    I_target = J / (DM_density * 4/3* (3.14159) * BH_density**3)\n",
    "    I_target = I_target.to('1 / cm2')\n",
    "    \n",
    "    I_bh = 1 / (4* (3.14159) * BH_density**2)\n",
    "    I_bh = I_bh.to('1 / cm2')\n",
    "    \n",
    "    return I_target/I_bh\n",
    "\n",
    "print('again, we find flux ratio to be %.2f'%flux_ratio(10**19 * u.GeV / u.cm**2, 0.3 * u.GeV / u.cm**3, (0.015 * u.pc) ))"
   ]
  },
  {
   "cell_type": "markdown",
   "id": "165a5bc6",
   "metadata": {},
   "source": [
    "### More precision with measured values\n",
    "\n",
    "Precision can be improved for values of the assumed homogeneous DM density and the GC J factor.\n",
    "\n",
    "$\\rho_{DM}$: [Determination of the local dark matter density in our Galaxy](https://www.aanda.org/articles/aa/pdf/2010/01/aa13381-09.pdf)\n",
    "\n",
    "$J_{GC}$: [Jeltema, Profumo](https://arxiv.org/abs/1408.1699)"
   ]
  },
  {
   "cell_type": "code",
   "execution_count": 5,
   "id": "466eb561",
   "metadata": {},
   "outputs": [
    {
     "name": "stdout",
     "output_type": "stream",
     "text": [
      "Lower bound DM density:\n",
      "BUR_PN 1267.14\n",
      "BUR_MOS 1221.77\n",
      "NFW_PN 4050.97\n",
      "NFW_MOS 3953.75\n",
      "EIN_PN 4828.76\n",
      "EIN_MOS 4666.72\n",
      "\n",
      "Upper bound:\n",
      "BUR_PN 633.57\n",
      "BUR_MOS 610.89\n",
      "NFW_PN 2025.49\n",
      "NFW_MOS 1976.88\n",
      "EIN_PN 2414.38\n",
      "EIN_MOS 2333.36\n"
     ]
    }
   ],
   "source": [
    "DM_density = [0.2, 0.4] * u.GeV / u.cm**3\n",
    "\n",
    "unit = 10**18 * u.GeV / u.cm**2\n",
    "J_factors = {\n",
    "    'BUR_PN': 3.91, 'BUR_MOS': 3.77,\n",
    "    'NFW_PN': 12.5, 'NFW_MOS': 12.2,\n",
    "    'EIN_PN': 14.9, 'EIN_MOS': 14.4\n",
    "}\n",
    "\n",
    "def test_limits(density):\n",
    "    for k,v in J_factors.items():\n",
    "        print('%s %.2f'%(k,flux_ratio(v*unit, density, 0.015*u.pc )))\n",
    "        \n",
    "print('Lower bound DM density:')\n",
    "test_limits(DM_density[0])\n",
    "\n",
    "print('\\nUpper bound:')\n",
    "test_limits(DM_density[1])"
   ]
  },
  {
   "cell_type": "markdown",
   "id": "822bc12a",
   "metadata": {},
   "source": [
    "$M = M_{10} \\times 10^{10}g \\to \\frac{dM}{dM_{10}} = 10^{10}g$\n",
    "\n",
    "$\\frac{dM_{10}}{dt} = -5.34 \\times 10^{-5} f(M) M_{10}^{-2} s^{-1}$ where f(M) = 0.06 * 2\n",
    "\n",
    "$\\frac{dM_{10}}{dt}\\frac{dM}{dM_{10}} = \\frac{dM}{dt} = 10^{10}g \\times (-5.34 \\times 10^{-5}) f(M) M_{10}^{-2} s^{-1}$\n",
    "\n",
    "$\\approx -5.34 \\times 10^4 g/s M_{10}^{-2}$"
   ]
  },
  {
   "cell_type": "code",
   "execution_count": 6,
   "id": "c6755eba",
   "metadata": {},
   "outputs": [
    {
     "name": "stdout",
     "output_type": "stream",
     "text": [
      "-6.408000e+04 g / s M_10^-2\n"
     ]
    }
   ],
   "source": [
    "ddt_M = 10**10 * u.g * -5.34 * 10**-5 * (0.06 * 2) / u.s # * M_10^-2\n",
    "\n",
    "print('%2e %s M_10^-2'%(ddt_M.value, ddt_M.unit))"
   ]
  },
  {
   "cell_type": "markdown",
   "id": "6594f720",
   "metadata": {},
   "source": [
    "$E_\\gamma = T \\approx 1.06 TeV * M_{10}^{-1}$\n",
    "\n",
    "$E_\\gamma \\times |\\frac{dM}{dt}| = \\phi_\\gamma \\approx 1.06 TeV \\times 5.34 \\times 10^4 g/s M_{10}^{-3}$"
   ]
  },
  {
   "cell_type": "code",
   "execution_count": 7,
   "id": "02787f57",
   "metadata": {},
   "outputs": [
    {
     "name": "stdout",
     "output_type": "stream",
     "text": [
      "3.396240e+25 g2 / s M_10^-3\n"
     ]
    }
   ],
   "source": [
    "TeV = 5*10**20 *u.g\n",
    "\n",
    "flux = 1.06 * TeV * np.abs(ddt_M) # * M_10^-3\n",
    "\n",
    "print('%2e %s M_10^-3'%(flux.value, flux.unit))"
   ]
  },
  {
   "cell_type": "markdown",
   "id": "fe0eeafd",
   "metadata": {},
   "source": [
    "<!-- recall from above $\\frac{\\phi_{GC}}{\\phi_{BH}} = 4 \\pi d^2 \\frac{J_{GC}}{\\frac{4}{3} \\pi d^3}$ which we defined as flux_ratio() -->\n",
    "\n",
    "from $\\phi_\\gamma$, allow $M_{10}^{-3} = (\\frac{10^{10}g}{M_{EBH}})^3$\n",
    "\n",
    "such that $\\phi_\\gamma \\approx 3.3 \\times 10^{25} \\frac{10^{30}g^3}{M_{EBH}^3}$\n",
    "\n",
    "for meaningful detection, $\\frac{|\\phi_\\gamma|}{4\\pi d^2} < 10^{-15} cm^{-2}s^{-1}$ where RHS is telescope resolution\n",
    "\n",
    "which can be solved for $d < (\\frac{4 \\pi 10^{-15} cm^{-2} s^{-1}}{|\\phi_\\gamma|})^\\frac{1}{2}$"
   ]
  },
  {
   "cell_type": "code",
   "execution_count": 8,
   "id": "9aeb727d",
   "metadata": {},
   "outputs": [
    {
     "name": "stdout",
     "output_type": "stream",
     "text": [
      "6.756610506144978e+21 g2 / (cm2 s)\n"
     ]
    }
   ],
   "source": [
    "flux_M = lambda M: flux * 10**30 * u.g**3 / M**(3)\n",
    "\n",
    "func_Md = lambda M,d: flux_M(M) / (4* 3.14159 * d**2)\n",
    "\n",
    "func_M = lambda M: np.sqrt(4 * 3.14159 * 10**(-15) * u.cm**-2 * u.s**-1 / flux_M(M))\n",
    "\n",
    "# for example, for d=20cm, M=10**7kg\n",
    "print(func_Md(M = 10**7 * u.kg, d = 20 * u.cm).to('g2 / cm2 s'))"
   ]
  },
  {
   "cell_type": "markdown",
   "id": "e79fe089",
   "metadata": {},
   "source": [
    "In the following figure, we plot the above equation for d(M), for distance vs. BH mass.\n",
    "\n",
    "Any black holes in the domain BELOW the blue line are discoverable by a telescope of resolution >$10^{-15} cm^{-2}s^{-1}$"
   ]
  },
  {
   "cell_type": "code",
   "execution_count": 11,
   "id": "254644c0",
   "metadata": {
    "scrolled": false
   },
   "outputs": [
    {
     "data": {
      "image/png": "[encoded data removed]",
      "text/plain": [
       "<Figure size 432x288 with 1 Axes>"
      ]
     },
     "metadata": {
      "needs_background": "light"
     },
     "output_type": "display_data"
    }
   ],
   "source": [
    "M = np.linspace(10**10, 10**12) * u.kg\n",
    "\n",
    "F_d = 1/func_M(M).to('1 / (cm g)')\n",
    "plt.plot([5*1e11,5*1e11],[min(F_d), max(F_d)], label=r'5\\times 10^{14}g')\n",
    "\n",
    "plt.loglog(M, F_d, label='Distance maximum')\n",
    "plt.xlabel('Mass kg')\n",
    "plt.ylabel('Distance %s'%F_d.unit)\n",
    "plt.legend()\n",
    "plt.show()"
   ]
  },
  {
   "cell_type": "markdown",
   "id": "0ff99d23",
   "metadata": {},
   "source": [
    "---- "
   ]
  }
 ],
 "metadata": {
  "kernelspec": {
   "display_name": "Python 3 (ipykernel)",
   "language": "python",
   "name": "python3"
  },
  "language_info": {
   "codemirror_mode": {
    "name": "ipython",
    "version": 3
   },
   "file_extension": ".py",
   "mimetype": "text/x-python",
   "name": "python",
   "nbconvert_exporter": "python",
   "pygments_lexer": "ipython3",
   "version": "3.7.12"
  }
 },
 "nbformat": 4,
 "nbformat_minor": 5
}
