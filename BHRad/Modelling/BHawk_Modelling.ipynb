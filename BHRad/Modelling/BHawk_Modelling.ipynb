{
 "cells": [
  {
   "cell_type": "code",
   "execution_count": 431,
   "metadata": {},
   "outputs": [],
   "source": [
    "import pandas as pd\n",
    "import numpy as np\n",
    "import plotly.express as px\n",
    "import matplotlib.pyplot as plt\n",
    "\n",
    "from sklearn.pipeline import Pipeline\n",
    "from sklearn.linear_model import LinearRegression\n",
    "from sklearn.preprocessing import PolynomialFeatures\n",
    "from sklearn.model_selection import GridSearchCV"
   ]
  },
  {
   "cell_type": "markdown",
   "metadata": {},
   "source": [
    "Read in and process dataset for photon flux."
   ]
  },
  {
   "cell_type": "code",
   "execution_count": 395,
   "metadata": {},
   "outputs": [
    {
     "data": {
      "text/html": [
       "<div>\n",
       "<style scoped>\n",
       "    .dataframe tbody tr th:only-of-type {\n",
       "        vertical-align: middle;\n",
       "    }\n",
       "\n",
       "    .dataframe tbody tr th {\n",
       "        vertical-align: top;\n",
       "    }\n",
       "\n",
       "    .dataframe thead th {\n",
       "        text-align: right;\n",
       "    }\n",
       "</style>\n",
       "<table border=\"1\" class=\"dataframe\">\n",
       "  <thead>\n",
       "    <tr style=\"text-align: right;\">\n",
       "      <th></th>\n",
       "      <th>Time to Death</th>\n",
       "      <th>Mass</th>\n",
       "      <th>GBM NaI</th>\n",
       "      <th>GBM BGO</th>\n",
       "      <th>EdndE-8keV</th>\n",
       "      <th>EdndE-200keV</th>\n",
       "      <th>EdndE-1MeV</th>\n",
       "      <th>EdndE-40MeV</th>\n",
       "      <th>EdndE-200GeV</th>\n",
       "    </tr>\n",
       "  </thead>\n",
       "  <tbody>\n",
       "    <tr>\n",
       "      <th>0</th>\n",
       "      <td>4.950000e+08</td>\n",
       "      <td>1.000000e+12</td>\n",
       "      <td>1.04</td>\n",
       "      <td>0.0959</td>\n",
       "      <td>7.670000e-07</td>\n",
       "      <td>1.530000e-10</td>\n",
       "      <td>1.530000e-13</td>\n",
       "      <td>6.140000e-15</td>\n",
       "      <td>1.230000e-12</td>\n",
       "    </tr>\n",
       "    <tr>\n",
       "      <th>1</th>\n",
       "      <td>4.950000e+08</td>\n",
       "      <td>1.000000e+12</td>\n",
       "      <td>1.04</td>\n",
       "      <td>0.0959</td>\n",
       "      <td>7.670000e-07</td>\n",
       "      <td>1.530000e-10</td>\n",
       "      <td>1.530000e-13</td>\n",
       "      <td>6.140000e-15</td>\n",
       "      <td>1.230000e-12</td>\n",
       "    </tr>\n",
       "    <tr>\n",
       "      <th>2</th>\n",
       "      <td>4.950000e+08</td>\n",
       "      <td>1.000000e+12</td>\n",
       "      <td>1.04</td>\n",
       "      <td>0.0959</td>\n",
       "      <td>7.670000e-07</td>\n",
       "      <td>1.530000e-10</td>\n",
       "      <td>1.530000e-13</td>\n",
       "      <td>6.140000e-15</td>\n",
       "      <td>1.230000e-12</td>\n",
       "    </tr>\n",
       "    <tr>\n",
       "      <th>3</th>\n",
       "      <td>4.950000e+08</td>\n",
       "      <td>1.000000e+12</td>\n",
       "      <td>1.04</td>\n",
       "      <td>0.0959</td>\n",
       "      <td>7.670000e-07</td>\n",
       "      <td>1.530000e-10</td>\n",
       "      <td>1.530000e-13</td>\n",
       "      <td>6.140000e-15</td>\n",
       "      <td>1.230000e-12</td>\n",
       "    </tr>\n",
       "    <tr>\n",
       "      <th>4</th>\n",
       "      <td>4.950000e+08</td>\n",
       "      <td>1.000000e+12</td>\n",
       "      <td>1.04</td>\n",
       "      <td>0.0959</td>\n",
       "      <td>7.670000e-07</td>\n",
       "      <td>1.530000e-10</td>\n",
       "      <td>1.530000e-13</td>\n",
       "      <td>6.140000e-15</td>\n",
       "      <td>1.230000e-12</td>\n",
       "    </tr>\n",
       "    <tr>\n",
       "      <th>...</th>\n",
       "      <td>...</td>\n",
       "      <td>...</td>\n",
       "      <td>...</td>\n",
       "      <td>...</td>\n",
       "      <td>...</td>\n",
       "      <td>...</td>\n",
       "      <td>...</td>\n",
       "      <td>...</td>\n",
       "      <td>...</td>\n",
       "    </tr>\n",
       "    <tr>\n",
       "      <th>807</th>\n",
       "      <td>2.340000e-15</td>\n",
       "      <td>1.760000e+04</td>\n",
       "      <td>37.80</td>\n",
       "      <td>2.5600</td>\n",
       "      <td>2.040000e-05</td>\n",
       "      <td>4.090000e-09</td>\n",
       "      <td>4.090000e-12</td>\n",
       "      <td>1.640000e-13</td>\n",
       "      <td>3.270000e-11</td>\n",
       "    </tr>\n",
       "    <tr>\n",
       "      <th>808</th>\n",
       "      <td>1.490000e-15</td>\n",
       "      <td>1.650000e+04</td>\n",
       "      <td>37.80</td>\n",
       "      <td>2.5600</td>\n",
       "      <td>2.040000e-05</td>\n",
       "      <td>4.090000e-09</td>\n",
       "      <td>4.090000e-12</td>\n",
       "      <td>1.640000e-13</td>\n",
       "      <td>3.270000e-11</td>\n",
       "    </tr>\n",
       "    <tr>\n",
       "      <th>809</th>\n",
       "      <td>1.060000e-15</td>\n",
       "      <td>1.520000e+04</td>\n",
       "      <td>37.80</td>\n",
       "      <td>2.5600</td>\n",
       "      <td>2.040000e-05</td>\n",
       "      <td>4.090000e-09</td>\n",
       "      <td>4.090000e-12</td>\n",
       "      <td>1.640000e-13</td>\n",
       "      <td>3.270000e-11</td>\n",
       "    </tr>\n",
       "    <tr>\n",
       "      <th>810</th>\n",
       "      <td>6.380000e-16</td>\n",
       "      <td>1.370000e+04</td>\n",
       "      <td>37.80</td>\n",
       "      <td>2.5600</td>\n",
       "      <td>2.040000e-05</td>\n",
       "      <td>4.090000e-09</td>\n",
       "      <td>4.090000e-12</td>\n",
       "      <td>1.640000e-13</td>\n",
       "      <td>3.270000e-11</td>\n",
       "    </tr>\n",
       "    <tr>\n",
       "      <th>811</th>\n",
       "      <td>2.130000e-16</td>\n",
       "      <td>1.280000e+04</td>\n",
       "      <td>37.80</td>\n",
       "      <td>2.5600</td>\n",
       "      <td>2.040000e-05</td>\n",
       "      <td>4.090000e-09</td>\n",
       "      <td>4.090000e-12</td>\n",
       "      <td>1.640000e-13</td>\n",
       "      <td>3.270000e-11</td>\n",
       "    </tr>\n",
       "  </tbody>\n",
       "</table>\n",
       "<p>812 rows × 9 columns</p>\n",
       "</div>"
      ],
      "text/plain": [
       "     Time to Death          Mass  GBM NaI  GBM BGO    EdndE-8keV  \\\n",
       "0     4.950000e+08  1.000000e+12     1.04   0.0959  7.670000e-07   \n",
       "1     4.950000e+08  1.000000e+12     1.04   0.0959  7.670000e-07   \n",
       "2     4.950000e+08  1.000000e+12     1.04   0.0959  7.670000e-07   \n",
       "3     4.950000e+08  1.000000e+12     1.04   0.0959  7.670000e-07   \n",
       "4     4.950000e+08  1.000000e+12     1.04   0.0959  7.670000e-07   \n",
       "..             ...           ...      ...      ...           ...   \n",
       "807   2.340000e-15  1.760000e+04    37.80   2.5600  2.040000e-05   \n",
       "808   1.490000e-15  1.650000e+04    37.80   2.5600  2.040000e-05   \n",
       "809   1.060000e-15  1.520000e+04    37.80   2.5600  2.040000e-05   \n",
       "810   6.380000e-16  1.370000e+04    37.80   2.5600  2.040000e-05   \n",
       "811   2.130000e-16  1.280000e+04    37.80   2.5600  2.040000e-05   \n",
       "\n",
       "     EdndE-200keV    EdndE-1MeV   EdndE-40MeV  EdndE-200GeV  \n",
       "0    1.530000e-10  1.530000e-13  6.140000e-15  1.230000e-12  \n",
       "1    1.530000e-10  1.530000e-13  6.140000e-15  1.230000e-12  \n",
       "2    1.530000e-10  1.530000e-13  6.140000e-15  1.230000e-12  \n",
       "3    1.530000e-10  1.530000e-13  6.140000e-15  1.230000e-12  \n",
       "4    1.530000e-10  1.530000e-13  6.140000e-15  1.230000e-12  \n",
       "..            ...           ...           ...           ...  \n",
       "807  4.090000e-09  4.090000e-12  1.640000e-13  3.270000e-11  \n",
       "808  4.090000e-09  4.090000e-12  1.640000e-13  3.270000e-11  \n",
       "809  4.090000e-09  4.090000e-12  1.640000e-13  3.270000e-11  \n",
       "810  4.090000e-09  4.090000e-12  1.640000e-13  3.270000e-11  \n",
       "811  4.090000e-09  4.090000e-12  1.640000e-13  3.270000e-11  \n",
       "\n",
       "[812 rows x 9 columns]"
      ]
     },
     "execution_count": 395,
     "metadata": {},
     "output_type": "execute_result"
    }
   ],
   "source": [
    "data = pd.read_csv('./Blackhawk/t90_hardness_ratio/hardnessratios.tex', sep='\\t')\n",
    "data"
   ]
  },
  {
   "cell_type": "code",
   "execution_count": 503,
   "metadata": {},
   "outputs": [
    {
     "data": {
      "text/plain": [
       "(400.0, -1.0)"
      ]
     },
     "execution_count": 503,
     "metadata": {},
     "output_type": "execute_result"
    },
    {
     "data": {
      "image/png": "[encoded data removed]",
      "text/plain": [
       "<Figure size 640x480 with 1 Axes>"
      ]
     },
     "metadata": {},
     "output_type": "display_data"
    }
   ],
   "source": [
    "# Show the lightcurves\n",
    "\n",
    "fig, ax = plt.subplots()\n",
    "\n",
    "x = data['Time to Death']\n",
    "\n",
    "#ax.scatter(x, data['EdndE-8keV'], label = '8 keV', marker='x', alpha=0.7)\n",
    "ax.scatter(x, data['EdndE-200keV'], label = '200 keV', marker='x', alpha=0.7)\n",
    "#ax.scatter(x, data['EdndE-1MeV'], label = '1 MeV', marker='x', alpha=0.7)\n",
    "#ax.scatter(x, data['EdndE-40MeV'], label = '40 MeV', marker='x', alpha=0.7)\n",
    "#ax.scatter(x, data['EdndE-200GeV'], label = '200 GeV', marker='x', alpha=0.7)\n",
    "\n",
    "ax.legend()\n",
    "\n",
    "ax.set_yscale('log')\n",
    "#ax.set_xscale('log')\n",
    "\n",
    "ax.set_xlim(400, -1)"
   ]
  },
  {
   "cell_type": "code",
   "execution_count": 505,
   "metadata": {},
   "outputs": [
    {
     "data": {
      "text/plain": [
       "GridSearchCV(estimator=Pipeline(steps=(('pf', PolynomialFeatures()),\n",
       "                                       ('lr', LinearRegression()))),\n",
       "             param_grid={'pf__degree': array([1, 2, 3, 4, 5])},\n",
       "             scoring='neg_mean_squared_error')"
      ]
     },
     "execution_count": 505,
     "metadata": {},
     "output_type": "execute_result"
    }
   ],
   "source": [
    "# Let's just focus on fitting the 200GeV and 200keV lines\n",
    "\n",
    "# Create models\n",
    "model_kev = Pipeline((\n",
    "    ('pf', PolynomialFeatures()),\n",
    "    ('lr', LinearRegression())\n",
    "))\n",
    "model_gev = Pipeline((\n",
    "    ('pf', PolynomialFeatures()),\n",
    "    ('lr', LinearRegression())\n",
    "))\n",
    "\n",
    "param_space = {'pf__degree':np.arange(1,6)}\n",
    "\n",
    "# Prepare data\n",
    "kev = data[['Time to Death','EdndE-200keV']].loc[ data['Time to Death'] < 400]\n",
    "kev['EdndE-200keV'] = np.log(kev['EdndE-200keV'])\n",
    "gev = data[['Time to Death','EdndE-200GeV']].loc[ data['Time to Death'] < 400]\n",
    "gev['EdndE-200GeV'] = np.log(gev['EdndE-200GeV'])\n",
    "\n",
    "search_kev = GridSearchCV(estimator = model_kev, param_grid = param_space, scoring = 'neg_mean_squared_error')\n",
    "\n",
    "search_kev.fit(X = kev[['Time to Death']], y = kev['EdndE-200keV'])"
   ]
  },
  {
   "cell_type": "code",
   "execution_count": 506,
   "metadata": {},
   "outputs": [
    {
     "name": "stdout",
     "output_type": "stream",
     "text": [
      "[ 0.         -0.00347285]\n",
      "-19.261875969431028\n"
     ]
    },
    {
     "data": {
      "image/png": "[encoded data removed]",
      "text/plain": [
       "<Figure size 640x480 with 1 Axes>"
      ]
     },
     "metadata": {},
     "output_type": "display_data"
    }
   ],
   "source": [
    "best_model = search_kev.best_estimator_\n",
    "\n",
    "coefs = best_model['lr'].coef_\n",
    "interc = best_model['lr'].intercept_\n",
    "\n",
    "fig, ax = plt.subplots()\n",
    "\n",
    "t = kev['Time to Death']\n",
    "ax.scatter(t, kev['EdndE-200keV'], label = 'data', marker='x', alpha=0.7)\n",
    "model = interc\n",
    "for i in range(len(coefs)-1):\n",
    "    model += coefs[i+1]*t**(i+1)\n",
    "ax.plot(t, model)\n",
    "\n",
    "print(coefs)\n",
    "print(interc)"
   ]
  },
  {
   "cell_type": "code",
   "execution_count": 522,
   "metadata": {},
   "outputs": [
    {
     "data": {
      "text/plain": [
       "[<matplotlib.lines.Line2D at 0x7f9c8d083c90>]"
      ]
     },
     "execution_count": 522,
     "metadata": {},
     "output_type": "execute_result"
    },
    {
     "data": {
      "image/png": "[encoded data removed]",
      "text/plain": [
       "<Figure size 640x480 with 1 Axes>"
      ]
     },
     "metadata": {},
     "output_type": "display_data"
    }
   ],
   "source": [
    "plt.scatter(kev['Time to Death'], np.exp(kev['EdndE-200keV']))\n",
    "\n",
    "plt.plot(kev['Time to Death'], np.exp(kev['Time to Death'] * coefs[1] + interc) , color = 'black')"
   ]
  },
  {
   "cell_type": "code",
   "execution_count": null,
   "metadata": {},
   "outputs": [],
   "source": []
  }
 ],
 "metadata": {
  "kernelspec": {
   "display_name": "Python 3.7.12 ('threeML')",
   "language": "python",
   "name": "python3"
  },
  "language_info": {
   "codemirror_mode": {
    "name": "ipython",
    "version": 3
   },
   "file_extension": ".py",
   "mimetype": "text/x-python",
   "name": "python",
   "nbconvert_exporter": "python",
   "pygments_lexer": "ipython3",
   "version": "3.7.12"
  },
  "orig_nbformat": 4,
  "vscode": {
   "interpreter": {
    "hash": "6a8928d6b6a07e0ed465d32f5bf5af9b2ab2f88849a9b2672ccc4b697fae7c51"
   }
  }
 },
 "nbformat": 4,
 "nbformat_minor": 2
}
